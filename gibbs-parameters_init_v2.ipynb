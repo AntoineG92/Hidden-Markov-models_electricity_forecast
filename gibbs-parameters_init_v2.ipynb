{
 "cells": [
  {
   "cell_type": "code",
   "execution_count": 62,
   "metadata": {},
   "outputs": [],
   "source": [
    "import pandas as pd\n",
    "import numpy as np\n",
    "from scipy.stats import truncnorm, invgamma\n",
    "import pickle\n",
    "import time\n",
    "import math"
   ]
  },
  {
   "cell_type": "markdown",
   "metadata": {},
   "source": [
    "### Load temperatures data"
   ]
  },
  {
   "cell_type": "code",
   "execution_count": 2,
   "metadata": {},
   "outputs": [],
   "source": [
    "df_temp=pd.read_csv('data/temp_2016.csv',sep=',')\n",
    "df_temp=df_temp.drop(df_temp.columns[0],axis=1)\n",
    "df_temp=df_temp.sort_values(by='date')"
   ]
  },
  {
   "cell_type": "code",
   "execution_count": 3,
   "metadata": {},
   "outputs": [],
   "source": [
    "#temperatures every day at 3pm\n",
    "temp_day=df_temp[df_temp.hour==\"15:00\"]\n",
    "temp_day.head()\n",
    "T_h=list(temp_day.t)"
   ]
  },
  {
   "cell_type": "markdown",
   "metadata": {},
   "source": [
    "### Load electricity data"
   ]
  },
  {
   "cell_type": "code",
   "execution_count": 4,
   "metadata": {},
   "outputs": [],
   "source": [
    "mypath=\"data/\"\n",
    "df=pd.read_csv(mypath+\"cdc_conso_daytypes.csv\",sep=\",\",encoding='latin-1')\n",
    "df.index=range(0,len(df))"
   ]
  },
  {
   "cell_type": "code",
   "execution_count": 5,
   "metadata": {},
   "outputs": [],
   "source": [
    "df=df.sort_values(by=['Date'])\n",
    "df.index=range(0,len(df))\n",
    "#Valeurs intermédiaires à partir de 2017"
   ]
  },
  {
   "cell_type": "code",
   "execution_count": 6,
   "metadata": {},
   "outputs": [],
   "source": [
    "#On se concentre d'abord sur une année afin d'initialiser le filtre\n",
    "df=df[(df.Date >'2016-01-01') & (df.Date <'2017-01-01')]\n",
    "df.index=range(0,len(df))"
   ]
  },
  {
   "cell_type": "markdown",
   "metadata": {},
   "source": [
    "# Gibbs Sampling\n",
    "\n",
    "## Parameters required"
   ]
  },
  {
   "cell_type": "code",
   "execution_count": 33,
   "metadata": {},
   "outputs": [
    {
     "data": {
      "text/plain": [
       "13.624020667916607"
      ]
     },
     "execution_count": 33,
     "metadata": {},
     "output_type": "execute_result"
    }
   ],
   "source": [
    "nb_days = 15\n",
    "temperatures = T_h[:nb_days] #france mean temp in jan 2016\n",
    "daytypes = list(df[df['Heure']=='15:00']['daytype'][:nb_days])\n",
    "consumptions = list(df[df['Heure']=='15:00']['Consommation (MW)'][:nb_days])\n",
    "nb_particles = 10**5\n",
    "\n",
    "sigma2 = invgamma.rvs(a=10**(-2), scale=10**(2), size = 1)[0]\n",
    "\n",
    "N_daytype = 9\n",
    "k_day = np.random.dirichlet(np.ones(N_daytype),1)\n",
    "kappa = k_day[0].tolist()\n",
    "\n",
    "u_heat = np.random.normal(14,1)  #fixed parameter, invariant to time"
   ]
  },
  {
   "cell_type": "code",
   "execution_count": 34,
   "metadata": {},
   "outputs": [
    {
     "name": "stdout",
     "output_type": "stream",
     "text": [
      "The autoreload extension is already loaded. To reload it, use:\n",
      "  %reload_ext autoreload\n"
     ]
    }
   ],
   "source": [
    "%load_ext autoreload\n",
    "%autoreload 2\n",
    "from elec_forecast.bootstrap_filter_model import BootstrapFilterModel"
   ]
  },
  {
   "cell_type": "code",
   "execution_count": 55,
   "metadata": {},
   "outputs": [],
   "source": [
    "#Data from last year's group\n",
    "u_heat = 7.3\n",
    "kappa = np.array([1/9]*9)\n",
    "sigma2 = 27000000\n",
    "sigma2_s_param = 79000000\n",
    "sigma2_g_param = 127000000\n",
    "nb_particles = 10000\n",
    "#len_filtering = 1000"
   ]
  },
  {
   "cell_type": "code",
   "execution_count": 56,
   "metadata": {},
   "outputs": [],
   "source": [
    "#Execute Gibbs sampling\n",
    "BFM = BootstrapFilterModel(temperatures,daytypes,consumptions,nb_days,nb_particles,sigma2,kappa,u_heat)"
   ]
  },
  {
   "cell_type": "code",
   "execution_count": 57,
   "metadata": {
    "scrolled": true
   },
   "outputs": [
    {
     "name": "stdout",
     "output_type": "stream",
     "text": [
      "Gibbs sampling for particle 1/10000\n",
      "Gibbs sampling for particle 1000/10000\n",
      "Gibbs sampling for particle 2000/10000\n",
      "Gibbs sampling for particle 3000/10000\n",
      "Gibbs sampling for particle 4000/10000\n",
      "Gibbs sampling for particle 5000/10000\n",
      "Gibbs sampling for particle 6000/10000\n",
      "Gibbs sampling for particle 7000/10000\n",
      "Gibbs sampling for particle 8000/10000\n",
      "Gibbs sampling for particle 9000/10000\n",
      "--- 35.17565727233887 seconds ---\n"
     ]
    }
   ],
   "source": [
    "start_time = time.time()\n",
    "BFM.bf_initialization_gibbs()\n",
    "print(\"--- %s seconds ---\" % (time.time() - start_time))"
   ]
  },
  {
   "cell_type": "code",
   "execution_count": 26,
   "metadata": {},
   "outputs": [
    {
     "data": {
      "text/plain": [
       "dict_keys(['temperatures', 'daytypes', 'consumptions', 'nb_days', 'nb_particles', 'sigma2', 'kappa', 'u_heat', 's', 'g_heat', 'sigma_s_star_2', 'sigma_g_star_2', 'x_season', 'x_heat', 'x', 'w'])"
      ]
     },
     "execution_count": 26,
     "metadata": {},
     "output_type": "execute_result"
    }
   ],
   "source": [
    "variables = BFM.__dict__.keys()\n",
    "variables"
   ]
  },
  {
   "cell_type": "code",
   "execution_count": 60,
   "metadata": {},
   "outputs": [
    {
     "data": {
      "text/plain": [
       "array([  2.82190226e+07,   1.93865926e+06,   6.21578137e+05, ...,\n",
       "         1.60501798e-07,   6.44060718e-08,   9.09615775e-08])"
      ]
     },
     "execution_count": 60,
     "metadata": {},
     "output_type": "execute_result"
    }
   ],
   "source": [
    "BFM.x"
   ]
  },
  {
   "cell_type": "code",
   "execution_count": 61,
   "metadata": {},
   "outputs": [
    {
     "data": {
      "text/plain": [
       "15.114924235721189"
      ]
     },
     "execution_count": 61,
     "metadata": {},
     "output_type": "execute_result"
    }
   ],
   "source": [
    "sum(BFM.w)"
   ]
  },
  {
   "cell_type": "code",
   "execution_count": 64,
   "metadata": {},
   "outputs": [],
   "source": [
    "#Write initial parameters from Gibbs sampling in a file\n",
    "timestr = time.strftime(\"%Y%m%d-%H%M%S\")\n",
    "\n",
    "output_file ='data/parameters_init_' + timestr + '.pkl'\n",
    "parameters = {\n",
    "    's_init':BFM.s[nb_days-1,],\n",
    "    'g_heat_init':BFM.g_heat[nb_days-1,:],\n",
    "    'sigma_s_init':np.sqrt(BFM.sigma_s_star_2[0,nb_particles-1]),\n",
    "    'sigma_g_init':np.sqrt(BFM.sigma_g_star_2[0,nb_particles-1]),\n",
    "    'x_init':BFM.x,\n",
    "    'w_init':BFM.w,\n",
    "    'sigma2': sigma2,\n",
    "    'u_h':u_heat,\n",
    "    'kappa': kappa\n",
    "}\n",
    "output = open(output_file, 'wb')\n",
    "pickle.dump(parameters, output)\n",
    "output.close()"
   ]
  },
  {
   "cell_type": "raw",
   "metadata": {},
   "source": [
    "#Steps to Load pickle file\n",
    "input_file ='data/parameters_init.pkl'\n",
    "pkl_file = open(input_file, 'rb')\n",
    "parameters_init = pickle.load(pkl_file)\n",
    "parameters_init"
   ]
  }
 ],
 "metadata": {
  "kernelspec": {
   "display_name": "Python 3",
   "language": "python",
   "name": "python3"
  },
  "language_info": {
   "codemirror_mode": {
    "name": "ipython",
    "version": 3
   },
   "file_extension": ".py",
   "mimetype": "text/x-python",
   "name": "python",
   "nbconvert_exporter": "python",
   "pygments_lexer": "ipython3",
   "version": "3.6.3"
  }
 },
 "nbformat": 4,
 "nbformat_minor": 2
}
