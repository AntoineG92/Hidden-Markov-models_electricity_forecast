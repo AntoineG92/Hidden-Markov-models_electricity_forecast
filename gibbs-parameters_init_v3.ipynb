{
 "cells": [
  {
   "cell_type": "code",
   "execution_count": 55,
   "metadata": {
    "collapsed": true
   },
   "outputs": [],
   "source": [
    "import pandas as pd\n",
    "import numpy as np\n",
    "from scipy.stats import truncnorm, invgamma, norm\n",
    "import pickle\n",
    "import time\n",
    "import math"
   ]
  },
  {
   "cell_type": "code",
   "execution_count": 3,
   "metadata": {
    "collapsed": false
   },
   "outputs": [
    {
     "name": "stdout",
     "output_type": "stream",
     "text": [
      "The autoreload extension is already loaded. To reload it, use:\n",
      "  %reload_ext autoreload\n"
     ]
    }
   ],
   "source": [
    "%load_ext autoreload\n",
    "%autoreload 2\n",
    "from elec_forecast.bootstrap_filter_model import BootstrapFilterModel\n",
    "from elec_forecast.rm_estimation import RmEstimation"
   ]
  },
  {
   "cell_type": "markdown",
   "metadata": {},
   "source": [
    "### Load temperatures data"
   ]
  },
  {
   "cell_type": "code",
   "execution_count": 2,
   "metadata": {
    "collapsed": true
   },
   "outputs": [],
   "source": [
    "df_temp=pd.read_csv('data/temp_2016.csv',sep=',')\n",
    "df_temp=df_temp.drop(df_temp.columns[0],axis=1)\n",
    "df_temp=df_temp.sort_values(by='date')"
   ]
  },
  {
   "cell_type": "code",
   "execution_count": 3,
   "metadata": {
    "collapsed": true
   },
   "outputs": [],
   "source": [
    "#temperatures every day at 3pm\n",
    "temp_day=df_temp[df_temp.hour==\"15:00\"]\n",
    "temp_day.head()\n",
    "T_h=list(temp_day.t)"
   ]
  },
  {
   "cell_type": "markdown",
   "metadata": {},
   "source": [
    "### Load electricity data"
   ]
  },
  {
   "cell_type": "code",
   "execution_count": 4,
   "metadata": {
    "collapsed": true
   },
   "outputs": [],
   "source": [
    "mypath=\"data/\"\n",
    "df=pd.read_csv(mypath+\"cdc_conso_daytypes.csv\",sep=\",\",encoding='latin-1')\n",
    "df.index=range(0,len(df))"
   ]
  },
  {
   "cell_type": "code",
   "execution_count": 5,
   "metadata": {
    "collapsed": true
   },
   "outputs": [],
   "source": [
    "df=df.sort_values(by=['Date'])\n",
    "df.index=range(0,len(df))\n",
    "#Valeurs intermédiaires à partir de 2017"
   ]
  },
  {
   "cell_type": "code",
   "execution_count": 6,
   "metadata": {
    "collapsed": true
   },
   "outputs": [],
   "source": [
    "#On se concentre d'abord sur une année afin d'initialiser le filtre\n",
    "df=df[(df.Date >'2016-01-01') & (df.Date <'2017-01-01')]\n",
    "df.index=range(0,len(df))"
   ]
  },
  {
   "cell_type": "markdown",
   "metadata": {},
   "source": [
    "# Gibbs Sampling\n",
    "\n",
    "## Parameters required"
   ]
  },
  {
   "cell_type": "code",
   "execution_count": 7,
   "metadata": {
    "collapsed": false
   },
   "outputs": [],
   "source": [
    "nb_days = 15\n",
    "temperatures = T_h[:nb_days] #france mean temp in jan 2016\n",
    "daytypes = list(df[df['Heure']=='15:00']['daytype'][:nb_days])\n",
    "consumptions = list(df[df['Heure']=='15:00']['Consommation (MW)'][:nb_days])\n",
    "nb_particles = 10**5\n",
    "\n",
    "sigma2 = invgamma.rvs(a=10**(-2), scale=10**(2), size = 1)[0]\n",
    "\n",
    "N_daytype = 9\n",
    "k_day = np.random.dirichlet(np.ones(N_daytype),1)\n",
    "kappa = k_day[0].tolist()\n",
    "\n",
    "u_heat = np.random.normal(14,1)  #fixed parameter, invariant to time"
   ]
  },
  {
   "cell_type": "code",
   "execution_count": 10,
   "metadata": {
    "collapsed": true
   },
   "outputs": [],
   "source": [
    "#Data from last year's group\n",
    "u_heat = 13\n",
    "kappa = np.array([1/9]*9)\n",
    "sigma2 = 27000000\n",
    "sigma2_s_param = 79000000\n",
    "sigma2_g_param = 127000000\n",
    "nb_particles = 10000\n",
    "#len_filtering = 1000"
   ]
  },
  {
   "cell_type": "code",
   "execution_count": 11,
   "metadata": {
    "collapsed": true
   },
   "outputs": [],
   "source": [
    "#Execute Gibbs sampling\n",
    "BFM = BootstrapFilterModel(temperatures,daytypes,consumptions,nb_days,nb_particles,sigma2,kappa,u_heat)"
   ]
  },
  {
   "cell_type": "code",
   "execution_count": 12,
   "metadata": {
    "collapsed": false,
    "scrolled": true
   },
   "outputs": [
    {
     "name": "stdout",
     "output_type": "stream",
     "text": [
      "self.s[i,0]\n",
      "74502670.1403\n",
      "self.g_heat[i,0]\n",
      "-6.54778009644e+18\n",
      "self.s[i,0]\n",
      "635398093.43\n",
      "self.g_heat[i,0]\n",
      "-1.93433792736e+18\n",
      "self.s[i,0]\n",
      "1117912971.93\n",
      "self.g_heat[i,0]\n",
      "-5.01748056368e+16\n",
      "self.s[i,0]\n",
      "1239834297.18\n",
      "self.g_heat[i,0]\n",
      "-3.34019822892e+17\n",
      "self.s[i,0]\n",
      "1333197861.68\n",
      "self.g_heat[i,0]\n",
      "-3.34772907639e+18\n",
      "self.s[i,0]\n",
      "709429874.071\n",
      "self.g_heat[i,0]\n",
      "-1.17003973943e+19\n",
      "self.s[i,0]\n",
      "200009405.623\n",
      "self.g_heat[i,0]\n",
      "-3.30940031424e+18\n",
      "self.s[i,0]\n",
      "1686897845.82\n",
      "self.g_heat[i,0]\n",
      "-1.64466764837e+19\n",
      "self.s[i,0]\n",
      "930534216.813\n",
      "self.g_heat[i,0]\n",
      "-1.80348106296e+19\n",
      "self.s[i,0]\n",
      "627538140.031\n",
      "self.g_heat[i,0]\n",
      "-2.77113993002e+19\n",
      "self.s[i,0]\n",
      "335116418.124\n",
      "self.g_heat[i,0]\n",
      "-2.96677956321e+19\n",
      "self.s[i,0]\n",
      "1211173741.09\n",
      "self.g_heat[i,0]\n",
      "-3.94429399342e+19\n",
      "self.s[i,0]\n",
      "937887458.492\n",
      "self.g_heat[i,0]\n",
      "-2.91949384265e+19\n",
      "self.s[i,0]\n",
      "1996675398.25\n",
      "self.g_heat[i,0]\n",
      "-2.80624718549e+19\n",
      "Gibbs sampling for particle 1/10000\n",
      "Gibbs sampling for particle 1000/10000\n",
      "Gibbs sampling for particle 2000/10000\n",
      "Gibbs sampling for particle 3000/10000\n",
      "Gibbs sampling for particle 4000/10000\n",
      "Gibbs sampling for particle 5000/10000\n",
      "Gibbs sampling for particle 6000/10000\n",
      "Gibbs sampling for particle 7000/10000\n",
      "Gibbs sampling for particle 8000/10000\n",
      "Gibbs sampling for particle 9000/10000\n",
      "--- 162.97303462028503 seconds ---\n"
     ]
    }
   ],
   "source": [
    "start_time = time.time()\n",
    "BFM.bf_initialization_gibbs()\n",
    "print(\"--- %s seconds ---\" % (time.time() - start_time))"
   ]
  },
  {
   "cell_type": "code",
   "execution_count": 26,
   "metadata": {
    "collapsed": false
   },
   "outputs": [
    {
     "data": {
      "text/plain": [
       "dict_keys(['temperatures', 'daytypes', 'consumptions', 'nb_days', 'nb_particles', 'sigma2', 'kappa', 'u_heat', 's', 'g_heat', 'sigma_s_star_2', 'sigma_g_star_2', 'x_season', 'x_heat', 'x', 'w'])"
      ]
     },
     "execution_count": 26,
     "metadata": {},
     "output_type": "execute_result"
    }
   ],
   "source": [
    "variables = BFM.__dict__.keys()\n",
    "variables"
   ]
  },
  {
   "cell_type": "code",
   "execution_count": 13,
   "metadata": {
    "collapsed": false
   },
   "outputs": [
    {
     "data": {
      "text/plain": [
       "array([  1.14035681e+20,   8.04457562e+04,   6.92222864e+04, ...,\n",
       "         6.26610378e+04,   7.41901102e+04,   6.41197377e+04])"
      ]
     },
     "execution_count": 13,
     "metadata": {},
     "output_type": "execute_result"
    }
   ],
   "source": [
    "BFM.x"
   ]
  },
  {
   "cell_type": "code",
   "execution_count": 61,
   "metadata": {
    "collapsed": false
   },
   "outputs": [
    {
     "data": {
      "text/plain": [
       "15.114924235721189"
      ]
     },
     "execution_count": 61,
     "metadata": {},
     "output_type": "execute_result"
    }
   ],
   "source": [
    "sum(BFM.w)"
   ]
  },
  {
   "cell_type": "code",
   "execution_count": 64,
   "metadata": {
    "collapsed": true
   },
   "outputs": [],
   "source": [
    "#Write initial parameters from Gibbs sampling in a file\n",
    "timestr = time.strftime(\"%Y%m%d-%H%M%S\")\n",
    "\n",
    "output_file ='data/parameters_init_' + timestr + '.pkl'\n",
    "parameters = {\n",
    "    's_init':BFM.s[nb_days-1,],\n",
    "    'g_heat_init':BFM.g_heat[nb_days-1,:],\n",
    "    'sigma_s_init':np.sqrt(BFM.sigma_s_star_2[0,nb_particles-1]),\n",
    "    'sigma_g_init':np.sqrt(BFM.sigma_g_star_2[0,nb_particles-1]),\n",
    "    'x_init':BFM.x,\n",
    "    'w_init':BFM.w,\n",
    "    'sigma2': sigma2,\n",
    "    'u_h':u_heat,\n",
    "    'kappa': kappa\n",
    "}\n",
    "output = open(output_file, 'wb')\n",
    "pickle.dump(parameters, output)\n",
    "output.close()"
   ]
  },
  {
   "cell_type": "raw",
   "metadata": {},
   "source": [
    "#Steps to Load pickle file\n",
    "input_file ='data/parameters_init.pkl'\n",
    "pkl_file = open(input_file, 'rb')\n",
    "parameters_init = pickle.load(pkl_file)\n",
    "parameters_init"
   ]
  },
  {
   "cell_type": "markdown",
   "metadata": {},
   "source": [
    "# Robbins Monroe parameters estimation"
   ]
  },
  {
   "cell_type": "code",
   "execution_count": 4,
   "metadata": {
    "collapsed": false
   },
   "outputs": [
    {
     "data": {
      "text/plain": [
       "{'g_heat_init': array([-1139373.50765916,  -270209.1419129 ,  -449797.54899782, ...,\n",
       "          -97510.92882799,   -73071.4470343 ,   -88779.62566618]),\n",
       " 'kappa': array([ 0.11111111,  0.11111111,  0.11111111,  0.11111111,  0.11111111,\n",
       "         0.11111111,  0.11111111,  0.11111111,  0.11111111]),\n",
       " 's_init': array([  2.53971204e+08,   1.74479333e+07,   5.59420323e+06, ...,\n",
       "          1.44451618e-06,   5.79654646e-07,   8.18654197e-07]),\n",
       " 'sigma2': 27000000,\n",
       " 'sigma_g_init': 210436.23817816001,\n",
       " 'sigma_s_init': 6.7179250479583413e-07,\n",
       " 'u_h': 7.3,\n",
       " 'w_init': array([  0.00000000e+00,   0.00000000e+00,   0.00000000e+00, ...,\n",
       "          2.86678274e-38,   2.86678274e-38,   2.86678274e-38]),\n",
       " 'x_init': array([  2.82190226e+07,   1.93865926e+06,   6.21578137e+05, ...,\n",
       "          1.60501798e-07,   6.44060718e-08,   9.09615775e-08])}"
      ]
     },
     "execution_count": 4,
     "metadata": {},
     "output_type": "execute_result"
    }
   ],
   "source": [
    "#Steps to Load pickle file\n",
    "input_file ='data/parameters_init_20180110-024129.pkl'\n",
    "pkl_file = open(input_file, 'rb')\n",
    "parameters_init = pickle.load(pkl_file)\n",
    "parameters_init"
   ]
  },
  {
   "cell_type": "code",
   "execution_count": 8,
   "metadata": {
    "collapsed": false
   },
   "outputs": [],
   "source": [
    "sigma_init = math.sqrt(np.median(parameters_init[\"sigma2\"]))\n",
    "sigma_g_init = math.sqrt(np.median(parameters_init[\"sigma_g_init\"]))\n",
    "sigma_s_init = math.sqrt(np.median(parameters_init[\"sigma_s_init\"]))\n",
    "u_heat_init = math.sqrt(np.median(parameters_init[\"u_h\"]))"
   ]
  },
  {
   "cell_type": "code",
   "execution_count": 78,
   "metadata": {
    "collapsed": false
   },
   "outputs": [],
   "source": [
    "sigma_init = 10**3\n",
    "sigma_g_init = 10**3\n",
    "sigma_s_init = 10**3\n",
    "u_heat_init = 13"
   ]
  },
  {
   "cell_type": "code",
   "execution_count": 161,
   "metadata": {
    "collapsed": false
   },
   "outputs": [],
   "source": [
    "variance_epsilon = np.diag(np.array(([10**2,10**2,1,10**2])))"
   ]
  },
  {
   "cell_type": "code",
   "execution_count": 167,
   "metadata": {
    "collapsed": true
   },
   "outputs": [],
   "source": [
    "def gamma(n):\n",
    "    return 1/(10*n)"
   ]
  },
  {
   "cell_type": "code",
   "execution_count": 94,
   "metadata": {
    "collapsed": false
   },
   "outputs": [
    {
     "data": {
      "text/plain": [
       "(0.0210384756659057, 4228.713860454699)"
      ]
     },
     "execution_count": 94,
     "metadata": {},
     "output_type": "execute_result"
    }
   ],
   "source": [
    "test = truncnorm.rvs(a=0,b=np.inf,scale=10**3,size=100000)\n",
    "MIN, MAX = np.min(test), np.max(test)\n",
    "MIN, MAX"
   ]
  },
  {
   "cell_type": "code",
   "execution_count": 152,
   "metadata": {
    "collapsed": true
   },
   "outputs": [],
   "source": [
    "def f_sigma_s(sigma_s): \n",
    "    sigma_s_min, sigma_s_max = MIN, MAX\n",
    "    if sigma_s < sigma_s_min :\n",
    "        f_sigma_s = sigma_s_min\n",
    "    elif sigma_s > sigma_s_max :\n",
    "        f_sigma_s = sigma_s_max\n",
    "    else :\n",
    "        f_sigma_s = sigma_s\n",
    "    \n",
    "    return f_sigma_s\n",
    "\n",
    "def f_sigma_g(sigma_g):\n",
    "    sigma_g_min, sigma_g_max = MIN, MAX\n",
    "    if sigma_g < sigma_g_min :\n",
    "        f_sigma_g = sigma_g_min\n",
    "    elif sigma_g > sigma_g_max :\n",
    "        f_sigma_g = sigma_g_max\n",
    "    else :\n",
    "        f_sigma_g = 10*sigma_g\n",
    "    \n",
    "    return f_sigma_g \n",
    "\n",
    "def f_u_heat(u_heat):\n",
    "    u_heat_min = 0\n",
    "    u_heat_max = 30\n",
    "    if u_heat < u_heat_min :\n",
    "        f_u_heat = u_heat_min\n",
    "    elif u_heat > u_heat_max :\n",
    "        f_u_heat = np.sqrt(u_heat_max)\n",
    "    else:\n",
    "        f_u_heat = u_heat\n",
    "        \n",
    "    return f_u_heat\n",
    "\n",
    "def f_sigma(sigma):\n",
    "    sigma_min, sigma_max = MIN, MAX\n",
    "    if sigma < sigma_min :\n",
    "        f_sigma = sigma_min\n",
    "    elif sigma > sigma_max :\n",
    "        f_sigma = sigma_max\n",
    "    else:\n",
    "        f_sigma = 100*sigma\n",
    "        \n",
    "    return f_sigma\n",
    "\n",
    "def f(sigma_s, sigma_g, u_heat, sigma):\n",
    "    #sigma_s\n",
    "    result_sigma_s = f_sigma_s(sigma_s) \n",
    "    #sigma_g\n",
    "    result_sigma_g = f_sigma_g(sigma_g) \n",
    "    #u_heat\n",
    "    result_u_heat = f_u_heat(u_heat)\n",
    "    #sigma\n",
    "    result_sigma = f_sigma(sigma) \n",
    "    \n",
    "    return result_sigma_s, result_sigma_g, result_u_heat, result_sigma"
   ]
  },
  {
   "cell_type": "code",
   "execution_count": 173,
   "metadata": {
    "collapsed": false
   },
   "outputs": [],
   "source": [
    "iterations = 10000\n",
    "RME = RmEstimation(sigma_s_init, sigma_g_init, u_heat_init, sigma_init, variance_epsilon, iterations, f, gamma)\n",
    "RME.estimation()"
   ]
  },
  {
   "cell_type": "code",
   "execution_count": 154,
   "metadata": {
    "collapsed": false,
    "scrolled": true
   },
   "outputs": [],
   "source": [
    "#RME.cm_u_heat, RME.cm_sigma, RME.cm_sigma_g, RME.cm_sigma"
   ]
  },
  {
   "cell_type": "code",
   "execution_count": 155,
   "metadata": {
    "collapsed": false,
    "scrolled": true
   },
   "outputs": [],
   "source": [
    "#RME.u_heat[0], RME.sigma, RME.sigma_g, RME.sigma"
   ]
  },
  {
   "cell_type": "code",
   "execution_count": 156,
   "metadata": {
    "collapsed": true
   },
   "outputs": [],
   "source": [
    "%matplotlib inline\n",
    "import matplotlib.pyplot as plt"
   ]
  },
  {
   "cell_type": "code",
   "execution_count": 174,
   "metadata": {
    "collapsed": false
   },
   "outputs": [
    {
     "data": {
      "image/png": "[encoded data removed]",
      "text/plain": [
       "<matplotlib.figure.Figure at 0x1de54300d30>"
      ]
     },
     "metadata": {},
     "output_type": "display_data"
    }
   ],
   "source": [
    "plt.plot(RME.cm_u_heat[0,1:])\n",
    "plt.title('$u_{heat}$ Cesaro Mean')\n",
    "plt.show()"
   ]
  },
  {
   "cell_type": "code",
   "execution_count": 175,
   "metadata": {
    "collapsed": false
   },
   "outputs": [
    {
     "data": {
      "image/png": "[encoded data removed]",
      "text/plain": [
       "<matplotlib.figure.Figure at 0x1de55611128>"
      ]
     },
     "metadata": {},
     "output_type": "display_data"
    }
   ],
   "source": [
    "plt.plot(RME.cm_sigma[0,1:])\n",
    "plt.title('$\\sigma$ Cesaro Mean')\n",
    "plt.show()"
   ]
  },
  {
   "cell_type": "code",
   "execution_count": 176,
   "metadata": {
    "collapsed": false
   },
   "outputs": [
    {
     "data": {
      "image/png": "[encoded data removed]",
      "text/plain": [
       "<matplotlib.figure.Figure at 0x1de55cd0908>"
      ]
     },
     "metadata": {},
     "output_type": "display_data"
    }
   ],
   "source": [
    "plt.plot(RME.cm_sigma_s[0,1:])\n",
    "plt.title('$\\sigma_s$ Cesaro Mean')\n",
    "plt.show()"
   ]
  },
  {
   "cell_type": "code",
   "execution_count": 177,
   "metadata": {
    "collapsed": false
   },
   "outputs": [
    {
     "data": {
      "image/png": "[encoded data removed]",
      "text/plain": [
       "<matplotlib.figure.Figure at 0x1de5627f978>"
      ]
     },
     "metadata": {},
     "output_type": "display_data"
    }
   ],
   "source": [
    "plt.plot(RME.cm_sigma_g[0,1:])\n",
    "plt.title('$\\sigma_g$ Cesaro Mean')\n",
    "plt.show()"
   ]
  },
  {
   "cell_type": "code",
   "execution_count": null,
   "metadata": {
    "collapsed": true
   },
   "outputs": [],
   "source": []
  }
 ],
 "metadata": {
  "anaconda-cloud": {},
  "kernelspec": {
   "display_name": "Python [Root]",
   "language": "python",
   "name": "Python [Root]"
  },
  "language_info": {
   "codemirror_mode": {
    "name": "ipython",
    "version": 3
   },
   "file_extension": ".py",
   "mimetype": "text/x-python",
   "name": "python",
   "nbconvert_exporter": "python",
   "pygments_lexer": "ipython3",
   "version": "3.5.2"
  }
 },
 "nbformat": 4,
 "nbformat_minor": 2
}
