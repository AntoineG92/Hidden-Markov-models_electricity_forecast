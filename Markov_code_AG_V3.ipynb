{
 "cells": [
  {
   "cell_type": "markdown",
   "metadata": {},
   "source": [
    "# On particle filters applied to electricity load forecasting"
   ]
  },
  {
   "cell_type": "markdown",
   "metadata": {},
   "source": [
    "\n",
    "PyMC tuto\n",
    "\n",
    "https://pymc-devs.github.io/pymc/tutorial.html#fitting-the-model-with-mcmc\n",
    "\n",
    "http://sdsawtelle.github.io/blog/output/mcmc-in-python-with-pymc.html\n",
    "    "
   ]
  },
  {
   "cell_type": "code",
   "execution_count": 1,
   "metadata": {
    "collapsed": true
   },
   "outputs": [],
   "source": [
    "import pandas as pd\n",
    "import numpy as np\n",
    "import numpy.random as npr\n",
    "import matplotlib as mtp\n",
    "import matplotlib.pyplot as plt\n",
    "import scipy as sp\n",
    "from scipy.stats import truncnorm\n",
    "import scipy.stats as stats\n",
    "from scipy.stats import invgamma"
   ]
  },
  {
   "cell_type": "code",
   "execution_count": 2,
   "metadata": {
    "collapsed": true
   },
   "outputs": [],
   "source": [
    "import pymc\n",
    "from pymc import MCMC"
   ]
  },
  {
   "cell_type": "markdown",
   "metadata": {},
   "source": [
    "### Parameters"
   ]
  },
  {
   "cell_type": "code",
   "execution_count": 3,
   "metadata": {
    "collapsed": true
   },
   "outputs": [],
   "source": [
    "n0=365 #Initialisaion sample\n",
    "M=10^5 #number of particles\n"
   ]
  },
  {
   "cell_type": "code",
   "execution_count": 176,
   "metadata": {},
   "outputs": [
    {
     "name": "stderr",
     "output_type": "stream",
     "text": [
      "/Users/antoinegrelety/anaconda3/lib/python3.6/site-packages/scipy/stats/_continuous_distns.py:4838: RuntimeWarning: invalid value encountered in log\n",
      "  self._logdelta = np.log(self._delta)\n"
     ]
    }
   ],
   "source": [
    "#truncated normal\n",
    "lower = 0\n",
    "upper = np.inf\n",
    "mu = 0\n",
    "sigma = 10^8\n",
    "N = 1\n",
    "sigma_s = np.asscalar(stats.truncnorm.rvs((lower-mu)/sigma,(upper-mu)/sigma,loc=mu,scale=sigma,size=N))\n",
    "g_h = np.asscalar(stats.truncnorm.rvs((-np.inf-mu)/sigma,(0-mu)/sigma,loc=mu,scale=sigma,size=N))\n",
    "s0 = np.asscalar(stats.truncnorm.rvs((np.inf-mu)/sigma,(0-mu)/sigma,loc=mu,scale=sigma,size=N))\n",
    "g_c = np.asscalar(stats.truncnorm.rvs((np.inf-mu)/sigma,(0-mu)/sigma,loc=mu,scale=sigma,size=N))"
   ]
  },
  {
   "cell_type": "code",
   "execution_count": 30,
   "metadata": {
    "collapsed": true
   },
   "outputs": [],
   "source": [
    "#u_h=npr.normal(14,1)\n",
    "N_daytype=1\n",
    "p=np.ones(N_daytype)\n",
    "#k_day=np.asscalar(npr.dirichlet(p,1))\n",
    "#sigma2, sigma2_s0, sigma2_g0, sigma2_s, sigma2_g = invgamma.rvs(a=0.01,scale=0.01,size=5)\n",
    "delta_c = 5 #to be updated\n",
    "T_h = 12 #to be updated"
   ]
  },
  {
   "cell_type": "code",
   "execution_count": 20,
   "metadata": {
    "collapsed": true
   },
   "outputs": [],
   "source": [
    "#simulate temperatures\n",
    "temp_month=np.array([6,7.3,12.2,15.9,19.8,22.9,24.8,24.3,21.3,15.7,10.1,6.7])  #monthly max temp in Paris\n",
    "month=['jan','fev','mar','av','may','juin','juil','aou','sep','oct','nov','dec']\n",
    "days_month=np.array([31,29,31,30,31,30,31,31,30,31,30,31])\n",
    "i=0\n",
    "temp_={}\n",
    "for m in month:\n",
    "    temp_[m]=np.repeat(temp_month[i],days_month[i])\n",
    "    i=i+1\n",
    "temp_month_mean=np.ones(0)\n",
    "for m in month:\n",
    "    temp_month_mean=np.concatenate((temp_month_mean,temp_[m]),axis=0)"
   ]
  },
  {
   "cell_type": "code",
   "execution_count": 8,
   "metadata": {
    "collapsed": true
   },
   "outputs": [],
   "source": [
    "# T_heat: only temperatures over u_heat\n",
    "#T_h=np.copy(temp_month_mean)\n",
    "#T_h[T_h < u_h]=u_h\n",
    "\n",
    "#delta_cool=np.copy(temp_month)\n",
    "#delta_cool[delta_cool >= u_h]=u_h"
   ]
  },
  {
   "cell_type": "markdown",
   "metadata": {},
   "source": [
    "### Data"
   ]
  },
  {
   "cell_type": "code",
   "execution_count": 4,
   "metadata": {
    "collapsed": true
   },
   "outputs": [],
   "source": [
    "#n0=365 days of eletricity load for initialization\n",
    "path_AG=\"/Users/antoinegrelety/iCloud Drive (archive)/Desktop/MS Data Science/S1_MCMC/Projet/\"\n",
    "df=pd.read_csv(path_AG+\"cdc_conso.csv\",sep=\";\")"
   ]
  },
  {
   "cell_type": "code",
   "execution_count": 5,
   "metadata": {},
   "outputs": [
    {
     "data": {
      "text/html": [
       "<div>\n",
       "<style>\n",
       "    .dataframe thead tr:only-child th {\n",
       "        text-align: right;\n",
       "    }\n",
       "\n",
       "    .dataframe thead th {\n",
       "        text-align: left;\n",
       "    }\n",
       "\n",
       "    .dataframe tbody tr th {\n",
       "        vertical-align: top;\n",
       "    }\n",
       "</style>\n",
       "<table border=\"1\" class=\"dataframe\">\n",
       "  <thead>\n",
       "    <tr style=\"text-align: right;\">\n",
       "      <th></th>\n",
       "      <th>Date - Heure</th>\n",
       "      <th>Date</th>\n",
       "      <th>Heure</th>\n",
       "      <th>Consommation (MW)</th>\n",
       "      <th>Qualite donnee</th>\n",
       "    </tr>\n",
       "  </thead>\n",
       "  <tbody>\n",
       "    <tr>\n",
       "      <th>2872</th>\n",
       "      <td>2008-01-01T13:00:00+01:00</td>\n",
       "      <td>2008-01-01</td>\n",
       "      <td>13:00</td>\n",
       "      <td>62844</td>\n",
       "      <td>Définitive</td>\n",
       "    </tr>\n",
       "    <tr>\n",
       "      <th>2870</th>\n",
       "      <td>2008-01-01T11:30:00+01:00</td>\n",
       "      <td>2008-01-01</td>\n",
       "      <td>11:30</td>\n",
       "      <td>59636</td>\n",
       "      <td>Définitive</td>\n",
       "    </tr>\n",
       "    <tr>\n",
       "      <th>2869</th>\n",
       "      <td>2008-01-01T09:00:00+01:00</td>\n",
       "      <td>2008-01-01</td>\n",
       "      <td>09:00</td>\n",
       "      <td>55268</td>\n",
       "      <td>Définitive</td>\n",
       "    </tr>\n",
       "    <tr>\n",
       "      <th>2868</th>\n",
       "      <td>2008-01-01T04:30:00+01:00</td>\n",
       "      <td>2008-01-01</td>\n",
       "      <td>04:30</td>\n",
       "      <td>57917</td>\n",
       "      <td>Définitive</td>\n",
       "    </tr>\n",
       "    <tr>\n",
       "      <th>2867</th>\n",
       "      <td>2008-01-01T03:30:00+01:00</td>\n",
       "      <td>2008-01-01</td>\n",
       "      <td>03:30</td>\n",
       "      <td>60586</td>\n",
       "      <td>Définitive</td>\n",
       "    </tr>\n",
       "    <tr>\n",
       "      <th>2866</th>\n",
       "      <td>2008-01-01T01:00:00+01:00</td>\n",
       "      <td>2008-01-01</td>\n",
       "      <td>01:00</td>\n",
       "      <td>63949</td>\n",
       "      <td>Définitive</td>\n",
       "    </tr>\n",
       "    <tr>\n",
       "      <th>987</th>\n",
       "      <td>2008-01-01T01:30:00+01:00</td>\n",
       "      <td>2008-01-01</td>\n",
       "      <td>01:30</td>\n",
       "      <td>64198</td>\n",
       "      <td>Définitive</td>\n",
       "    </tr>\n",
       "    <tr>\n",
       "      <th>29212</th>\n",
       "      <td>2008-01-01T22:00:00+01:00</td>\n",
       "      <td>2008-01-01</td>\n",
       "      <td>22:00</td>\n",
       "      <td>64849</td>\n",
       "      <td>Définitive</td>\n",
       "    </tr>\n",
       "    <tr>\n",
       "      <th>29213</th>\n",
       "      <td>2008-01-01T23:00:00+01:00</td>\n",
       "      <td>2008-01-01</td>\n",
       "      <td>23:00</td>\n",
       "      <td>67381</td>\n",
       "      <td>Définitive</td>\n",
       "    </tr>\n",
       "    <tr>\n",
       "      <th>988</th>\n",
       "      <td>2008-01-01T02:00:00+01:00</td>\n",
       "      <td>2008-01-01</td>\n",
       "      <td>02:00</td>\n",
       "      <td>64190</td>\n",
       "      <td>Définitive</td>\n",
       "    </tr>\n",
       "  </tbody>\n",
       "</table>\n",
       "</div>"
      ],
      "text/plain": [
       "                    Date - Heure        Date  Heure  Consommation (MW)  \\\n",
       "2872   2008-01-01T13:00:00+01:00  2008-01-01  13:00              62844   \n",
       "2870   2008-01-01T11:30:00+01:00  2008-01-01  11:30              59636   \n",
       "2869   2008-01-01T09:00:00+01:00  2008-01-01  09:00              55268   \n",
       "2868   2008-01-01T04:30:00+01:00  2008-01-01  04:30              57917   \n",
       "2867   2008-01-01T03:30:00+01:00  2008-01-01  03:30              60586   \n",
       "2866   2008-01-01T01:00:00+01:00  2008-01-01  01:00              63949   \n",
       "987    2008-01-01T01:30:00+01:00  2008-01-01  01:30              64198   \n",
       "29212  2008-01-01T22:00:00+01:00  2008-01-01  22:00              64849   \n",
       "29213  2008-01-01T23:00:00+01:00  2008-01-01  23:00              67381   \n",
       "988    2008-01-01T02:00:00+01:00  2008-01-01  02:00              64190   \n",
       "\n",
       "      Qualite donnee  \n",
       "2872      Définitive  \n",
       "2870      Définitive  \n",
       "2869      Définitive  \n",
       "2868      Définitive  \n",
       "2867      Définitive  \n",
       "2866      Définitive  \n",
       "987       Définitive  \n",
       "29212     Définitive  \n",
       "29213     Définitive  \n",
       "988       Définitive  "
      ]
     },
     "execution_count": 5,
     "metadata": {},
     "output_type": "execute_result"
    }
   ],
   "source": [
    "df=df.sort_values(by=['Date'])\n",
    "df.head(10)"
   ]
  },
  {
   "cell_type": "code",
   "execution_count": 6,
   "metadata": {
    "collapsed": true
   },
   "outputs": [],
   "source": [
    "df=df[(df.Date >'2016-01-01') & (df.Date <'2017-01-01')]"
   ]
  },
  {
   "cell_type": "code",
   "execution_count": 7,
   "metadata": {},
   "outputs": [
    {
     "data": {
      "image/png": "[encoded data removed]",
      "text/plain": [
       "<matplotlib.figure.Figure at 0x11f8caeb8>"
      ]
     },
     "metadata": {},
     "output_type": "display_data"
    }
   ],
   "source": [
    "plt.plot_date(df.Date,df['Consommation (MW)'],fmt='-')\n",
    "plt.show()"
   ]
  },
  {
   "cell_type": "code",
   "execution_count": 8,
   "metadata": {},
   "outputs": [],
   "source": [
    "y_n=df['Consommation (MW)']\n",
    "y_n=y_n[:100]\n",
    "y_n=y_n.values"
   ]
  },
  {
   "cell_type": "code",
   "execution_count": 9,
   "metadata": {},
   "outputs": [
    {
     "data": {
      "image/png": "[encoded data removed]",
      "text/plain": [
       "<matplotlib.figure.Figure at 0x11f987400>"
      ]
     },
     "metadata": {},
     "output_type": "display_data"
    }
   ],
   "source": [
    "bins=range(30000,100000,1000)\n",
    "plt.hist(df['Consommation (MW)'],normed=True,bins=bins)\n",
    "plt.show()"
   ]
  },
  {
   "cell_type": "markdown",
   "metadata": {
    "collapsed": true
   },
   "source": [
    "### Definition of MCMC initial model"
   ]
  },
  {
   "cell_type": "markdown",
   "metadata": {},
   "source": [
    "1. Sample $X_0^{j} \\sim \\mu(x_0)$"
   ]
  },
  {
   "cell_type": "code",
   "execution_count": 190,
   "metadata": {
    "collapsed": true
   },
   "outputs": [],
   "source": [
    "delta_c = 5 #to be updated\n",
    "T_h = 12 #to be updated\n",
    "sigma2=invgamma.rvs(a=0.01,scale=0.01)"
   ]
  },
  {
   "cell_type": "code",
   "execution_count": 191,
   "metadata": {},
   "outputs": [
    {
     "data": {
      "text/plain": [
       "5.9558591385324004e+32"
      ]
     },
     "execution_count": 191,
     "metadata": {},
     "output_type": "execute_result"
    }
   ],
   "source": [
    "sigma2"
   ]
  },
  {
   "cell_type": "code",
   "execution_count": 192,
   "metadata": {},
   "outputs": [
    {
     "name": "stderr",
     "output_type": "stream",
     "text": [
      "/Users/antoinegrelety/anaconda3/lib/python3.6/site-packages/pymc/utils.py:435: RuntimeWarning: divide by zero encountered in log\n",
      "  return np.where(y > 0, np.log(y), -np.inf)\n"
     ]
    }
   ],
   "source": [
    "#v=pymc.Normal(\"v\",0,np.asscalar(sigma2),size=len(y_n))\n",
    "s0=pymc.TruncatedNormal(\"s0\",mu=0,tau=1/(10^8),a=0,b=np.inf)\n",
    "gc=pymc.TruncatedNormal(\"gc\",mu=0,tau=1/(10^8),a=0,b=np.inf)\n",
    "g0=pymc.TruncatedNormal(\"g0\",mu=0,tau=1/(10^8),a=0,b=np.inf)\n",
    "g0_h=pymc.TruncatedNormal(\"g0_h\",mu=0,tau=1/(10^8),a=-np.inf,b=0)\n",
    "u_h=pymc.Normal(\"u_h\",mu=14,tau=1)\n",
    "k_day=pymc.Dirichlet(name=\"k_day\",theta=[1,1])"
   ]
  },
  {
   "cell_type": "code",
   "execution_count": 193,
   "metadata": {
    "collapsed": true
   },
   "outputs": [],
   "source": [
    "@pymc.deterministic(plot=False)\n",
    "def x_season(s0=s0,k_day=k_day):\n",
    "    out=np.empty(len(y_n))\n",
    "    out.fill(s0*np.asscalar(k_day))\n",
    "    return(out)\n",
    "\n",
    "@pymc.deterministic(plot=False)\n",
    "def x_heat(g0_h=g0_h,T_h=T_h,u_h=u_h):\n",
    "    out=np.empty(len(y_n))\n",
    "    out.fill(g0_h*(T_h-u_h)*max(u_h,T_h))\n",
    "    return(out)\n",
    "\n",
    "@pymc.deterministic(plot=False)\n",
    "def x_cool(g_c=gc,detla_c=delta_c):\n",
    "    out=np.empty(len(y_n))\n",
    "    out.fill(g_c*delta_c)\n",
    "    return(out)\n",
    "\n",
    "@pymc.deterministic(plot=False)\n",
    "def x(x_season=x_season, x_heat=x_heat, x_cool=x_cool):\n",
    "    out=np.empty(len(y_n))\n",
    "    out=x_season+x_heat+x_cool\n",
    "    return(out)\n"
   ]
  },
  {
   "cell_type": "code",
   "execution_count": 194,
   "metadata": {},
   "outputs": [],
   "source": [
    "y=pymc.Normal(\"y\",mu=x,tau=sigma2,value=y_n,observed=True)"
   ]
  },
  {
   "cell_type": "code",
   "execution_count": 195,
   "metadata": {},
   "outputs": [],
   "source": [
    "model=pymc.Model([s0,gc,g0,g0_h,u_h,k_day,x_season,x_heat,x_cool,x,y])"
   ]
  },
  {
   "cell_type": "code",
   "execution_count": 196,
   "metadata": {},
   "outputs": [
    {
     "data": {
      "text/plain": [
       "{'mu': <pymc.PyMCObjects.Deterministic 'x' at 0x12390dda0>,\n",
       " 'tau': 5.9558591385324004e+32}"
      ]
     },
     "execution_count": 196,
     "metadata": {},
     "output_type": "execute_result"
    }
   ],
   "source": [
    "y.parents"
   ]
  },
  {
   "cell_type": "code",
   "execution_count": 197,
   "metadata": {},
   "outputs": [
    {
     "data": {
      "text/plain": [
       "{<pymc.distributions.new_dist_class.<locals>.new_class 'y' at 0x117b0dfd0>}"
      ]
     },
     "execution_count": 197,
     "metadata": {},
     "output_type": "execute_result"
    }
   ],
   "source": [
    "x.children"
   ]
  },
  {
   "cell_type": "code",
   "execution_count": 198,
   "metadata": {},
   "outputs": [
    {
     "name": "stdout",
     "output_type": "stream",
     "text": [
      "[ 18.04989034  18.04989034  18.04989034  18.04989034  18.04989034\n",
      "  18.04989034  18.04989034  18.04989034  18.04989034  18.04989034\n",
      "  18.04989034  18.04989034  18.04989034  18.04989034  18.04989034\n",
      "  18.04989034  18.04989034  18.04989034  18.04989034  18.04989034\n",
      "  18.04989034  18.04989034  18.04989034  18.04989034  18.04989034\n",
      "  18.04989034  18.04989034  18.04989034  18.04989034  18.04989034\n",
      "  18.04989034  18.04989034  18.04989034  18.04989034  18.04989034\n",
      "  18.04989034  18.04989034  18.04989034  18.04989034  18.04989034\n",
      "  18.04989034  18.04989034  18.04989034  18.04989034  18.04989034\n",
      "  18.04989034  18.04989034  18.04989034  18.04989034  18.04989034\n",
      "  18.04989034  18.04989034  18.04989034  18.04989034  18.04989034\n",
      "  18.04989034  18.04989034  18.04989034  18.04989034  18.04989034\n",
      "  18.04989034  18.04989034  18.04989034  18.04989034  18.04989034\n",
      "  18.04989034  18.04989034  18.04989034  18.04989034  18.04989034\n",
      "  18.04989034  18.04989034  18.04989034  18.04989034  18.04989034\n",
      "  18.04989034  18.04989034  18.04989034  18.04989034  18.04989034\n",
      "  18.04989034  18.04989034  18.04989034  18.04989034  18.04989034\n",
      "  18.04989034  18.04989034  18.04989034  18.04989034  18.04989034\n",
      "  18.04989034  18.04989034  18.04989034  18.04989034  18.04989034\n",
      "  18.04989034  18.04989034  18.04989034  18.04989034  18.04989034]\n"
     ]
    }
   ],
   "source": [
    "print(x.value)"
   ]
  },
  {
   "cell_type": "code",
   "execution_count": 199,
   "metadata": {},
   "outputs": [
    {
     "name": "stdout",
     "output_type": "stream",
     "text": [
      "[ 52975.  49417.  55737.  57237.  61223.  55522.  60935.  60962.  47741.\n",
      "  46599.  56223.  58010.  58265.  62191.  58321.  59989.  60075.  58954.\n",
      "  48821.  51509.  52726.  55462.  57349.  47970.  60339.  60921.  58154.\n",
      "  59637.  62407.  63353.  55621.  51520.  52236.  57308.  50896.  52313.\n",
      "  54574.  56687.  57965.  58683.  46528.  49009.  63251.  46945.  56053.\n",
      "  56593.  50505.  47300.  51538.  61528.  64325.  65180.  63655.  56866.\n",
      "  54093.  60236.  54405.  58899.  65289.  59405.  50184.  60018.  62048.\n",
      "  56968.  57536.  48928.  50612.  49854.  49440.  58578.  60198.  61020.\n",
      "  58554.  60619.  59868.  57407.  57213.  57856.  55494.  52612.  48724.\n",
      "  48464.  48359.  55362.  55827.  51983.  61481.  62771.  58860.  62613.\n",
      "  61664.  59023.  56864.  53524.  48009.  51397.  66450.  65780.  63758.\n",
      "  69039.]\n"
     ]
    }
   ],
   "source": [
    "print(y.value)"
   ]
  },
  {
   "cell_type": "code",
   "execution_count": 200,
   "metadata": {},
   "outputs": [],
   "source": [
    "sampler=MCMC(model)"
   ]
  },
  {
   "cell_type": "code",
   "execution_count": 201,
   "metadata": {},
   "outputs": [
    {
     "name": "stderr",
     "output_type": "stream",
     "text": [
      "/Users/antoinegrelety/anaconda3/lib/python3.6/site-packages/pymc/utils.py:435: RuntimeWarning: divide by zero encountered in log\n",
      "  return np.where(y > 0, np.log(y), -np.inf)\n"
     ]
    },
    {
     "name": "stdout",
     "output_type": "stream",
     "text": [
      " [-----------------100%-----------------] 10000 of 10000 complete in 8.5 sec"
     ]
    }
   ],
   "source": [
    "sampler.sample(iter=100*len(y_n), burn=10*len(y_n), thin=10) "
   ]
  },
  {
   "cell_type": "code",
   "execution_count": 202,
   "metadata": {},
   "outputs": [],
   "source": [
    "s_tr = sampler.trace(\"x\")"
   ]
  },
  {
   "cell_type": "code",
   "execution_count": 203,
   "metadata": {},
   "outputs": [
    {
     "data": {
      "text/plain": [
       "56533.890126353632"
      ]
     },
     "execution_count": 203,
     "metadata": {},
     "output_type": "execute_result"
    }
   ],
   "source": [
    "s_tr[1,1]"
   ]
  },
  {
   "cell_type": "code",
   "execution_count": 204,
   "metadata": {},
   "outputs": [
    {
     "data": {
      "text/plain": [
       "(20, 100)"
      ]
     },
     "execution_count": 204,
     "metadata": {},
     "output_type": "execute_result"
    }
   ],
   "source": [
    "sampler.trace(\"x\")[0:20].shape  # Just look at the first few values"
   ]
  },
  {
   "cell_type": "code",
   "execution_count": 205,
   "metadata": {},
   "outputs": [
    {
     "data": {
      "image/png": "[encoded data removed]",
      "text/plain": [
       "<matplotlib.figure.Figure at 0x117bc0b00>"
      ]
     },
     "metadata": {},
     "output_type": "display_data"
    }
   ],
   "source": [
    "%matplotlib inline\n",
    "plt.hist(s_tr[:,1],bins=20)\n",
    "plt.show()"
   ]
  },
  {
   "cell_type": "code",
   "execution_count": null,
   "metadata": {
    "collapsed": true
   },
   "outputs": [],
   "source": []
  }
 ],
 "metadata": {
  "kernelspec": {
   "display_name": "Python 3",
   "language": "python",
   "name": "python3"
  },
  "language_info": {
   "codemirror_mode": {
    "name": "ipython",
    "version": 3
   },
   "file_extension": ".py",
   "mimetype": "text/x-python",
   "name": "python",
   "nbconvert_exporter": "python",
   "pygments_lexer": "ipython3",
   "version": "3.6.2"
  }
 },
 "nbformat": 4,
 "nbformat_minor": 2
}
