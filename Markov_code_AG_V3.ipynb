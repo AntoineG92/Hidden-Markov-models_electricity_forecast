{
 "cells": [
  {
   "cell_type": "markdown",
   "metadata": {},
   "source": [
    "# On particle filters applied to electricity load forecasting"
   ]
  },
  {
   "cell_type": "markdown",
   "metadata": {},
   "source": [
    "PyMC tuto\n",
    "\n",
    "https://pymc-devs.github.io/pymc/tutorial.html#fitting-the-model-with-mcmc\n",
    "\n",
    "http://sdsawtelle.github.io/blog/output/mcmc-in-python-with-pymc.html\n",
    "    "
   ]
  },
  {
   "cell_type": "markdown",
   "metadata": {},
   "source": [
    "NC Email:\n",
    "\n",
    "Voilà quelques pistes que vous pouvez suivre:\n",
    "* commencer par implémenter un bootstrap filter pour le modèle proposé, et des valeurs des paramètres choisis à la main ﴾en fonction des valeurs reportées dans l'article par exemple﴿ et des données que vous pouvez simuler. Déterminer à quel point l'algorithme marche bien:\n",
    "+ graphe de l'ESS en fonction du temps; voir si effectivement certains outliers font fortement chuter l'ESS. Essayer la méthode proposée pour gérer ses outliers.\n",
    "+ intervalles de confiance pour l'estimation de E[X_t|Y_{0:t}], basé sur plusieurs exécutions, par exemple. * Deuxième étape: estimation des paramètres. Vous pouvez essayer une des trois approches suivantes, triées par ordre de difficulté:\n",
    "1. maximisation de la vraisemblance ﴾estimée par votre filtre particulaire pour un theta donné﴿, en utilisant une méthode de maximisation pour fonction bruitée ﴾par ex Robbins‐Monroe﴿.\n",
    "2. PMMH, voir le prochain cours. Principale difficulté: l'algorithme peut prendre du temps, et ne pas être très facile à calibrer, mais je vais en parler en cours.\n",
    "3. Particle Gibbs: c'est peut‐être un peu compliqué pour ce modèle, mais si vous arrivez, gros bonus!"
   ]
  },
  {
   "cell_type": "markdown",
   "metadata": {},
   "source": [
    "TO-DO liste\n",
    "\n",
    "1.INITIALISATION\n",
    "\n",
    "* \"Dynamiser\" x_n qui est fixe au cours du temps pour le moment:\n",
    "    \n",
    "    -Faire varier Tn_heat sur l'année\n",
    "    \n",
    "    -Pareil pour delta_cool (on peut aussi supprimer x_cool ?) \n",
    "    \n",
    "    -k_day_type: doit dépendre du jour de la semaine/vacances,etc... --> créer une nouvelle variable qui récupère les jours de la semaine, weekend, etc... et construire k_day_type (ZAK)\n",
    " \n",
    " \n",
    "2.FILTRAGE (paramètres fixes)\n",
    "Fixer à la main les paramètres sans s'occuper de l'initialisation\n",
    "\n",
    "\n",
    "3.PREDICTION (paramètres fixes)\n",
    "\n",
    "4.PMCMC (paramètres refités à chaque nouvelle prédiction)\n",
    "    \n",
    "\n",
    "\n"
   ]
  },
  {
   "cell_type": "code",
   "execution_count": 1,
   "metadata": {
    "collapsed": true
   },
   "outputs": [],
   "source": [
    "import pandas as pd\n",
    "import numpy as np\n",
    "import numpy.random as npr\n",
    "import matplotlib as mtp\n",
    "import matplotlib.pyplot as plt\n",
    "import scipy as sp\n",
    "from scipy.stats import truncnorm\n",
    "import scipy.stats as stats\n",
    "from scipy.stats import invgamma\n",
    "from scipy import ndimage"
   ]
  },
  {
   "cell_type": "code",
   "execution_count": 2,
   "metadata": {
    "collapsed": true
   },
   "outputs": [],
   "source": [
    "import pymc\n",
    "from pymc import MCMC"
   ]
  },
  {
   "cell_type": "markdown",
   "metadata": {},
   "source": [
    "### Parameters"
   ]
  },
  {
   "cell_type": "code",
   "execution_count": 366,
   "metadata": {
    "collapsed": true
   },
   "outputs": [],
   "source": [
    "n0=365 #Initialisaion sample\n",
    "M=10**5 #number of particles\n",
    "n_pred=48\n",
    "N_daytype=8"
   ]
  },
  {
   "cell_type": "code",
   "execution_count": 367,
   "metadata": {
    "collapsed": true
   },
   "outputs": [],
   "source": [
    "#Define some functions that will be essential for Particle Fitler algo 3.10\n",
    "\n",
    "def ESS(w,n):\n",
    "    return(1/(sum(w[n,:])**2))\n",
    "\n",
    "def resid_resample(x_h,w_h):  #algorithm 3.5\n",
    "    R=sum((M*w_h).astype(int))\n",
    "    if R>M:\n",
    "        return(print(\"weights are too heavy\"))\n",
    "    z=np.zeros(M)\n",
    "    z[:R-1]=x_h[:R-1]\n",
    "    w_=(M*w_h-(M*w_h).astype(int))/(M-R-1)\n",
    "    z[R:]=sum(w_)\n",
    "    return(z)\n",
    "\n",
    "def regul(x,w):  #algorithm 3.6\n",
    "    eps=sp.ndimage.filters.gaussian_filter(x,sigma=1)  #assume gaussian kernel\n",
    "    h=0.2 #bandwidth\n",
    "    z=x+h*(np.cov(x)**0.5)*eps\n",
    "    return(z)"
   ]
  },
  {
   "cell_type": "code",
   "execution_count": 342,
   "metadata": {},
   "outputs": [
    {
     "data": {
      "text/plain": [
       "array([ 0.45381159, -1.1557037 , -0.36407463,  1.05005335,  0.75125874,\n",
       "        0.4265294 ,  1.04663566, -1.24137966,  0.43254797,  0.        ,\n",
       "        1.25      ,  1.25      ,  1.25      ,  1.25      ,  1.25      ])"
      ]
     },
     "execution_count": 342,
     "metadata": {},
     "output_type": "execute_result"
    }
   ],
   "source": [
    "#test the functions on random sample\n",
    "resid_resample(npr.normal(size=10),np.repeat(0.1,10))"
   ]
  },
  {
   "cell_type": "code",
   "execution_count": 343,
   "metadata": {},
   "outputs": [
    {
     "data": {
      "text/plain": [
       "array([-1.3647982 , -1.2434997 ,  1.07040063,  0.10003987, -1.55593289,\n",
       "        2.40345597,  1.73910485,  1.53640021,  0.87382929,  0.86491349])"
      ]
     },
     "execution_count": 343,
     "metadata": {},
     "output_type": "execute_result"
    }
   ],
   "source": [
    "regul(npr.normal(size=10),np.repeat(0.1,10))"
   ]
  },
  {
   "cell_type": "code",
   "execution_count": 47,
   "metadata": {},
   "outputs": [
    {
     "data": {
      "text/plain": [
       "'\\n#truncated normal\\nlower = 0\\nupper = np.inf\\nmu = 0\\nsigma = 10^8\\nN = 1\\nsigma_s = np.asscalar(stats.truncnorm.rvs((lower-mu)/sigma,(upper-mu)/sigma,loc=mu,scale=sigma,size=N))\\ng_h = np.asscalar(stats.truncnorm.rvs((-np.inf-mu)/sigma,(0-mu)/sigma,loc=mu,scale=sigma,size=N))\\ns0 = np.asscalar(stats.truncnorm.rvs((np.inf-mu)/sigma,(0-mu)/sigma,loc=mu,scale=sigma,size=N))\\ng_c = np.asscalar(stats.truncnorm.rvs((np.inf-mu)/sigma,(0-mu)/sigma,loc=mu,scale=sigma,size=N))\\n#u_h=npr.normal(14,1)\\n#N_daytype=1\\n#p=np.ones(N_daytype)\\n#k_day=np.asscalar(npr.dirichlet(p,1))\\n#sigma2, sigma2_s0, sigma2_g0, sigma2_s, sigma2_g = invgamma.rvs(a=0.01,scale=0.01,size=5)\\ndelta_c = 5 #to be updated\\nT_h = 12 #to be updated\\n'"
      ]
     },
     "execution_count": 47,
     "metadata": {},
     "output_type": "execute_result"
    }
   ],
   "source": [
    "\"\"\"\n",
    "#truncated normal\n",
    "lower = 0\n",
    "upper = np.inf\n",
    "mu = 0\n",
    "sigma = 10^8\n",
    "N = 1\n",
    "sigma_s = np.asscalar(stats.truncnorm.rvs((lower-mu)/sigma,(upper-mu)/sigma,loc=mu,scale=sigma,size=N))\n",
    "g_h = np.asscalar(stats.truncnorm.rvs((-np.inf-mu)/sigma,(0-mu)/sigma,loc=mu,scale=sigma,size=N))\n",
    "s0 = np.asscalar(stats.truncnorm.rvs((np.inf-mu)/sigma,(0-mu)/sigma,loc=mu,scale=sigma,size=N))\n",
    "g_c = np.asscalar(stats.truncnorm.rvs((np.inf-mu)/sigma,(0-mu)/sigma,loc=mu,scale=sigma,size=N))\n",
    "#u_h=npr.normal(14,1)\n",
    "#N_daytype=1\n",
    "#p=np.ones(N_daytype)\n",
    "#k_day=np.asscalar(npr.dirichlet(p,1))\n",
    "#sigma2, sigma2_s0, sigma2_g0, sigma2_s, sigma2_g = invgamma.rvs(a=0.01,scale=0.01,size=5)\n",
    "delta_c = 5 #to be updated\n",
    "T_h = 12 #to be updated\n",
    "\"\"\""
   ]
  },
  {
   "cell_type": "markdown",
   "metadata": {},
   "source": [
    "### Simulate temperatures for T_heat"
   ]
  },
  {
   "cell_type": "code",
   "execution_count": 12,
   "metadata": {},
   "outputs": [
    {
     "data": {
      "image/png": "[encoded data removed]",
      "text/plain": [
       "<matplotlib.figure.Figure at 0x1193a2c50>"
      ]
     },
     "metadata": {},
     "output_type": "display_data"
    }
   ],
   "source": [
    "temp_month=np.array([6,7.3,12.2,15.9,19.8,22.9,24.8,24.3,21.3,15.7,10.1,6.7])  #monthly max temp in Paris\n",
    "month=['jan','fev','mar','av','may','juin','juil','aou','sep','oct','nov','dec']\n",
    "days_month=np.array([31,29,31,30,31,30,31,31,30,31,30,31])\n",
    "i=0\n",
    "temp_={}\n",
    "for m in month:\n",
    "    temp_[m]=np.repeat(temp_month[i],days_month[i])\n",
    "    i=i+1\n",
    "temp_month_mean=np.ones(0)\n",
    "for m in month:\n",
    "    temp_month_mean=np.concatenate((temp_month_mean,temp_[m]),axis=0)\n",
    "\n",
    "plt.plot(range(1,13),temp_month)\n",
    "plt.title('Monthly Temperatures')\n",
    "plt.show()"
   ]
  },
  {
   "cell_type": "code",
   "execution_count": 8,
   "metadata": {
    "collapsed": true
   },
   "outputs": [],
   "source": [
    "# T_heat: only temperatures over u_heat\n",
    "#T_h=np.copy(temp_month_mean)\n",
    "#T_h[T_h < u_h]=u_h\n",
    "\n",
    "#delta_cool=np.copy(temp_month)\n",
    "#delta_cool[delta_cool >= u_h]=u_h"
   ]
  },
  {
   "cell_type": "markdown",
   "metadata": {},
   "source": [
    "### Load the data"
   ]
  },
  {
   "cell_type": "code",
   "execution_count": 253,
   "metadata": {},
   "outputs": [],
   "source": [
    "path_AG=\"/Users/antoinegrelety/Documents/smc_electricity_forecast/data/\"\n",
    "df=pd.read_csv(path_AG+\"cdc_conso_daytypes.csv\",sep=\",\",encoding='latin-1')\n",
    "df.index=range(0,len(df))"
   ]
  },
  {
   "cell_type": "code",
   "execution_count": 254,
   "metadata": {},
   "outputs": [
    {
     "data": {
      "text/html": [
       "<div>\n",
       "<style>\n",
       "    .dataframe thead tr:only-child th {\n",
       "        text-align: right;\n",
       "    }\n",
       "\n",
       "    .dataframe thead th {\n",
       "        text-align: left;\n",
       "    }\n",
       "\n",
       "    .dataframe tbody tr th {\n",
       "        vertical-align: top;\n",
       "    }\n",
       "</style>\n",
       "<table border=\"1\" class=\"dataframe\">\n",
       "  <thead>\n",
       "    <tr style=\"text-align: right;\">\n",
       "      <th></th>\n",
       "      <th>Unnamed: 0</th>\n",
       "      <th>Date - Heure</th>\n",
       "      <th>Date</th>\n",
       "      <th>Heure</th>\n",
       "      <th>Consommation (MW)</th>\n",
       "      <th>Qualite donnee</th>\n",
       "      <th>daytype0</th>\n",
       "      <th>daytype1</th>\n",
       "      <th>daytype2</th>\n",
       "      <th>daytype3</th>\n",
       "      <th>daytype4</th>\n",
       "      <th>daytype6</th>\n",
       "      <th>daytype5</th>\n",
       "      <th>daytype7</th>\n",
       "      <th>daytype8</th>\n",
       "    </tr>\n",
       "  </thead>\n",
       "  <tbody>\n",
       "    <tr>\n",
       "      <th>0</th>\n",
       "      <td>0</td>\n",
       "      <td>2009-06-06T06:00:00+02:00</td>\n",
       "      <td>2009-06-06</td>\n",
       "      <td>06:00</td>\n",
       "      <td>35984</td>\n",
       "      <td>Définitive</td>\n",
       "      <td>False</td>\n",
       "      <td>False</td>\n",
       "      <td>True</td>\n",
       "      <td>False</td>\n",
       "      <td>False</td>\n",
       "      <td>False</td>\n",
       "      <td>False</td>\n",
       "      <td>False</td>\n",
       "      <td>False</td>\n",
       "    </tr>\n",
       "    <tr>\n",
       "      <th>1</th>\n",
       "      <td>1</td>\n",
       "      <td>2009-06-06T09:00:00+02:00</td>\n",
       "      <td>2009-06-06</td>\n",
       "      <td>09:00</td>\n",
       "      <td>43188</td>\n",
       "      <td>Définitive</td>\n",
       "      <td>False</td>\n",
       "      <td>False</td>\n",
       "      <td>True</td>\n",
       "      <td>False</td>\n",
       "      <td>False</td>\n",
       "      <td>False</td>\n",
       "      <td>False</td>\n",
       "      <td>False</td>\n",
       "      <td>False</td>\n",
       "    </tr>\n",
       "    <tr>\n",
       "      <th>2</th>\n",
       "      <td>2</td>\n",
       "      <td>2009-06-06T11:30:00+02:00</td>\n",
       "      <td>2009-06-06</td>\n",
       "      <td>11:30</td>\n",
       "      <td>46959</td>\n",
       "      <td>Définitive</td>\n",
       "      <td>False</td>\n",
       "      <td>False</td>\n",
       "      <td>True</td>\n",
       "      <td>False</td>\n",
       "      <td>False</td>\n",
       "      <td>False</td>\n",
       "      <td>False</td>\n",
       "      <td>False</td>\n",
       "      <td>False</td>\n",
       "    </tr>\n",
       "    <tr>\n",
       "      <th>3</th>\n",
       "      <td>3</td>\n",
       "      <td>2009-06-06T12:30:00+02:00</td>\n",
       "      <td>2009-06-06</td>\n",
       "      <td>12:30</td>\n",
       "      <td>48622</td>\n",
       "      <td>Définitive</td>\n",
       "      <td>False</td>\n",
       "      <td>False</td>\n",
       "      <td>True</td>\n",
       "      <td>False</td>\n",
       "      <td>False</td>\n",
       "      <td>False</td>\n",
       "      <td>False</td>\n",
       "      <td>False</td>\n",
       "      <td>False</td>\n",
       "    </tr>\n",
       "    <tr>\n",
       "      <th>4</th>\n",
       "      <td>4</td>\n",
       "      <td>2009-06-06T20:30:00+02:00</td>\n",
       "      <td>2009-06-06</td>\n",
       "      <td>20:30</td>\n",
       "      <td>42578</td>\n",
       "      <td>Définitive</td>\n",
       "      <td>False</td>\n",
       "      <td>False</td>\n",
       "      <td>True</td>\n",
       "      <td>False</td>\n",
       "      <td>False</td>\n",
       "      <td>False</td>\n",
       "      <td>False</td>\n",
       "      <td>False</td>\n",
       "      <td>False</td>\n",
       "    </tr>\n",
       "  </tbody>\n",
       "</table>\n",
       "</div>"
      ],
      "text/plain": [
       "   Unnamed: 0               Date - Heure        Date  Heure  \\\n",
       "0           0  2009-06-06T06:00:00+02:00  2009-06-06  06:00   \n",
       "1           1  2009-06-06T09:00:00+02:00  2009-06-06  09:00   \n",
       "2           2  2009-06-06T11:30:00+02:00  2009-06-06  11:30   \n",
       "3           3  2009-06-06T12:30:00+02:00  2009-06-06  12:30   \n",
       "4           4  2009-06-06T20:30:00+02:00  2009-06-06  20:30   \n",
       "\n",
       "   Consommation (MW) Qualite donnee  daytype0  daytype1  daytype2  daytype3  \\\n",
       "0              35984     Définitive     False     False      True     False   \n",
       "1              43188     Définitive     False     False      True     False   \n",
       "2              46959     Définitive     False     False      True     False   \n",
       "3              48622     Définitive     False     False      True     False   \n",
       "4              42578     Définitive     False     False      True     False   \n",
       "\n",
       "   daytype4  daytype6  daytype5  daytype7  daytype8  \n",
       "0     False     False     False     False     False  \n",
       "1     False     False     False     False     False  \n",
       "2     False     False     False     False     False  \n",
       "3     False     False     False     False     False  \n",
       "4     False     False     False     False     False  "
      ]
     },
     "execution_count": 254,
     "metadata": {},
     "output_type": "execute_result"
    }
   ],
   "source": [
    "df.head()"
   ]
  },
  {
   "cell_type": "code",
   "execution_count": 239,
   "metadata": {},
   "outputs": [
    {
     "data": {
      "text/plain": [
       "Définitive       157824\n",
       "Intermédiaire     14592\n",
       "Name: Qualite donnee, dtype: int64"
      ]
     },
     "execution_count": 239,
     "metadata": {},
     "output_type": "execute_result"
    }
   ],
   "source": [
    "df['Qualite donnee'].value_counts()"
   ]
  },
  {
   "cell_type": "code",
   "execution_count": 240,
   "metadata": {},
   "outputs": [],
   "source": [
    "df=df.sort_values(by=['Date'])\n",
    "df['Date - Heure'][df['Qualite donnee']==\"Intermédiaire\"][:5]\n",
    "df.index=range(0,len(df))\n",
    "#Valeurs intermédiaires à partir de 2017"
   ]
  },
  {
   "cell_type": "code",
   "execution_count": 241,
   "metadata": {
    "collapsed": true
   },
   "outputs": [],
   "source": [
    "#On se concentre d'abord sur une année afin d'initialiser le filtre\n",
    "df=df[(df.Date >'2016-01-01') & (df.Date <'2017-01-01')]"
   ]
  },
  {
   "cell_type": "code",
   "execution_count": 128,
   "metadata": {},
   "outputs": [
    {
     "data": {
      "image/png": "[encoded data removed]",
      "text/plain": [
       "<matplotlib.figure.Figure at 0x11d0dc860>"
      ]
     },
     "metadata": {},
     "output_type": "display_data"
    }
   ],
   "source": [
    "plt.plot_date(df.Date,df['Consommation (MW)'],fmt='-')\n",
    "plt.show()"
   ]
  },
  {
   "cell_type": "code",
   "execution_count": 242,
   "metadata": {},
   "outputs": [],
   "source": [
    "y_n=df['Consommation (MW)']\n",
    "y_n=y_n[:500]\n",
    "y_n=y_n.values"
   ]
  },
  {
   "cell_type": "code",
   "execution_count": 27,
   "metadata": {},
   "outputs": [
    {
     "data": {
      "image/png": "[encoded data removed]",
      "text/plain": [
       "<matplotlib.figure.Figure at 0x10a561b00>"
      ]
     },
     "metadata": {},
     "output_type": "display_data"
    }
   ],
   "source": [
    "bins=range(30000,100000,1000)\n",
    "plt.hist(df['Consommation (MW)'],normed=True,bins=bins)\n",
    "plt.show()"
   ]
  },
  {
   "cell_type": "code",
   "execution_count": 255,
   "metadata": {},
   "outputs": [],
   "source": [
    "for k in range(0,9):\n",
    "    df['daytype'+str(k)] = df['daytype'+str(k)].apply(lambda x:k if x==True else 0)\n"
   ]
  },
  {
   "cell_type": "code",
   "execution_count": 256,
   "metadata": {},
   "outputs": [
    {
     "data": {
      "text/html": [
       "<div>\n",
       "<style>\n",
       "    .dataframe thead tr:only-child th {\n",
       "        text-align: right;\n",
       "    }\n",
       "\n",
       "    .dataframe thead th {\n",
       "        text-align: left;\n",
       "    }\n",
       "\n",
       "    .dataframe tbody tr th {\n",
       "        vertical-align: top;\n",
       "    }\n",
       "</style>\n",
       "<table border=\"1\" class=\"dataframe\">\n",
       "  <thead>\n",
       "    <tr style=\"text-align: right;\">\n",
       "      <th></th>\n",
       "      <th>Unnamed: 0</th>\n",
       "      <th>Date - Heure</th>\n",
       "      <th>Date</th>\n",
       "      <th>Heure</th>\n",
       "      <th>Consommation (MW)</th>\n",
       "      <th>Qualite donnee</th>\n",
       "      <th>daytype0</th>\n",
       "      <th>daytype1</th>\n",
       "      <th>daytype2</th>\n",
       "      <th>daytype3</th>\n",
       "      <th>daytype4</th>\n",
       "      <th>daytype6</th>\n",
       "      <th>daytype5</th>\n",
       "      <th>daytype7</th>\n",
       "      <th>daytype8</th>\n",
       "    </tr>\n",
       "  </thead>\n",
       "  <tbody>\n",
       "    <tr>\n",
       "      <th>0</th>\n",
       "      <td>0</td>\n",
       "      <td>2009-06-06T06:00:00+02:00</td>\n",
       "      <td>2009-06-06</td>\n",
       "      <td>06:00</td>\n",
       "      <td>35984</td>\n",
       "      <td>Définitive</td>\n",
       "      <td>0</td>\n",
       "      <td>0</td>\n",
       "      <td>2</td>\n",
       "      <td>0</td>\n",
       "      <td>0</td>\n",
       "      <td>0</td>\n",
       "      <td>0</td>\n",
       "      <td>0</td>\n",
       "      <td>0</td>\n",
       "    </tr>\n",
       "    <tr>\n",
       "      <th>1</th>\n",
       "      <td>1</td>\n",
       "      <td>2009-06-06T09:00:00+02:00</td>\n",
       "      <td>2009-06-06</td>\n",
       "      <td>09:00</td>\n",
       "      <td>43188</td>\n",
       "      <td>Définitive</td>\n",
       "      <td>0</td>\n",
       "      <td>0</td>\n",
       "      <td>2</td>\n",
       "      <td>0</td>\n",
       "      <td>0</td>\n",
       "      <td>0</td>\n",
       "      <td>0</td>\n",
       "      <td>0</td>\n",
       "      <td>0</td>\n",
       "    </tr>\n",
       "    <tr>\n",
       "      <th>2</th>\n",
       "      <td>2</td>\n",
       "      <td>2009-06-06T11:30:00+02:00</td>\n",
       "      <td>2009-06-06</td>\n",
       "      <td>11:30</td>\n",
       "      <td>46959</td>\n",
       "      <td>Définitive</td>\n",
       "      <td>0</td>\n",
       "      <td>0</td>\n",
       "      <td>2</td>\n",
       "      <td>0</td>\n",
       "      <td>0</td>\n",
       "      <td>0</td>\n",
       "      <td>0</td>\n",
       "      <td>0</td>\n",
       "      <td>0</td>\n",
       "    </tr>\n",
       "    <tr>\n",
       "      <th>3</th>\n",
       "      <td>3</td>\n",
       "      <td>2009-06-06T12:30:00+02:00</td>\n",
       "      <td>2009-06-06</td>\n",
       "      <td>12:30</td>\n",
       "      <td>48622</td>\n",
       "      <td>Définitive</td>\n",
       "      <td>0</td>\n",
       "      <td>0</td>\n",
       "      <td>2</td>\n",
       "      <td>0</td>\n",
       "      <td>0</td>\n",
       "      <td>0</td>\n",
       "      <td>0</td>\n",
       "      <td>0</td>\n",
       "      <td>0</td>\n",
       "    </tr>\n",
       "    <tr>\n",
       "      <th>4</th>\n",
       "      <td>4</td>\n",
       "      <td>2009-06-06T20:30:00+02:00</td>\n",
       "      <td>2009-06-06</td>\n",
       "      <td>20:30</td>\n",
       "      <td>42578</td>\n",
       "      <td>Définitive</td>\n",
       "      <td>0</td>\n",
       "      <td>0</td>\n",
       "      <td>2</td>\n",
       "      <td>0</td>\n",
       "      <td>0</td>\n",
       "      <td>0</td>\n",
       "      <td>0</td>\n",
       "      <td>0</td>\n",
       "      <td>0</td>\n",
       "    </tr>\n",
       "  </tbody>\n",
       "</table>\n",
       "</div>"
      ],
      "text/plain": [
       "   Unnamed: 0               Date - Heure        Date  Heure  \\\n",
       "0           0  2009-06-06T06:00:00+02:00  2009-06-06  06:00   \n",
       "1           1  2009-06-06T09:00:00+02:00  2009-06-06  09:00   \n",
       "2           2  2009-06-06T11:30:00+02:00  2009-06-06  11:30   \n",
       "3           3  2009-06-06T12:30:00+02:00  2009-06-06  12:30   \n",
       "4           4  2009-06-06T20:30:00+02:00  2009-06-06  20:30   \n",
       "\n",
       "   Consommation (MW) Qualite donnee  daytype0  daytype1  daytype2  daytype3  \\\n",
       "0              35984     Définitive         0         0         2         0   \n",
       "1              43188     Définitive         0         0         2         0   \n",
       "2              46959     Définitive         0         0         2         0   \n",
       "3              48622     Définitive         0         0         2         0   \n",
       "4              42578     Définitive         0         0         2         0   \n",
       "\n",
       "   daytype4  daytype6  daytype5  daytype7  daytype8  \n",
       "0         0         0         0         0         0  \n",
       "1         0         0         0         0         0  \n",
       "2         0         0         0         0         0  \n",
       "3         0         0         0         0         0  \n",
       "4         0         0         0         0         0  "
      ]
     },
     "execution_count": 256,
     "metadata": {},
     "output_type": "execute_result"
    }
   ],
   "source": [
    "df.head()"
   ]
  },
  {
   "cell_type": "markdown",
   "metadata": {},
   "source": [
    "## Implementation of Algorithm 3.10"
   ]
  },
  {
   "cell_type": "markdown",
   "metadata": {},
   "source": [
    "## At time n=0:"
   ]
  },
  {
   "cell_type": "markdown",
   "metadata": {
    "collapsed": true
   },
   "source": [
    "### 1.Definition of MCMC initial model at n=0 - sample $X_0^{j} \\sim \\mu(x_0)$"
   ]
  },
  {
   "cell_type": "code",
   "execution_count": 368,
   "metadata": {
    "collapsed": true
   },
   "outputs": [],
   "source": [
    "delta_c = 5 #to be updated\n",
    "sigma2=invgamma.rvs(a=0.01,scale=0.01)"
   ]
  },
  {
   "cell_type": "code",
   "execution_count": 369,
   "metadata": {},
   "outputs": [
    {
     "data": {
      "text/plain": [
       "4.3373175529662809e+31"
      ]
     },
     "execution_count": 369,
     "metadata": {},
     "output_type": "execute_result"
    }
   ],
   "source": [
    "sigma2  #very, very volatile parameter"
   ]
  },
  {
   "cell_type": "code",
   "execution_count": 370,
   "metadata": {},
   "outputs": [
    {
     "name": "stderr",
     "output_type": "stream",
     "text": [
      "/Users/antoinegrelety/anaconda3/lib/python3.6/site-packages/pymc/utils.py:435: RuntimeWarning: divide by zero encountered in log\n",
      "  return np.where(y > 0, np.log(y), -np.inf)\n"
     ]
    }
   ],
   "source": [
    "s0=pymc.TruncatedNormal(\"s0\",mu=0,tau=1/(10^8),a=0,b=np.inf)\n",
    "gc=pymc.TruncatedNormal(\"gc\",mu=0,tau=1/(10^8),a=0,b=np.inf)\n",
    "g0=pymc.TruncatedNormal(\"g0\",mu=0,tau=1/(10^8),a=0,b=np.inf)\n",
    "g0_h=pymc.TruncatedNormal(\"g0_h\",mu=0,tau=1/(10^8),a=-np.inf,b=0)\n",
    "u_h=pymc.Normal(\"u_h\",mu=14,tau=1)"
   ]
  },
  {
   "cell_type": "code",
   "execution_count": 371,
   "metadata": {},
   "outputs": [],
   "source": [
    "k_day=(npr.dirichlet(size = 1, alpha = [1]*8))[0]*N_daytype  #initialize k_day without pymc\n",
    "daytype=0  #initialised at 0 (Monday)\n",
    "day=0 #day of the year (from 0 to 365)\n",
    "T_h=temp_month_mean #vector of length 365, takes average monthly temperature for each day of the year\n",
    "#to be refined later (eg access to daily temperatures\n",
    "#and aggregate temperatures from all weather stations in France Métropolitaine)"
   ]
  },
  {
   "cell_type": "code",
   "execution_count": 372,
   "metadata": {},
   "outputs": [],
   "source": [
    "@pymc.deterministic(plot=False)\n",
    "def x_season(s0=s0,k_day=k_day,daytype=daytype):\n",
    "    out=np.empty(len(y_n))\n",
    "    out.fill(s0*np.asscalar(k_day[daytype]))\n",
    "    return(out)\n",
    "\n",
    "@pymc.deterministic(plot=False)\n",
    "def x_heat(g0_h=g0_h,T_h=T_h,u_h=u_h,day=day):\n",
    "    out=np.empty(len(y_n))\n",
    "    ind=lambda x:1 if x>u_h else 0\n",
    "    vfunc=np.vectorize(ind)\n",
    "    out.fill(g0_h*(T_h[day]-u_h)*vfunc(T_h[day]))\n",
    "    return(out)\n",
    "\n",
    "@pymc.deterministic(plot=False)\n",
    "def x_cool(g_c=gc,detla_c=delta_c):\n",
    "    out=np.empty(len(y_n))\n",
    "    out.fill(g_c*delta_c)\n",
    "    return(out)\n",
    "\n",
    "@pymc.deterministic(plot=False)\n",
    "def x(x_season=x_season, x_heat=x_heat, x_cool=x_cool):\n",
    "    out=np.empty(len(y_n))\n",
    "    out=x_season+x_heat+x_cool\n",
    "    return(out)\n"
   ]
  },
  {
   "cell_type": "code",
   "execution_count": 373,
   "metadata": {
    "collapsed": true
   },
   "outputs": [],
   "source": [
    "y=pymc.Normal(\"y\",mu=x,tau=sigma2,value=y_n,observed=True)"
   ]
  },
  {
   "cell_type": "code",
   "execution_count": 374,
   "metadata": {
    "collapsed": true
   },
   "outputs": [],
   "source": [
    "model=pymc.Model([s0,gc,g0,g0_h,u_h,x_season,x_heat,x_cool,x,y])"
   ]
  },
  {
   "cell_type": "code",
   "execution_count": 375,
   "metadata": {},
   "outputs": [
    {
     "data": {
      "text/plain": [
       "{'mu': <pymc.PyMCObjects.Deterministic 'x' at 0x12cd21438>,\n",
       " 'tau': 4.3373175529662809e+31}"
      ]
     },
     "execution_count": 375,
     "metadata": {},
     "output_type": "execute_result"
    }
   ],
   "source": [
    "y.parents"
   ]
  },
  {
   "cell_type": "code",
   "execution_count": 376,
   "metadata": {
    "collapsed": true
   },
   "outputs": [],
   "source": [
    "sampler=MCMC(model)"
   ]
  },
  {
   "cell_type": "code",
   "execution_count": 377,
   "metadata": {},
   "outputs": [
    {
     "name": "stderr",
     "output_type": "stream",
     "text": [
      "/Users/antoinegrelety/anaconda3/lib/python3.6/site-packages/pymc/utils.py:435: RuntimeWarning: divide by zero encountered in log\n",
      "  return np.where(y > 0, np.log(y), -np.inf)\n"
     ]
    },
    {
     "name": "stdout",
     "output_type": "stream",
     "text": [
      " [-----------------100%-----------------] 50000 of 50000 complete in 49.8 sec"
     ]
    }
   ],
   "source": [
    "sampler.sample(iter=100*len(y_n), burn=10*len(y_n), thin=10) "
   ]
  },
  {
   "cell_type": "code",
   "execution_count": 378,
   "metadata": {
    "collapsed": true
   },
   "outputs": [],
   "source": [
    "s_tr = sampler.trace(\"s0\")"
   ]
  },
  {
   "cell_type": "code",
   "execution_count": 379,
   "metadata": {},
   "outputs": [
    {
     "data": {
      "text/plain": [
       "array([ 3002.40960728,  3006.33009949,  3011.33417411,  3016.58718968,\n",
       "        3020.19933382,  3030.40381563,  3038.22800084,  3041.92171986,\n",
       "        3049.12057482,  3052.32392489,  3059.37888574,  3063.86679197,\n",
       "        3069.33773594,  3075.59190803,  3079.16564865,  3085.37362805,\n",
       "        3092.71195684,  3098.26054722,  3102.31394669,  3109.25946146])"
      ]
     },
     "execution_count": 379,
     "metadata": {},
     "output_type": "execute_result"
    }
   ],
   "source": [
    "sampler.trace(\"s0\")[0:20]  # Just look at the first few values"
   ]
  },
  {
   "cell_type": "code",
   "execution_count": 380,
   "metadata": {},
   "outputs": [
    {
     "data": {
      "image/png": "[encoded data removed]",
      "text/plain": [
       "<matplotlib.figure.Figure at 0x11ff1c198>"
      ]
     },
     "metadata": {},
     "output_type": "display_data"
    }
   ],
   "source": [
    "%matplotlib inline\n",
    "plt.hist(s_tr[:])\n",
    "plt.show()"
   ]
  },
  {
   "cell_type": "code",
   "execution_count": 381,
   "metadata": {},
   "outputs": [
    {
     "name": "stdout",
     "output_type": "stream",
     "text": [
      "Plotting g0\n",
      "Plotting g0_h\n",
      "Plotting u_h\n",
      "Plotting gc\n",
      "Plotting s0\n"
     ]
    },
    {
     "data": {
      "image/png": "[encoded data removed]",
      "text/plain": [
       "<matplotlib.figure.Figure at 0x11e478fd0>"
      ]
     },
     "metadata": {},
     "output_type": "display_data"
    },
    {
     "data": {
      "image/png": "[encoded data removed]",
      "text/plain": [
       "<matplotlib.figure.Figure at 0x143368518>"
      ]
     },
     "metadata": {},
     "output_type": "display_data"
    },
    {
     "data": {
      "image/png": "[encoded data removed]",
      "text/plain": [
       "<matplotlib.figure.Figure at 0x12cd21160>"
      ]
     },
     "metadata": {},
     "output_type": "display_data"
    },
    {
     "data": {
      "image/png": "[encoded data removed]",
      "text/plain": [
       "<matplotlib.figure.Figure at 0x11e914908>"
      ]
     },
     "metadata": {},
     "output_type": "display_data"
    },
    {
     "data": {
      "image/png": "[encoded data removed]",
      "text/plain": [
       "<matplotlib.figure.Figure at 0x12ae774e0>"
      ]
     },
     "metadata": {},
     "output_type": "display_data"
    }
   ],
   "source": [
    "pymc.Matplot.plot(sampler)"
   ]
  },
  {
   "cell_type": "code",
   "execution_count": 395,
   "metadata": {
    "collapsed": true
   },
   "outputs": [],
   "source": [
    "#take the value of the last iteration for each parameter. These parameters will be the used to estimate X_0\n",
    "s0=sampler.trace(\"s0\")[-1]\n",
    "u_h_0=sampler.trace(\"u_h\")[-1]\n",
    "gc=sampler.trace(\"gc\")[-1]\n",
    "g0=sampler.trace(\"g0\")[-1]\n",
    "g0_h=sampler.trace(\"g0_h\")[-1]\n"
   ]
  },
  {
   "cell_type": "code",
   "execution_count": 396,
   "metadata": {},
   "outputs": [],
   "source": [
    "#Generate M times X_0\n",
    "x_season =np.zeros([n_pred+1,M])\n",
    "x_heat =np.zeros([n_pred+1,M])\n",
    "x =np.zeros([n_pred+1,M])\n",
    "\n",
    "#Assume all M particles take the same value at initial state\n",
    "x_season[0,:]=s0*k_day_0\n",
    "x_heat[0,:]=g0_h*(T_h[day]-u_h_0)*1\n",
    "\n",
    "x_0=x_season[0,:]+x_heat[0,:]   #ignore x_cool for now\n"
   ]
  },
  {
   "cell_type": "markdown",
   "metadata": {},
   "source": [
    "### 2.Compute the weights and re-assess the values of X_0 and w_0 based on ESS value\n"
   ]
  },
  {
   "cell_type": "code",
   "execution_count": 397,
   "metadata": {},
   "outputs": [
    {
     "name": "stdout",
     "output_type": "stream",
     "text": [
      "1e-05\n"
     ]
    }
   ],
   "source": [
    "w0 =np.zeros([1,M])\n",
    "w0_=x_0+npr.normal(0,sigma2,size=M)\n",
    "w0_h=w0_/sum(w0_)\n",
    "ESS_0=1/((sum(w0_h))**2)\n",
    "print(ESS_0/M)"
   ]
  },
  {
   "cell_type": "code",
   "execution_count": 398,
   "metadata": {},
   "outputs": [],
   "source": [
    "if ESS_0 <0.001*M:\n",
    "    x[0,:]=x_0\n",
    "    w0[0,:]=np.ones(M)*(1/M)\n",
    "if (ESS_0>=0.001*M and ESS_0<0.5*M):\n",
    "    x_temp=resid_resample(x_0,w0_h)\n",
    "    w_temp=np.ones(M)*(1/M)\n",
    "    x[0,:]=regul(x_temp,w_temp)\n",
    "    w0[0,:]=w_temp\n",
    "if ESS_0>=0.5*M:\n",
    "    x[0,:]=x_0\n",
    "    w0[0,:]=w0_"
   ]
  },
  {
   "cell_type": "code",
   "execution_count": 399,
   "metadata": {},
   "outputs": [
    {
     "data": {
      "text/plain": [
       "array([  2.31480405e+22,   2.31480405e+22,   2.31480405e+22,\n",
       "         2.31480405e+22,   2.31480405e+22,   2.31480405e+22,\n",
       "         2.31480405e+22,   2.31480405e+22,   2.31480405e+22,\n",
       "         2.31480405e+22])"
      ]
     },
     "execution_count": 399,
     "metadata": {},
     "output_type": "execute_result"
    }
   ],
   "source": [
    "x[0,:10]"
   ]
  },
  {
   "cell_type": "code",
   "execution_count": null,
   "metadata": {},
   "outputs": [],
   "source": [
    "#plt.hist(x[0,:])"
   ]
  },
  {
   "cell_type": "markdown",
   "metadata": {
    "collapsed": true
   },
   "source": [
    "## Filtering at time n>0"
   ]
  },
  {
   "cell_type": "markdown",
   "metadata": {},
   "source": [
    "### 1. Sample $x^j_n \\mid X^j_{n-1} $ for all j=1...M particles"
   ]
  },
  {
   "cell_type": "code",
   "execution_count": 67,
   "metadata": {
    "collapsed": true
   },
   "outputs": [],
   "source": [
    "\n",
    "\n"
   ]
  },
  {
   "cell_type": "code",
   "execution_count": null,
   "metadata": {
    "collapsed": true
   },
   "outputs": [],
   "source": []
  }
 ],
 "metadata": {
  "kernelspec": {
   "display_name": "Python 3",
   "language": "python",
   "name": "python3"
  },
  "language_info": {
   "codemirror_mode": {
    "name": "ipython",
    "version": 3
   },
   "file_extension": ".py",
   "mimetype": "text/x-python",
   "name": "python",
   "nbconvert_exporter": "python",
   "pygments_lexer": "ipython3",
   "version": "3.6.3"
  }
 },
 "nbformat": 4,
 "nbformat_minor": 2
}
