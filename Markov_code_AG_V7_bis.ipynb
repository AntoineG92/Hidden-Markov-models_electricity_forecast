{
 "cells": [
  {
   "cell_type": "markdown",
   "metadata": {},
   "source": [
    "# On particle filters applied to electricity load forecasting"
   ]
  },
  {
   "cell_type": "markdown",
   "metadata": {},
   "source": [
    "PyMC tuto\n",
    "\n",
    "https://pymc-devs.github.io/pymc/tutorial.html#fitting-the-model-with-mcmc\n",
    "\n",
    "http://sdsawtelle.github.io/blog/output/mcmc-in-python-with-pymc.html\n",
    "    "
   ]
  },
  {
   "cell_type": "markdown",
   "metadata": {},
   "source": [
    "NC Email:\n",
    "\n",
    "Voilà quelques pistes que vous pouvez suivre:\n",
    "* commencer par implémenter un bootstrap filter pour le modèle proposé, et des valeurs des paramètres choisis à la main ﴾en fonction des valeurs reportées dans l'article par exemple﴿ et des données que vous pouvez simuler. Déterminer à quel point l'algorithme marche bien:\n",
    "+ graphe de l'ESS en fonction du temps; voir si effectivement certains outliers font fortement chuter l'ESS. Essayer la méthode proposée pour gérer ses outliers.\n",
    "+ intervalles de confiance pour l'estimation de E[X_t|Y_{0:t}], basé sur plusieurs exécutions, par exemple.\n",
    "\n",
    "Deuxième étape: estimation des paramètres. Vous pouvez essayer une des trois approches suivantes, triées par ordre de difficulté:\n",
    "1. maximisation de la vraisemblance ﴾estimée par votre filtre particulaire pour un theta donné﴿, en utilisant une méthode de maximisation pour fonction bruitée ﴾par ex Robbins‐Monroe﴿.\n",
    "2. PMMH, voir le prochain cours. Principale difficulté: l'algorithme peut prendre du temps, et ne pas être très facile à calibrer, mais je vais en parler en cours.\n",
    "3. Particle Gibbs: c'est peut‐être un peu compliqué pour ce modèle, mais si vous arrivez, gros bonus!"
   ]
  },
  {
   "cell_type": "markdown",
   "metadata": {},
   "source": [
    "TO-DO liste\n",
    "\n",
    "1.INITIALISATION\n",
    "\n",
    "\n",
    "2.FILTRAGE (paramètres fixes)\n",
    "Fixer à la main les paramètres sans s'occuper de l'initialisation\n",
    "\n",
    "\n",
    "3.PREDICTION (paramètres fixes)\n",
    "\n",
    "4.PMCMC (paramètres refités à chaque nouvelle prédiction)\n",
    "    \n",
    "\n",
    "\n"
   ]
  },
  {
   "cell_type": "code",
   "execution_count": 1,
   "metadata": {
    "collapsed": true
   },
   "outputs": [],
   "source": [
    "import pandas as pd\n",
    "import numpy as np\n",
    "import numpy.random as npr\n",
    "import matplotlib as mtp\n",
    "import matplotlib.pyplot as plt\n",
    "import scipy as sp\n",
    "from scipy.stats import truncnorm\n",
    "import scipy.stats as stats\n",
    "from scipy.stats import invgamma\n",
    "from scipy import ndimage"
   ]
  },
  {
   "cell_type": "code",
   "execution_count": 2,
   "metadata": {
    "collapsed": true
   },
   "outputs": [],
   "source": [
    "#import pymc\n",
    "#from pymc import MCMC"
   ]
  },
  {
   "cell_type": "markdown",
   "metadata": {},
   "source": [
    "### Parameters"
   ]
  },
  {
   "cell_type": "code",
   "execution_count": 3,
   "metadata": {
    "collapsed": true
   },
   "outputs": [],
   "source": [
    "n0=365 #Initialisaion sample\n",
    "M=10**3 #number of particles\n",
    "n_pred=48  #number of predictions\n",
    "N_daytype=8  #number of day types\n",
    "burnin_halfhour=1000  #burnin period in 30min interval [OPTION C]\n",
    "burnin_days=28 #burnin period in # of days  [OPTION C]"
   ]
  },
  {
   "cell_type": "code",
   "execution_count": 4,
   "metadata": {
    "collapsed": true
   },
   "outputs": [],
   "source": [
    "#Define functions for filtering and regularization of weigths for Particle Fitler algo 3.10\n",
    "\n",
    "def ESS(w,n):\n",
    "    return(1/(sum(w[n,:])**2))\n",
    "\n",
    "def resid_resample(x_h,w_h):  #algorithm 3.5\n",
    "    R=sum((M*w_h).astype(int))\n",
    "    if R>M:\n",
    "        return(print(\"weights are too heavy\"))\n",
    "    z=np.zeros(M)\n",
    "    z[:R-1]=x_h[:R-1]\n",
    "    w_=(M*w_h-(M*w_h).astype(int))/(M-R-1)\n",
    "    z[R:]=sum(w_)\n",
    "    return(z)\n",
    "\n",
    "def regul(x,w):  #algorithm 3.6\n",
    "    eps=sp.ndimage.filters.gaussian_filter(x,sigma=1)  #assume gaussian kernel\n",
    "    h=0.2 #bandwidth\n",
    "    z=x+h*(np.cov(x)**0.5)*eps\n",
    "    return(z)"
   ]
  },
  {
   "cell_type": "code",
   "execution_count": 5,
   "metadata": {
    "collapsed": true
   },
   "outputs": [],
   "source": [
    "#test the functions on random sample\n",
    "#resid_resample(npr.normal(size=10),np.repeat(0.1,10))"
   ]
  },
  {
   "cell_type": "code",
   "execution_count": 6,
   "metadata": {},
   "outputs": [
    {
     "data": {
      "text/plain": [
       "array([-1.03649283, -0.9906    ,  0.17866311, -0.67930168, -1.22615444,\n",
       "       -0.60623059,  0.52763558,  0.19653669, -0.24059902, -1.36047582])"
      ]
     },
     "execution_count": 6,
     "metadata": {},
     "output_type": "execute_result"
    }
   ],
   "source": [
    "regul(npr.normal(size=10),np.repeat(0.1,10))"
   ]
  },
  {
   "cell_type": "markdown",
   "metadata": {},
   "source": [
    "### Load temperatures data"
   ]
  },
  {
   "cell_type": "code",
   "execution_count": 7,
   "metadata": {},
   "outputs": [
    {
     "data": {
      "text/html": [
       "<div>\n",
       "<style scoped>\n",
       "    .dataframe tbody tr th:only-of-type {\n",
       "        vertical-align: middle;\n",
       "    }\n",
       "\n",
       "    .dataframe tbody tr th {\n",
       "        vertical-align: top;\n",
       "    }\n",
       "\n",
       "    .dataframe thead th {\n",
       "        text-align: right;\n",
       "    }\n",
       "</style>\n",
       "<table border=\"1\" class=\"dataframe\">\n",
       "  <thead>\n",
       "    <tr style=\"text-align: right;\">\n",
       "      <th></th>\n",
       "      <th>date</th>\n",
       "      <th>t</th>\n",
       "      <th>hour</th>\n",
       "    </tr>\n",
       "  </thead>\n",
       "  <tbody>\n",
       "    <tr>\n",
       "      <th>1707</th>\n",
       "      <td>2016-01-01</td>\n",
       "      <td>9.044444</td>\n",
       "      <td>09:00</td>\n",
       "    </tr>\n",
       "    <tr>\n",
       "      <th>1710</th>\n",
       "      <td>2016-01-01</td>\n",
       "      <td>11.005556</td>\n",
       "      <td>18:00</td>\n",
       "    </tr>\n",
       "    <tr>\n",
       "      <th>1709</th>\n",
       "      <td>2016-01-01</td>\n",
       "      <td>11.437736</td>\n",
       "      <td>15:00</td>\n",
       "    </tr>\n",
       "    <tr>\n",
       "      <th>1708</th>\n",
       "      <td>2016-01-01</td>\n",
       "      <td>11.196296</td>\n",
       "      <td>12:00</td>\n",
       "    </tr>\n",
       "    <tr>\n",
       "      <th>1711</th>\n",
       "      <td>2016-01-01</td>\n",
       "      <td>10.683333</td>\n",
       "      <td>21:00</td>\n",
       "    </tr>\n",
       "  </tbody>\n",
       "</table>\n",
       "</div>"
      ],
      "text/plain": [
       "            date          t   hour\n",
       "1707  2016-01-01   9.044444  09:00\n",
       "1710  2016-01-01  11.005556  18:00\n",
       "1709  2016-01-01  11.437736  15:00\n",
       "1708  2016-01-01  11.196296  12:00\n",
       "1711  2016-01-01  10.683333  21:00"
      ]
     },
     "execution_count": 7,
     "metadata": {},
     "output_type": "execute_result"
    }
   ],
   "source": [
    "df_temp=pd.read_csv('data/temp_2016.csv',sep=',')\n",
    "df_temp=df_temp.drop(df_temp.columns[0],axis=1)\n",
    "df_temp=df_temp.sort_values(by='date')\n",
    "df_temp.head()"
   ]
  },
  {
   "cell_type": "code",
   "execution_count": 8,
   "metadata": {
    "collapsed": true
   },
   "outputs": [],
   "source": [
    "#temperatures every day at 3pm\n",
    "temp_day=df_temp[df_temp.hour==\"15:00\"]\n",
    "temp_day.head()\n",
    "T_h=list(temp_day.t)"
   ]
  },
  {
   "cell_type": "markdown",
   "metadata": {},
   "source": [
    "### Load electricity data"
   ]
  },
  {
   "cell_type": "code",
   "execution_count": 9,
   "metadata": {
    "collapsed": true
   },
   "outputs": [],
   "source": [
    "mypath=\"data/\"\n",
    "df=pd.read_csv(mypath+\"cdc_conso_daytypes.csv\",sep=\",\",encoding='latin-1')\n",
    "df.index=range(0,len(df))"
   ]
  },
  {
   "cell_type": "code",
   "execution_count": 10,
   "metadata": {},
   "outputs": [
    {
     "data": {
      "text/html": [
       "<div>\n",
       "<style scoped>\n",
       "    .dataframe tbody tr th:only-of-type {\n",
       "        vertical-align: middle;\n",
       "    }\n",
       "\n",
       "    .dataframe tbody tr th {\n",
       "        vertical-align: top;\n",
       "    }\n",
       "\n",
       "    .dataframe thead th {\n",
       "        text-align: right;\n",
       "    }\n",
       "</style>\n",
       "<table border=\"1\" class=\"dataframe\">\n",
       "  <thead>\n",
       "    <tr style=\"text-align: right;\">\n",
       "      <th></th>\n",
       "      <th>Unnamed: 0</th>\n",
       "      <th>Date - Heure</th>\n",
       "      <th>Date</th>\n",
       "      <th>Heure</th>\n",
       "      <th>Consommation (MW)</th>\n",
       "      <th>Qualite donnee</th>\n",
       "      <th>daytype0</th>\n",
       "      <th>daytype1</th>\n",
       "      <th>daytype2</th>\n",
       "      <th>daytype3</th>\n",
       "      <th>daytype4</th>\n",
       "      <th>daytype6</th>\n",
       "      <th>daytype5</th>\n",
       "      <th>daytype7</th>\n",
       "      <th>daytype8</th>\n",
       "      <th>daytype</th>\n",
       "    </tr>\n",
       "  </thead>\n",
       "  <tbody>\n",
       "    <tr>\n",
       "      <th>0</th>\n",
       "      <td>0</td>\n",
       "      <td>2009-06-06T06:00:00+02:00</td>\n",
       "      <td>2009-06-06</td>\n",
       "      <td>06:00</td>\n",
       "      <td>35984</td>\n",
       "      <td>DÃ©finitive</td>\n",
       "      <td>False</td>\n",
       "      <td>False</td>\n",
       "      <td>True</td>\n",
       "      <td>False</td>\n",
       "      <td>False</td>\n",
       "      <td>False</td>\n",
       "      <td>False</td>\n",
       "      <td>False</td>\n",
       "      <td>False</td>\n",
       "      <td>2</td>\n",
       "    </tr>\n",
       "    <tr>\n",
       "      <th>1</th>\n",
       "      <td>1</td>\n",
       "      <td>2009-06-06T09:00:00+02:00</td>\n",
       "      <td>2009-06-06</td>\n",
       "      <td>09:00</td>\n",
       "      <td>43188</td>\n",
       "      <td>DÃ©finitive</td>\n",
       "      <td>False</td>\n",
       "      <td>False</td>\n",
       "      <td>True</td>\n",
       "      <td>False</td>\n",
       "      <td>False</td>\n",
       "      <td>False</td>\n",
       "      <td>False</td>\n",
       "      <td>False</td>\n",
       "      <td>False</td>\n",
       "      <td>2</td>\n",
       "    </tr>\n",
       "    <tr>\n",
       "      <th>2</th>\n",
       "      <td>2</td>\n",
       "      <td>2009-06-06T11:30:00+02:00</td>\n",
       "      <td>2009-06-06</td>\n",
       "      <td>11:30</td>\n",
       "      <td>46959</td>\n",
       "      <td>DÃ©finitive</td>\n",
       "      <td>False</td>\n",
       "      <td>False</td>\n",
       "      <td>True</td>\n",
       "      <td>False</td>\n",
       "      <td>False</td>\n",
       "      <td>False</td>\n",
       "      <td>False</td>\n",
       "      <td>False</td>\n",
       "      <td>False</td>\n",
       "      <td>2</td>\n",
       "    </tr>\n",
       "    <tr>\n",
       "      <th>3</th>\n",
       "      <td>3</td>\n",
       "      <td>2009-06-06T12:30:00+02:00</td>\n",
       "      <td>2009-06-06</td>\n",
       "      <td>12:30</td>\n",
       "      <td>48622</td>\n",
       "      <td>DÃ©finitive</td>\n",
       "      <td>False</td>\n",
       "      <td>False</td>\n",
       "      <td>True</td>\n",
       "      <td>False</td>\n",
       "      <td>False</td>\n",
       "      <td>False</td>\n",
       "      <td>False</td>\n",
       "      <td>False</td>\n",
       "      <td>False</td>\n",
       "      <td>2</td>\n",
       "    </tr>\n",
       "    <tr>\n",
       "      <th>4</th>\n",
       "      <td>4</td>\n",
       "      <td>2009-06-06T20:30:00+02:00</td>\n",
       "      <td>2009-06-06</td>\n",
       "      <td>20:30</td>\n",
       "      <td>42578</td>\n",
       "      <td>DÃ©finitive</td>\n",
       "      <td>False</td>\n",
       "      <td>False</td>\n",
       "      <td>True</td>\n",
       "      <td>False</td>\n",
       "      <td>False</td>\n",
       "      <td>False</td>\n",
       "      <td>False</td>\n",
       "      <td>False</td>\n",
       "      <td>False</td>\n",
       "      <td>2</td>\n",
       "    </tr>\n",
       "  </tbody>\n",
       "</table>\n",
       "</div>"
      ],
      "text/plain": [
       "   Unnamed: 0               Date - Heure        Date  Heure  \\\n",
       "0           0  2009-06-06T06:00:00+02:00  2009-06-06  06:00   \n",
       "1           1  2009-06-06T09:00:00+02:00  2009-06-06  09:00   \n",
       "2           2  2009-06-06T11:30:00+02:00  2009-06-06  11:30   \n",
       "3           3  2009-06-06T12:30:00+02:00  2009-06-06  12:30   \n",
       "4           4  2009-06-06T20:30:00+02:00  2009-06-06  20:30   \n",
       "\n",
       "   Consommation (MW) Qualite donnee  daytype0  daytype1  daytype2  daytype3  \\\n",
       "0              35984    DÃ©finitive     False     False      True     False   \n",
       "1              43188    DÃ©finitive     False     False      True     False   \n",
       "2              46959    DÃ©finitive     False     False      True     False   \n",
       "3              48622    DÃ©finitive     False     False      True     False   \n",
       "4              42578    DÃ©finitive     False     False      True     False   \n",
       "\n",
       "   daytype4  daytype6  daytype5  daytype7  daytype8  daytype  \n",
       "0     False     False     False     False     False        2  \n",
       "1     False     False     False     False     False        2  \n",
       "2     False     False     False     False     False        2  \n",
       "3     False     False     False     False     False        2  \n",
       "4     False     False     False     False     False        2  "
      ]
     },
     "execution_count": 10,
     "metadata": {},
     "output_type": "execute_result"
    }
   ],
   "source": [
    "df.head()"
   ]
  },
  {
   "cell_type": "code",
   "execution_count": 11,
   "metadata": {
    "collapsed": true
   },
   "outputs": [],
   "source": [
    "df=df.sort_values(by=['Date'])\n",
    "df.index=range(0,len(df))\n",
    "#Valeurs intermédiaires à partir de 2017"
   ]
  },
  {
   "cell_type": "code",
   "execution_count": 12,
   "metadata": {
    "collapsed": true
   },
   "outputs": [],
   "source": [
    "#On se concentre d'abord sur une année afin d'initialiser le filtre\n",
    "df=df[(df.Date >'2016-01-01') & (df.Date <'2017-01-01')]\n",
    "df.index=range(0,len(df))"
   ]
  },
  {
   "cell_type": "code",
   "execution_count": 13,
   "metadata": {},
   "outputs": [
    {
     "data": {
      "image/png": "[encoded data removed]",
      "text/plain": [
       "<matplotlib.figure.Figure at 0x24bea3a3d30>"
      ]
     },
     "metadata": {},
     "output_type": "display_data"
    }
   ],
   "source": [
    "plt.plot_date(df.Date,df['Consommation (MW)'],fmt='-')\n",
    "plt.show()"
   ]
  },
  {
   "cell_type": "code",
   "execution_count": 14,
   "metadata": {
    "collapsed": true
   },
   "outputs": [],
   "source": [
    "#try a different approach: consider 2pm daily time series\n",
    "df_day=df[df.Heure=='15:00']\n",
    "y_n=df_day['Consommation (MW)']\n",
    "y_n=y_n[:burnin_days]"
   ]
  },
  {
   "cell_type": "code",
   "execution_count": 15,
   "metadata": {},
   "outputs": [
    {
     "data": {
      "image/png": "[encoded data removed]",
      "text/plain": [
       "<matplotlib.figure.Figure at 0x24be6a21fd0>"
      ]
     },
     "metadata": {},
     "output_type": "display_data"
    }
   ],
   "source": [
    "bins=range(30000,100000,1000)\n",
    "plt.hist(df['Consommation (MW)'],normed=True,bins=bins)\n",
    "plt.show()"
   ]
  },
  {
   "cell_type": "markdown",
   "metadata": {},
   "source": [
    "## Implementation of Algorithm 3.10"
   ]
  },
  {
   "cell_type": "markdown",
   "metadata": {},
   "source": [
    "## At time n=0:"
   ]
  },
  {
   "cell_type": "markdown",
   "metadata": {
    "collapsed": true
   },
   "source": [
    "### 1.Definition of MCMC initial model at n=0 - sample $X_0^{j} \\sim \\mu(x_0)$"
   ]
  },
  {
   "cell_type": "markdown",
   "metadata": {},
   "source": [
    "### Option A: Set values by hand"
   ]
  },
  {
   "cell_type": "code",
   "execution_count": null,
   "metadata": {
    "collapsed": true
   },
   "outputs": [],
   "source": [
    "#Add a bit of noise with uniform random\n",
    "s=8000*np.ones(M)*npr.uniform(0.5,1.5,size=M)\n",
    "g_h=-8000*np.ones(M)*npr.uniform(0.5,1.5,size=M)\n",
    "sigma2=10**5*np.ones(M)*npr.uniform(0.5,1.5,size=M)\n",
    "sigma2_g_star=(10**5)*npr.uniform(0.5,1.5,size=M)\n",
    "sigma2_s_star=(10**5)*npr.uniform(0.5,1.5,size=M)\n",
    "sigma2_g=(10**5)*npr.uniform(0.5,1.5,size=M)\n",
    "sigma2_s=(10**5)*npr.uniform(0.5,1.5,size=M)\n",
    "\n",
    "k_day=npr.dirichlet(np.ones(N_daytype),1)[0]\n",
    "u_h=14 #mean of N(14,1)"
   ]
  },
  {
   "cell_type": "markdown",
   "metadata": {},
   "source": [
    "### Option B: generate initial parameters based on prior distribution"
   ]
  },
  {
   "cell_type": "code",
   "execution_count": null,
   "metadata": {},
   "outputs": [
    {
     "name": "stderr",
     "output_type": "stream",
     "text": [
      "C:\\Users\\Zakarya\\Anaconda3\\lib\\site-packages\\scipy\\stats\\_continuous_distns.py:2631: RuntimeWarning: divide by zero encountered in true_divide\n",
      "  return 1.0 / sc.gammainccinv(a, q)\n",
      "C:\\Users\\Zakarya\\Anaconda3\\lib\\site-packages\\scipy\\stats\\_continuous_distns.py:2631: RuntimeWarning: overflow encountered in true_divide\n",
      "  return 1.0 / sc.gammainccinv(a, q)\n"
     ]
    }
   ],
   "source": [
    "sigma2=invgamma.rvs(a=0.01,scale=0.01,size=M)**0.5\n",
    "sigma2_s_star=invgamma.rvs(a=0.01,scale=0.01,size=M)**0.5\n",
    "sigma2_g_star=invgamma.rvs(a=0.01,scale=0.01,size=M)**0.5\n",
    "sigma2_s=invgamma.rvs(a=0.01,scale=0.01,size=M)**0.5\n",
    "sigma2_g=invgamma.rvs(a=0.01,scale=0.01,size=M)**0.5\n",
    "g_h = stats.truncnorm.rvs(-np.inf,0,loc=0,scale=10**4,size=M)\n",
    "s = stats.truncnorm.rvs(np.inf,0,loc=0,scale=10**4,size=M)\n",
    "\n",
    "u_h=npr.normal(14,1)  #fixed parameter, invariant to time\n",
    "k_day=npr.dirichlet(np.ones(N_daytype),1)[0]"
   ]
  },
  {
   "cell_type": "markdown",
   "metadata": {},
   "source": [
    "#### --> Calculate x and w at initial state based on initial parameters"
   ]
  },
  {
   "cell_type": "code",
   "execution_count": null,
   "metadata": {
    "collapsed": true
   },
   "outputs": [],
   "source": [
    "#initialize matrix of x, x_heat, x_season\n",
    "x_season =np.zeros([n_pred+1,M]) \n",
    "x_heat =np.zeros([n_pred+1,M])\n",
    "x =np.zeros([n_pred+1,M])\n",
    "\n",
    "daytype_init=1\n",
    "day_init=1\n",
    "\n",
    "#Calculate x0 and w0 before filtering\n",
    "x_season[0,:]=k_day[daytype_init]*s\n",
    "if T_h[day_init]-u_h >0:\n",
    "    x_heat[0,:]=g_h*(T_h[day_init]-u_h)*1\n",
    "else:\n",
    "    x_heat[0,:]=np.zeros(M)\n",
    "\n",
    "x_0=x_season[0,:]+x_heat[0,:]   #ignore x_cool for now\n",
    "w0_=x_0+npr.normal(0,sigma2,size=M)  #compute w_wave = g(y_0 l X_0)"
   ]
  },
  {
   "cell_type": "markdown",
   "metadata": {},
   "source": [
    "### 2.Compute the weights and re-assess the values of X_0 and w_0 based on ESS value\n"
   ]
  },
  {
   "cell_type": "code",
   "execution_count": 186,
   "metadata": {
    "collapsed": true
   },
   "outputs": [],
   "source": [
    "import math\n",
    "w =np.zeros([n_pred+1,M])  #initalize matrix of weights w\n",
    "w0_h=w0_/sum(w0_)   #set w_hat\n",
    "ESS_0=1/(sum(w0_h)**2)  #calculate ESS\n",
    "if math.isnan(ESS_0):\n",
    "    ESS_0=1\n",
    "print(ESS_0)\n",
    "if ESS_0 <0.001*M:\n",
    "    x[0,:]=x_0\n",
    "    w[0,:]=np.ones(M)*(1/M)  #reset the weights\n",
    "if (ESS_0>=0.001*M and ESS_0<0.5*M):\n",
    "    x_temp=resid_resample(x_0,w0_h)\n",
    "    w_temp=np.ones(M)*(1/M)\n",
    "    x[0,:]=regul(x_temp,w_temp)\n",
    "    w[0,:]=w_temp\n",
    "if ESS_0>=0.5*M:\n",
    "    x[0,:]=x_0\n",
    "    w[0,:]=w0_"
   ]
  },
  {
   "cell_type": "markdown",
   "metadata": {},
   "source": [
    "### Option C: MCMC using MHA or Gibbs (TBA)"
   ]
  },
  {
   "cell_type": "code",
   "execution_count": 16,
   "metadata": {
    "collapsed": true
   },
   "outputs": [],
   "source": [
    "import numpy as np\n",
    "from scipy.stats import truncnorm, invgamma\n",
    "import math"
   ]
  },
  {
   "cell_type": "code",
   "execution_count": 17,
   "metadata": {},
   "outputs": [
    {
     "data": {
      "text/html": [
       "<div>\n",
       "<style scoped>\n",
       "    .dataframe tbody tr th:only-of-type {\n",
       "        vertical-align: middle;\n",
       "    }\n",
       "\n",
       "    .dataframe tbody tr th {\n",
       "        vertical-align: top;\n",
       "    }\n",
       "\n",
       "    .dataframe thead th {\n",
       "        text-align: right;\n",
       "    }\n",
       "</style>\n",
       "<table border=\"1\" class=\"dataframe\">\n",
       "  <thead>\n",
       "    <tr style=\"text-align: right;\">\n",
       "      <th></th>\n",
       "      <th>Unnamed: 0</th>\n",
       "      <th>Date - Heure</th>\n",
       "      <th>Date</th>\n",
       "      <th>Heure</th>\n",
       "      <th>Consommation (MW)</th>\n",
       "      <th>Qualite donnee</th>\n",
       "      <th>daytype0</th>\n",
       "      <th>daytype1</th>\n",
       "      <th>daytype2</th>\n",
       "      <th>daytype3</th>\n",
       "      <th>daytype4</th>\n",
       "      <th>daytype6</th>\n",
       "      <th>daytype5</th>\n",
       "      <th>daytype7</th>\n",
       "      <th>daytype8</th>\n",
       "      <th>daytype</th>\n",
       "      <th>Consommation</th>\n",
       "    </tr>\n",
       "  </thead>\n",
       "  <tbody>\n",
       "    <tr>\n",
       "      <th>0</th>\n",
       "      <td>149461</td>\n",
       "      <td>2016-01-02T09:00:00+01:00</td>\n",
       "      <td>2016-01-02</td>\n",
       "      <td>09:00</td>\n",
       "      <td>52975</td>\n",
       "      <td>DÃ©finitive</td>\n",
       "      <td>False</td>\n",
       "      <td>False</td>\n",
       "      <td>True</td>\n",
       "      <td>False</td>\n",
       "      <td>False</td>\n",
       "      <td>False</td>\n",
       "      <td>False</td>\n",
       "      <td>True</td>\n",
       "      <td>True</td>\n",
       "      <td>8</td>\n",
       "      <td>52975000000</td>\n",
       "    </tr>\n",
       "    <tr>\n",
       "      <th>1</th>\n",
       "      <td>149460</td>\n",
       "      <td>2016-01-02T07:00:00+01:00</td>\n",
       "      <td>2016-01-02</td>\n",
       "      <td>07:00</td>\n",
       "      <td>49417</td>\n",
       "      <td>DÃ©finitive</td>\n",
       "      <td>False</td>\n",
       "      <td>False</td>\n",
       "      <td>True</td>\n",
       "      <td>False</td>\n",
       "      <td>False</td>\n",
       "      <td>False</td>\n",
       "      <td>False</td>\n",
       "      <td>True</td>\n",
       "      <td>True</td>\n",
       "      <td>8</td>\n",
       "      <td>49417000000</td>\n",
       "    </tr>\n",
       "    <tr>\n",
       "      <th>2</th>\n",
       "      <td>149462</td>\n",
       "      <td>2016-01-02T10:00:00+01:00</td>\n",
       "      <td>2016-01-02</td>\n",
       "      <td>10:00</td>\n",
       "      <td>55737</td>\n",
       "      <td>DÃ©finitive</td>\n",
       "      <td>False</td>\n",
       "      <td>False</td>\n",
       "      <td>True</td>\n",
       "      <td>False</td>\n",
       "      <td>False</td>\n",
       "      <td>False</td>\n",
       "      <td>False</td>\n",
       "      <td>True</td>\n",
       "      <td>True</td>\n",
       "      <td>8</td>\n",
       "      <td>55737000000</td>\n",
       "    </tr>\n",
       "    <tr>\n",
       "      <th>3</th>\n",
       "      <td>149463</td>\n",
       "      <td>2016-01-02T11:00:00+01:00</td>\n",
       "      <td>2016-01-02</td>\n",
       "      <td>11:00</td>\n",
       "      <td>57237</td>\n",
       "      <td>DÃ©finitive</td>\n",
       "      <td>False</td>\n",
       "      <td>False</td>\n",
       "      <td>True</td>\n",
       "      <td>False</td>\n",
       "      <td>False</td>\n",
       "      <td>False</td>\n",
       "      <td>False</td>\n",
       "      <td>True</td>\n",
       "      <td>True</td>\n",
       "      <td>8</td>\n",
       "      <td>57237000000</td>\n",
       "    </tr>\n",
       "    <tr>\n",
       "      <th>4</th>\n",
       "      <td>149464</td>\n",
       "      <td>2016-01-02T13:00:00+01:00</td>\n",
       "      <td>2016-01-02</td>\n",
       "      <td>13:00</td>\n",
       "      <td>61223</td>\n",
       "      <td>DÃ©finitive</td>\n",
       "      <td>False</td>\n",
       "      <td>False</td>\n",
       "      <td>True</td>\n",
       "      <td>False</td>\n",
       "      <td>False</td>\n",
       "      <td>False</td>\n",
       "      <td>False</td>\n",
       "      <td>True</td>\n",
       "      <td>True</td>\n",
       "      <td>8</td>\n",
       "      <td>61223000000</td>\n",
       "    </tr>\n",
       "  </tbody>\n",
       "</table>\n",
       "</div>"
      ],
      "text/plain": [
       "   Unnamed: 0               Date - Heure        Date  Heure  \\\n",
       "0      149461  2016-01-02T09:00:00+01:00  2016-01-02  09:00   \n",
       "1      149460  2016-01-02T07:00:00+01:00  2016-01-02  07:00   \n",
       "2      149462  2016-01-02T10:00:00+01:00  2016-01-02  10:00   \n",
       "3      149463  2016-01-02T11:00:00+01:00  2016-01-02  11:00   \n",
       "4      149464  2016-01-02T13:00:00+01:00  2016-01-02  13:00   \n",
       "\n",
       "   Consommation (MW) Qualite donnee  daytype0  daytype1  daytype2  daytype3  \\\n",
       "0              52975    DÃ©finitive     False     False      True     False   \n",
       "1              49417    DÃ©finitive     False     False      True     False   \n",
       "2              55737    DÃ©finitive     False     False      True     False   \n",
       "3              57237    DÃ©finitive     False     False      True     False   \n",
       "4              61223    DÃ©finitive     False     False      True     False   \n",
       "\n",
       "   daytype4  daytype6  daytype5  daytype7  daytype8  daytype  Consommation  \n",
       "0     False     False     False      True      True        8   52975000000  \n",
       "1     False     False     False      True      True        8   49417000000  \n",
       "2     False     False     False      True      True        8   55737000000  \n",
       "3     False     False     False      True      True        8   57237000000  \n",
       "4     False     False     False      True      True        8   61223000000  "
      ]
     },
     "execution_count": 17,
     "metadata": {},
     "output_type": "execute_result"
    }
   ],
   "source": [
    "df['Consommation']=df['Consommation (MW)']*10**6\n",
    "df.head()"
   ]
  },
  {
   "cell_type": "code",
   "execution_count": 18,
   "metadata": {
    "collapsed": true
   },
   "outputs": [],
   "source": [
    "#df[df['Heure']=='14:00'][['Date', 'Consommation (MW)', 'daytype']][:30]\n",
    "consumption = list(df[df['Heure']=='15:00']['Consommation'][:30])\n",
    "temperature_ts = T_h[:30] #france mean temp in jan 2016\n",
    "daytype_ts = list(df[df['Heure']=='15:00']['daytype'][:30])"
   ]
  },
  {
   "cell_type": "code",
   "execution_count": 22,
   "metadata": {},
   "outputs": [],
   "source": [
    "def pf_init_gibbs(temperature_list, daytype_list, consumption_list, init_iterations, nb_particles, sigma2, kappa, u_heat, log):\n",
    "    \"\"\"\n",
    "    Parameters :\n",
    "    temperature_list: list of temperatures (per day)\n",
    "    daytype_list: list of daytypes (per day)\n",
    "    consumption_list: list of electricity consumption (per day)\n",
    "    init_iterations: number of iterations for the initialization step\n",
    "    nb_particles: number of particles\n",
    "    sigma2: initial sigma squared (fixed)\n",
    "    kappa: \n",
    "    u_heat: \n",
    "    log: if True returns value of the computed parameters during the sampling\n",
    "    \"\"\"\n",
    "    # Variables initialization\n",
    "    s = np.zeros((init_iterations, nb_particles)) \n",
    "    g_heat = np.zeros((init_iterations, nb_particles))\n",
    "    #sigma_s and sigma_g are fixed\n",
    "    sigma_s_star_2 = np.zeros((1, nb_particles)) \n",
    "    sigma_g_star_2 = np.zeros((1, nb_particles))\n",
    "\n",
    "    #Gibbs : Initialization\n",
    "    s[0,0] = truncnorm.rvs(a = 0,b = math.inf, loc= 0, scale = 10**4, size=1)[0]\n",
    "    g_heat[0,0] =  truncnorm.rvs(a = - math.inf,b = 0, loc= 0, scale = 10**4, size=1)[0]\n",
    "    sigma_s_star_2[0, 0] = invgamma.rvs(a=10**(-2), scale=10**(2), size = 1)[0]\n",
    "    sigma_g_star_2[0, 0] = invgamma.rvs(a=10**(-2), scale=10**(2), size = 1)[0]\n",
    "    \n",
    "    #Gibbs : Step 0\n",
    "    sigma_s_star0 = math.sqrt(sigma_s_star_2[0,0])\n",
    "    sigma_g_star0 = math.sqrt(sigma_g_star_2[0,0])\n",
    "    for i in range(1, init_iterations):\n",
    "        s[i,0] = s[i-1,0] + \\\n",
    "                 truncnorm.rvs(a = -s[i-1,0]/sigma_s_star0,b = math.inf, loc= 0, scale = sigma_s_star0, size=1)[0] #page 18\n",
    "        g_heat[i,0] = g_heat[i-1,0] + \\\n",
    "                      truncnorm.rvs(a = -math.inf, b=- g_heat[i-1,0]/sigma_g_star0, loc= 0, scale = sigma_g_star0, size=1)[0]\n",
    "    \n",
    "    #Gibbs : step t > 0\n",
    "    for j in range(1, nb_particles):\n",
    "        if log:\n",
    "            print(\"Particle \" + str(j) + \"/\" + str(nb_particles))\n",
    "        else:\n",
    "            if(j%10**4==0):\n",
    "                print(\"Particle \" + str(j) + \"/\" + str(nb_particles))\n",
    "        s[:,j] = s[:,j-1]\n",
    "        g_heat[:,j] = g_heat[:,j-1]\n",
    "        sigma_s_star_2[:,j] = sigma_s_star_2[:,j-1]\n",
    "        sigma_g_star_2[:,j] = sigma_g_star_2[:,j-1]\n",
    "        \n",
    "        # Simulate s0\n",
    "        #Compute variance and mean denominator\n",
    "        denom_s_0 = (10**4)*sigma_s_star_2[0, j]*(kappa[daytype_list[0]]**2) + sigma2*sigma_s_star_2[0, j] + (10**8)*sigma2 \n",
    "        #Compute mean numerator\n",
    "        numerator_mean_s_0 = (10**4)*sigma2* s[1,j] + (10**8)*sigma_s_star_2[0, j]*kappa[daytype_list[0]]*consumption_list[0]\n",
    "        if (u_heat > temperature_list[0]):\n",
    "            numerator_mean_s_0 -= (10**4)*sigma_s_star_2[0, j]*kappa[daytype_list[0]]*g_heat[0,j]*(temperature_list[0] - u_heat)\n",
    "        #Compute the final parameters of the truncated normal that simulates from the full conditional of s_0\n",
    "        #Mean\n",
    "        mean_s_0 = numerator_mean_s_0 / denom_s_0\n",
    "        #Variance\n",
    "        var_s_0 = ((10**8) *sigma2*sigma_s_star_2[0, j]) / denom_s_0\n",
    "        std_s_0 = math.sqrt(var_s_0)\n",
    "\n",
    "        a=-mean_s_0/std_s_0\n",
    "        while True:\n",
    "            s[0,j] = truncnorm.rvs(a = a, b = math.inf, loc= mean_s_0, scale = std_s_0, size=1)[0]\n",
    "            if(s[0,j]!=math.inf):\n",
    "                break\n",
    "        if log:\n",
    "            print(\"s[0,\"+str(j)+\"]\")\n",
    "            print(s[0,j])\n",
    "        \n",
    "        # Simulate s(i), i>0\n",
    "        for i in range(1, init_iterations):\n",
    "            denom_s_i = 2*sigma2 + sigma_s_star_2[0, j]*(kappa[daytype_list[i]]**2)\n",
    "            dependence_next_s = 0\n",
    "            if (i+1 < init_iterations-1):\n",
    "                dependence_next_s = s[i+1,j]\n",
    "            #Compute mean numerator\n",
    "            numerator_mean_s_i = sigma2*(s[i-1,j] + dependence_next_s) + \\\n",
    "                                 sigma_s_star_2[0, j]*kappa[daytype_list[i]]*(consumption_list[i])\n",
    "            if (u_heat > temperature_list[i]):\n",
    "                numerator_mean_s_i = numerator_mean_s_i - \\\n",
    "                                     sigma_s_star_2[0, j]*kappa[daytype_list[i]]*g_heat[i,j]*(temperature_list[i] - u_heat)\n",
    "            mean_s_i = numerator_mean_s_i / denom_s_i\n",
    "            var_s_i = (sigma2*sigma_s_star_2[0, j]) / denom_s_i\n",
    "            std_s_i = math.sqrt(var_s_i)\n",
    "            \n",
    "            a=-mean_s_i/std_s_i\n",
    "            temp=0\n",
    "            while True:\n",
    "                s[i,j] = truncnorm.rvs(a = a, b = math.inf, loc= mean_s_i, scale = std_s_i, size=1)[0]\n",
    "                if(s[i,j]!=math.inf and s[i,j]!=-math.inf):\n",
    "                    break\n",
    "                \n",
    "                temp+=1\n",
    "                if(temp%5==0):\n",
    "                    print(temp)\n",
    "            if log:\n",
    "                print(\"s[\"+str(i)+\",\"+str(j)+\"]\")\n",
    "                print(s[i,j])\n",
    "        \n",
    "        # Simulate g_heat0\n",
    "        denom_g_0 = sigma2*sigma_g_star_2[0, j] + (10**8)*sigma2\n",
    "        numerator_mean_g_0 = (10**8)*sigma2* g_heat[1,j]\n",
    "        if (u_heat > temperature_list[0]):\n",
    "            denom_g_0 = denom_g_0 + (10**8)*sigma_g_star_2[0, j]*((temperature_list[0] - u_heat )**2)\n",
    "            numerator_mean_g_0 = numerator_mean_g_0 + \\\n",
    "                                 (10**8)*sigma_g_star_2[0, j]*(temperature_list[0] - u_heat)*(consumption_list[0] - s[0,j]*kappa[daytype_list[0]])\n",
    "        #Compute the final parameters of the truncated normal that simulates from the full conditional of g_0\n",
    "        mean_g_0 = numerator_mean_g_0 / denom_g_0\n",
    "        var_g_0 = ((10**8) *sigma2*sigma_g_star_2[0, j]) / denom_g_0\n",
    "        std_g_0 = math.sqrt(var_g_0)\n",
    "\n",
    "        b=-mean_g_0/std_g_0\n",
    "        while True:\n",
    "            g_heat[0,j] =  truncnorm.rvs(a = -math.inf, b = b, loc= mean_g_0, scale = std_g_0, size=1)[0]\n",
    "            if(g_heat[0,j]!=-math.inf):\n",
    "                break\n",
    "        if log:\n",
    "            print(\"g_heat[\"+str(0)+\",\"+str(j)+\"]\")\n",
    "            print(g_heat[0,j])\n",
    "\n",
    "        # Simulate g_heat(i), i>0\n",
    "        for i in range(1, init_iterations):\n",
    "            dependence_next_g = 0\n",
    "            if (i+1 < init_iterations-1):\n",
    "                dependence_next_g = g_heat[i+1,j]\n",
    "\n",
    "            denom_g_i = 2*sigma2\n",
    "            numerator_mean_g_i = sigma2*(g_heat[i-1,j] + dependence_next_g)\n",
    "            if (u_heat > temperature_list[i]):\n",
    "                denom_g_i = denom_g_i + sigma_g_star_2[0, j]*((temperature_list[i] - u_heat )**2)\n",
    "                numerator_mean_g_i = numerator_mean_g_i + \\\n",
    "                                     sigma_g_star_2[0, j]*(temperature_list[i] - u_heat )*(consumption_list[i] - s[i,j]*kappa[daytype_list[i]])\n",
    "\n",
    "            mean_g_i = numerator_mean_g_i / denom_g_i\n",
    "            var_g_i = (sigma2*sigma_g_star_2[0, j]) / denom_g_i\n",
    "            std_g_i = math.sqrt(var_g_i)\n",
    "\n",
    "            b=-mean_g_i/std_g_i\n",
    "            while True:\n",
    "                g_heat[i,j] =  truncnorm.rvs(a = -math.inf, b = b, loc= mean_g_i, scale = std_g_i, size=1)[0]\n",
    "                if(g_heat[i,j]!=-math.inf):\n",
    "                    break\n",
    "            if log:\n",
    "                print(\"g_heat[\"+str(i)+\",\"+str(j)+\"]\")\n",
    "                print(g_heat[i,j])\n",
    "\n",
    "        # Simulate the variances\n",
    "        shape_variances = 0.01 + ((init_iterations - 1)/2)\n",
    "        s_lag = np.roll(s[:,j], 1)\n",
    "        s_lag[0] = s[0,j]\n",
    "        scale_s = (0.01 + sum((s[:,j] - s_lag)**2))**(-1)\n",
    "        sigma_s_star_2[0, j] = invgamma.rvs(a=shape_variances, scale=scale_s, size = 1)[0]\n",
    "        g_lag = np.roll(g_heat[:,j], 1)\n",
    "        g_lag[0] = g_heat[0,j]\n",
    "        scale_g = (0.01 + sum((g_heat[:,j] - g_lag)**2))**(-1)\n",
    "        sigma_g_star_2[0, j] = invgamma.rvs(a=shape_variances, scale=scale_g, size = 1)[0]\n",
    "\n",
    "        if log:\n",
    "            print(s[:,j])\n",
    "            print(g_heat[:,j])\n",
    "\n",
    "    # Return the initialization of the Particle Filter at date (init_iterations - 1)\n",
    "    s_init = s[init_iterations-1,]\n",
    "    g_heat_init = g_heat[init_iterations-1,:]\n",
    "    sigma_s_init = np.sqrt(sigma_s_star_2[0,nb_particles-1])\n",
    "    sigma_g_init = np.sqrt(sigma_g_star_2[0,nb_particles-1])\n",
    "\n",
    "    x_season = kappa[daytype_list[init_iterations-1]]*s_init\n",
    "    x_heat = np.maximum((temperature_list[init_iterations-1]-u_heat)*g_heat_init,0)\n",
    "    x_init = x_season + x_heat\n",
    "\n",
    "    \"\"\"\n",
    "    if log:\n",
    "        return s_init, g_heat_init, sigma_s_init, sigma_g_init, x_init, s, g_heat, sigma_s_star_2, sigma_g_star_2\n",
    "    else:\n",
    "        return s_init, g_heat_init, sigma_s_init, sigma_g_init, x_init\n",
    "    \"\"\"\n",
    "    return s_init, g_heat_init, sigma_s_init, sigma_g_init, x_init, s, g_heat, sigma_s_star_2, sigma_g_star_2"
   ]
  },
  {
   "cell_type": "code",
   "execution_count": 23,
   "metadata": {},
   "outputs": [
    {
     "data": {
      "text/plain": [
       "[0.027927283086208544,\n",
       " 0.5645197354219126,\n",
       " 0.01955751555349085,\n",
       " 0.014401085359483862,\n",
       " 0.12021994172799128,\n",
       " 0.00885996894138768,\n",
       " 0.08394180122655606,\n",
       " 0.1252051256762151,\n",
       " 0.03536754300675405]"
      ]
     },
     "execution_count": 23,
     "metadata": {},
     "output_type": "execute_result"
    }
   ],
   "source": [
    "N_daytype=9\n",
    "k_day=npr.dirichlet(np.ones(N_daytype),1)\n",
    "kappa = k_day[0].tolist()\n",
    "kappa"
   ]
  },
  {
   "cell_type": "code",
   "execution_count": 24,
   "metadata": {},
   "outputs": [
    {
     "data": {
      "text/plain": [
       "10164846538997954.0"
      ]
     },
     "execution_count": 24,
     "metadata": {},
     "output_type": "execute_result"
    }
   ],
   "source": [
    "sigma2=invgamma.rvs(a=10**(-2), scale=10**(2), size = 1)[0]\n",
    "sigma2"
   ]
  },
  {
   "cell_type": "code",
   "execution_count": 25,
   "metadata": {},
   "outputs": [
    {
     "data": {
      "text/plain": [
       "13.621392573118756"
      ]
     },
     "execution_count": 25,
     "metadata": {},
     "output_type": "execute_result"
    }
   ],
   "source": [
    "u_h=npr.normal(14,1)  #fixed parameter, invariant to time\n",
    "u_h"
   ]
  },
  {
   "cell_type": "code",
   "execution_count": 27,
   "metadata": {
    "scrolled": true
   },
   "outputs": [
    {
     "name": "stdout",
     "output_type": "stream",
     "text": [
      "Particle 10000/100000\n",
      "Particle 20000/100000\n",
      "Particle 30000/100000\n",
      "Particle 40000/100000\n",
      "Particle 50000/100000\n",
      "Particle 60000/100000\n",
      "Particle 70000/100000\n",
      "Particle 80000/100000\n",
      "Particle 90000/100000\n",
      "--- 327.86724877357483 seconds ---\n"
     ]
    }
   ],
   "source": [
    "import time\n",
    "start_time = time.time()\n",
    "s_init, g_heat_init, sigma_s_init, sigma_g_init, x_init, s_evol, g_heat_evol, sigma_s_star_2_evol, sigma_g_star_2_evol = pf_init_gibbs(temperature_ts, daytype_ts, consumption, 15, 10**5, sigma2, kappa, u_h, False)\n",
    "print(\"--- %s seconds ---\" % (time.time() - start_time))"
   ]
  },
  {
   "cell_type": "code",
   "execution_count": 32,
   "metadata": {},
   "outputs": [],
   "source": [
    "#Write initial parameters from Gibbs sampling in a file\n",
    "import pickle\n",
    "output_file ='data/parameters_init.pkl'\n",
    "parameters = {\n",
    "    's_init':s_init,\n",
    "    'g_heat_init':g_heat_init,\n",
    "    'sigma_s_init':sigma_s_init,\n",
    "    'sigma_g_init':sigma_g_init,\n",
    "    'x_init':x_init,\n",
    "    's_evol':s_evol,\n",
    "    'g_heat_evol':g_heat_evol,\n",
    "    'sigma_s_star_2_evol':sigma_s_star_2_evol,\n",
    "    'sigma_g_star_2_evol':sigma_g_star_2_evol\n",
    "}\n",
    "output = open(output_file, 'wb')\n",
    "pickle.dump(parameters, output)\n",
    "output.close()"
   ]
  },
  {
   "cell_type": "code",
   "execution_count": 33,
   "metadata": {},
   "outputs": [
    {
     "data": {
      "text/plain": [
       "array([  2.08540691e+08,   6.70713499e+09,   8.37124766e+08,\n",
       "         7.28641585e+08,   6.60112991e+08,   6.05457871e+08,\n",
       "         5.59275719e+08,   5.19368743e+08,   4.84397924e+08,\n",
       "         4.53410344e+08,   4.25690986e+08,   4.00690664e+08,\n",
       "         3.77980972e+08,   3.57223304e+08,   3.38146801e+08,\n",
       "         3.20532383e+08,   3.04200997e+08,   2.89004884e+08,\n",
       "         2.74820984e+08,   2.61545911e+08])"
      ]
     },
     "execution_count": 33,
     "metadata": {},
     "output_type": "execute_result"
    }
   ],
   "source": [
    "#Load pickle file\n",
    "pkl_file = open(output_file, 'rb')\n",
    "parameters_init = pickle.load(pkl_file)\n",
    "parameters_init[\"x_init\"][:20]"
   ]
  },
  {
   "cell_type": "code",
   "execution_count": null,
   "metadata": {},
   "outputs": [],
   "source": [
    "x_init[:20]"
   ]
  },
  {
   "cell_type": "code",
   "execution_count": 21,
   "metadata": {},
   "outputs": [
    {
     "data": {
      "text/plain": [
       "55621000000"
      ]
     },
     "execution_count": 21,
     "metadata": {},
     "output_type": "execute_result"
    }
   ],
   "source": [
    "#consumption[29]"
   ]
  },
  {
   "cell_type": "code",
   "execution_count": 22,
   "metadata": {},
   "outputs": [
    {
     "data": {
      "text/plain": [
       "array([ 1.,  1.,  1.,  1.,  1.,  1.,  1.,  1.,  1.,  1.])"
      ]
     },
     "execution_count": 22,
     "metadata": {},
     "output_type": "execute_result"
    }
   ],
   "source": [
    "#Compute w_init\n",
    "w_init = np.exp(-(np.square(consumption[29]-x_init))/(2*sigma2))\n",
    "w_init[:10]"
   ]
  },
  {
   "cell_type": "code",
   "execution_count": 23,
   "metadata": {},
   "outputs": [
    {
     "data": {
      "text/plain": [
       "1000.0"
      ]
     },
     "execution_count": 23,
     "metadata": {},
     "output_type": "execute_result"
    }
   ],
   "source": [
    "sum(w_init)"
   ]
  },
  {
   "cell_type": "code",
   "execution_count": 24,
   "metadata": {},
   "outputs": [
    {
     "data": {
      "text/plain": [
       "array([  1.57347903e+33,   7.95034227e+31,   1.96363403e+32,\n",
       "         1.76249654e+32,   1.65073281e+32,   1.59453309e+32,\n",
       "         1.56882148e+32,   1.55949499e+32,   1.55877021e+32,\n",
       "         1.56231186e+32])"
      ]
     },
     "execution_count": 24,
     "metadata": {},
     "output_type": "execute_result"
    }
   ],
   "source": [
    "s_init[:10]"
   ]
  },
  {
   "cell_type": "code",
   "execution_count": 28,
   "metadata": {},
   "outputs": [
    {
     "data": {
      "text/plain": [
       "array([ -1.17789099e+10,  -1.84317234e+08,  -1.75565127e+09,\n",
       "        -1.45488406e+09,  -1.24272429e+09,  -1.08709943e+09,\n",
       "        -9.67797856e+08,  -8.73167746e+08,  -7.96131989e+08,\n",
       "        -7.32138991e+08])"
      ]
     },
     "execution_count": 28,
     "metadata": {},
     "output_type": "execute_result"
    }
   ],
   "source": [
    "g_heat_init[:10]"
   ]
  },
  {
   "cell_type": "code",
   "execution_count": 29,
   "metadata": {},
   "outputs": [
    {
     "data": {
      "text/plain": [
       "4.4561063911095971e-09"
      ]
     },
     "execution_count": 29,
     "metadata": {},
     "output_type": "execute_result"
    }
   ],
   "source": [
    "sigma_g_init"
   ]
  },
  {
   "cell_type": "code",
   "execution_count": 30,
   "metadata": {},
   "outputs": [
    {
     "data": {
      "text/plain": [
       "2.1407788631771879e-29"
      ]
     },
     "execution_count": 30,
     "metadata": {},
     "output_type": "execute_result"
    }
   ],
   "source": [
    "sigma_s_init"
   ]
  },
  {
   "cell_type": "code",
   "execution_count": 31,
   "metadata": {},
   "outputs": [
    {
     "name": "stdout",
     "output_type": "stream",
     "text": [
      "[[ 21.4699441   21.89287428  22.28661195 ...,  18.77514615  18.77221082\n",
      "   18.7692755 ]\n",
      " [ 21.90044962  22.6021751   22.43505877 ...,  18.66432846  18.66139314\n",
      "   18.65845781]\n",
      " [ 22.39636244  22.56429082  22.62163315 ...,  18.5367465   18.53381117\n",
      "   18.53087585]\n",
      " ..., \n",
      " [ 23.02815624  23.09502573  22.67240008 ...,  17.2987645   17.29582917\n",
      "   17.29289385]\n",
      " [ 23.10152505  22.10573963  21.9792529  ...,  16.60561732  16.60268199\n",
      "   16.59974667]\n",
      " [ 23.18957647  19.03216893  21.28610572 ...,  15.91247014  15.90953481\n",
      "   15.90659949]]\n"
     ]
    }
   ],
   "source": [
    "print(np.log(np.absolute(g_heat_evol[20:,])))\n",
    "#print(g_heat_evol[29,])"
   ]
  },
  {
   "cell_type": "code",
   "execution_count": 32,
   "metadata": {},
   "outputs": [
    {
     "data": {
      "image/png": "[encoded data removed]",
      "text/plain": [
       "<matplotlib.figure.Figure at 0x11922be48>"
      ]
     },
     "metadata": {},
     "output_type": "display_data"
    }
   ],
   "source": [
    "plt.plot(np.log(np.absolute(g_heat_evol[29])))\n",
    "plt.show()"
   ]
  },
  {
   "cell_type": "markdown",
   "metadata": {},
   "source": [
    "### Part 2: regularize weights and x if necessary"
   ]
  },
  {
   "cell_type": "code",
   "execution_count": null,
   "metadata": {
    "collapsed": true
   },
   "outputs": [],
   "source": [
    "#w_init, s_init, g_heat_init, sigma_s_init, sigma_g_init, x_init, s_evol, g_heat_evol, sigma_s_star_2_evol, sigma_g_star_2_evol"
   ]
  },
  {
   "cell_type": "code",
   "execution_count": 34,
   "metadata": {},
   "outputs": [
    {
     "name": "stdout",
     "output_type": "stream",
     "text": [
      "1.0\n"
     ]
    }
   ],
   "source": [
    "ESS_0=1/sum(np.square(w_init))\n",
    "print(ESS_0*1000)\n",
    "\n",
    "#initialize matrix of x, x_heat, x_season\n",
    "x_season =np.zeros([n_pred+1,M]) \n",
    "x_heat =np.zeros([n_pred+1,M])\n",
    "x =np.zeros([n_pred+1,M])\n",
    "w =np.zeros([n_pred+1,M])\n",
    "\n",
    "if ESS_0 <0.001*M:\n",
    "    x[0,:]=x_init\n",
    "    w[0,:]=np.ones(M)*(1/M)  #reset the weights\n",
    "if (ESS_0>=0.001*M and ESS_0<0.5*M):\n",
    "    x_temp=resid_resample(x_init,w_init)\n",
    "    w_temp=np.ones(M)*(1/M)\n",
    "    x[0,:]=regul(x_temp,w_temp)\n",
    "    w[0,:]=w_temp\n",
    "if ESS_0>=0.5*M:\n",
    "    x[0,:]=x_init\n",
    "    w[0,:]=w_init"
   ]
  },
  {
   "cell_type": "markdown",
   "metadata": {
    "collapsed": true
   },
   "source": [
    "## Prediction and Filtering at time n>0"
   ]
  },
  {
   "cell_type": "markdown",
   "metadata": {},
   "source": [
    "### 1. Sample $x^j_n \\mid X^j_{n-1} $ for all j=1...M particles"
   ]
  },
  {
   "cell_type": "code",
   "execution_count": 37,
   "metadata": {
    "collapsed": true
   },
   "outputs": [],
   "source": [
    "def x_season(day_type,k_day,s_prev,sigma_s_prev):\n",
    "    nu=truncnorm.rvs(a = -sigma_s_prev / sigma_s_star_2_evol , b = np.inf, loc= 0, scale = sigma_s_star_2_evol, size=M)[0]\n",
    "    sigma_s=sigma_s_prev+nu\n",
    "    err=truncnorm.rvs(a = -s_prev / sigma_s , b = np.inf, loc= 0, scale = sigma_s, size=M)[0]\n",
    "    s=s_prev+err\n",
    "    x_s=s*k_day[day_type]\n",
    "    return x_s, s, sigma_s\n",
    "\n",
    "def x_heat(g_h_prev,day,sigma_g_prev):\n",
    "    nu=truncnorm.rvs(a = -sigma_g_prev / sigma_g_star_2_evol , b = np.inf, loc= 0, scale = sigma_g_star_2_evol, size=M)[0]\n",
    "    sigma_g=sigma_g_prev+nu\n",
    "    err=truncnorm.rvs(a = -np.inf , b =g_h_prev / sigma_g, loc= 0, scale = sigma_g, size=M)[0]\n",
    "    g_h=g_h_prev+err\n",
    "    x_h=g_h*(T_h[day]-u_h)*max(np.sign(u_h-T_h[day]),0)\n",
    "    return x_h, g_h, sigma_g\n"
   ]
  },
  {
   "cell_type": "code",
   "execution_count": 43,
   "metadata": {},
   "outputs": [
    {
     "data": {
      "text/plain": [
       "array([  6.10233944e+63,   6.10233944e+63,   6.10233944e+63,\n",
       "         6.10233944e+63,   6.10233944e+63,   6.10233944e+63,\n",
       "         6.10233944e+63,   6.10233944e+63,   6.10233944e+63,\n",
       "         6.10233944e+63])"
      ]
     },
     "execution_count": 43,
     "metadata": {},
     "output_type": "execute_result"
    }
   ],
   "source": [
    "x_season(df.daytype[1],kappa,s_init,sigma_s_init)[0][:10]"
   ]
  },
  {
   "cell_type": "code",
   "execution_count": 39,
   "metadata": {},
   "outputs": [
    {
     "data": {
      "text/plain": [
       "array([  7.64213372e+14,   7.64213008e+14,   7.64213057e+14,\n",
       "         7.64213048e+14,   7.64213041e+14,   7.64213036e+14,\n",
       "         7.64213033e+14,   7.64213030e+14,   7.64213027e+14,\n",
       "         7.64213025e+14])"
      ]
     },
     "execution_count": 39,
     "metadata": {},
     "output_type": "execute_result"
    }
   ],
   "source": [
    "x_heat(g_heat_init,31,sigma_g_init)[0][:10]"
   ]
  },
  {
   "cell_type": "code",
   "execution_count": 57,
   "metadata": {},
   "outputs": [
    {
     "name": "stdout",
     "output_type": "stream",
     "text": [
      "n= 1\n",
      "0.622532897104\n",
      "n= 2\n",
      "0.153052288981\n",
      "n= 3\n",
      "1.97344131576\n",
      "n= 4\n",
      "0.0222966849147\n",
      "n= 5\n",
      "0.00120174865\n"
     ]
    }
   ],
   "source": [
    "s=s_init\n",
    "g_h=g_heat_init\n",
    "sigma_s=sigma_s_init\n",
    "sigma_g=sigma_g_init\n",
    "n_iter=30\n",
    "ESS=[]\n",
    "\n",
    "for n in range(1,6):\n",
    "    print(\"n=\",n)\n",
    "    x[n,:]=x_season(df.daytype[n+n_iter],kappa,s,sigma_s)[0]+x_heat(g_h,n+n_iter,sigma_g)[0]\n",
    "    #take new current values of parameters\n",
    "    s, sigma_s=x_season(df.daytype[n+n_iter],kappa,s,sigma_s)[1:]\n",
    "    g_h, sigma_g=x_heat(g_h,n,sigma_g)[1:]\n",
    "    #compute weights\n",
    "    w_=w[n-1,:]*(x[n,:]+npr.normal(0,sigma2,size=M))\n",
    "    wh=w_/sum(w_)\n",
    "    ESS.append(1/sum(np.square(wh)))  #calculate ESS\n",
    "    print(ESS[n-1])\n",
    "    #regularization\n",
    "    if ESS[n-1] <0.001*M:\n",
    "        #x[n,:]=x_0\n",
    "        w[n,:]=np.ones(M)*(1/M)  #reset the weights\n",
    "    if (ESS[n-1]>=0.001*M and ESS_0<0.5*M):\n",
    "        x_temp=resid_resample(x[n-1,:],w[n-1,:])\n",
    "        w_temp=np.ones(M)*(1/M)\n",
    "        x[n,:]=regul(x_temp,w_temp)\n",
    "        w[n,:]=w_temp\n",
    "    if ESS[n-1]>=0.5*M:\n",
    "        x[n,:]=x[n-1,:]\n",
    "        w[n,:]=w[n-1,:]"
   ]
  },
  {
   "cell_type": "code",
   "execution_count": 61,
   "metadata": {},
   "outputs": [
    {
     "data": {
      "text/plain": [
       "[0.62253289710370252,\n",
       " 0.15305228898109849,\n",
       " 1.9734413157646979,\n",
       " 0.022296684914656247,\n",
       " 0.0012017486500011919]"
      ]
     },
     "execution_count": 61,
     "metadata": {},
     "output_type": "execute_result"
    }
   ],
   "source": [
    "ESS"
   ]
  }
 ],
 "metadata": {
  "kernelspec": {
   "display_name": "Python 3",
   "language": "python",
   "name": "python3"
  },
  "language_info": {
   "codemirror_mode": {
    "name": "ipython",
    "version": 3
   },
   "file_extension": ".py",
   "mimetype": "text/x-python",
   "name": "python",
   "nbconvert_exporter": "python",
   "pygments_lexer": "ipython3",
   "version": "3.6.3"
  }
 },
 "nbformat": 4,
 "nbformat_minor": 2
}
