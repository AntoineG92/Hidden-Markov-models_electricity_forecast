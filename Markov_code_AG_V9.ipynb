{
 "cells": [
  {
   "cell_type": "markdown",
   "metadata": {},
   "source": [
    "# On particle filters applied to electricity load forecasting"
   ]
  },
  {
   "cell_type": "markdown",
   "metadata": {},
   "source": [
    "PyMC tuto\n",
    "\n",
    "https://pymc-devs.github.io/pymc/tutorial.html#fitting-the-model-with-mcmc\n",
    "\n",
    "http://sdsawtelle.github.io/blog/output/mcmc-in-python-with-pymc.html\n",
    "    "
   ]
  },
  {
   "cell_type": "markdown",
   "metadata": {},
   "source": [
    "NC Email:\n",
    "\n",
    "Voilà quelques pistes que vous pouvez suivre:\n",
    "* commencer par implémenter un bootstrap filter pour le modèle proposé, et des valeurs des paramètres choisis à la main ﴾en fonction des valeurs reportées dans l'article par exemple﴿ et des données que vous pouvez simuler. Déterminer à quel point l'algorithme marche bien:\n",
    "+ graphe de l'ESS en fonction du temps; voir si effectivement certains outliers font fortement chuter l'ESS. Essayer la méthode proposée pour gérer ses outliers.\n",
    "+ intervalles de confiance pour l'estimation de E[X_t|Y_{0:t}], basé sur plusieurs exécutions, par exemple.\n",
    "\n",
    "Deuxième étape: estimation des paramètres. Vous pouvez essayer une des trois approches suivantes, triées par ordre de difficulté:\n",
    "1. maximisation de la vraisemblance ﴾estimée par votre filtre particulaire pour un theta donné﴿, en utilisant une méthode de maximisation pour fonction bruitée ﴾par ex Robbins‐Monroe﴿.\n",
    "2. PMMH, voir le prochain cours. Principale difficulté: l'algorithme peut prendre du temps, et ne pas être très facile à calibrer, mais je vais en parler en cours.\n",
    "3. Particle Gibbs: c'est peut‐être un peu compliqué pour ce modèle, mais si vous arrivez, gros bonus!"
   ]
  },
  {
   "cell_type": "markdown",
   "metadata": {},
   "source": [
    "3 PROBLEMES\n",
    "* ESS toujours au max à chaque itération --> sigma2 = 10e141 écrase (consumption - x_pred)\n",
    "* valeurs négatives de x\n",
    "* x_season est négligeable devant x_heat\n"
   ]
  },
  {
   "cell_type": "code",
   "execution_count": 205,
   "metadata": {
    "collapsed": true
   },
   "outputs": [],
   "source": [
    "import pandas as pd\n",
    "import numpy as np\n",
    "import numpy.random as npr\n",
    "import matplotlib as mtp\n",
    "import matplotlib.pyplot as plt\n",
    "import scipy as sp\n",
    "from scipy.stats import truncnorm\n",
    "import scipy.stats as stats\n",
    "from scipy.stats import invgamma\n",
    "from scipy import ndimage"
   ]
  },
  {
   "cell_type": "markdown",
   "metadata": {},
   "source": [
    "### Parameters"
   ]
  },
  {
   "cell_type": "code",
   "execution_count": 206,
   "metadata": {
    "collapsed": true
   },
   "outputs": [],
   "source": [
    "M=10**5 #number of particles\n",
    "n_pred=48  #number of predictions\n",
    "N_daytype=8  #number of day types"
   ]
  },
  {
   "cell_type": "code",
   "execution_count": 228,
   "metadata": {
    "collapsed": true
   },
   "outputs": [],
   "source": [
    "#Define functions for filtering and regularization of weigths for Particle Fitler algo 3.10\n",
    "\n",
    "def ESS(w,n):\n",
    "    return(1/(sum(w[n,:])**2))\n",
    "\n",
    "def resid_resample(x_h,w_h):  #algorithm 3.5 - Residual Multinomial Sampling\n",
    "    #R=sum(np.floor(M*w_h))  #number of (normalized) weights over 1/M\n",
    "    R=len(w_h[w_h>1/M])\n",
    "    print(\"R=\",R)\n",
    "    z=np.zeros(M)\n",
    "    #z[:R-1]=x_h[:R-1]\n",
    "    z[:R]=x_h[w_h>1/M]  #Copy the R particles having weight >1/M\n",
    "    w_=np.ones(M)\n",
    "    for j in range(M):\n",
    "        w_[j]=(M*w_h[j]-np.floor(M*w_h[j]))/(M-R)\n",
    "    print(\"w_:\",w_)\n",
    "    z[R:]=np.random.multinomial(1,w_[R:],1)*w_[R:]\n",
    "    w=np.ones(M)*(1/M)\n",
    "    return z, w\n",
    "\n",
    "def regul(x,w):  #algorithm 3.6\n",
    "    eps=sp.ndimage.filters.gaussian_filter(x,sigma=1)  #assume gaussian kernel\n",
    "    h=0.2 #bandwidth\n",
    "    z=x+h*(np.cov(x)**0.5)*eps\n",
    "    return(z)"
   ]
  },
  {
   "cell_type": "code",
   "execution_count": 5,
   "metadata": {},
   "outputs": [
    {
     "name": "stdout",
     "output_type": "stream",
     "text": [
      "R= 7.0\n",
      "w_: [ 0.0159879   0.06046857  0.21358683  0.06269248  0.06383073  0.14574677\n",
      "  0.27535135  0.13235386  0.01118209  0.00861518]\n",
      "[ 2.25074427  1.61645655  1.15057606  1.27556356  1.93147651  1.70185933\n",
      "  0.30205804  0.13235386  0.          0.        ]\n",
      "[ 0.1  0.1  0.1  0.1  0.1  0.1  0.1  0.1  0.1  0.1]\n"
     ]
    },
    {
     "name": "stderr",
     "output_type": "stream",
     "text": [
      "/Users/antoinegrelety/anaconda3/lib/python3.6/site-packages/ipykernel_launcher.py:17: VisibleDeprecationWarning: using a non-integer number instead of an integer will result in an error in the future\n",
      "/Users/antoinegrelety/anaconda3/lib/python3.6/site-packages/ipykernel_launcher.py:22: VisibleDeprecationWarning: using a non-integer number instead of an integer will result in an error in the future\n"
     ]
    }
   ],
   "source": [
    "#test the functions on random sample\n",
    "M=10\n",
    "x_temp=abs(npr.normal(size=10))\n",
    "w_temp=np.repeat(0.1,10)*npr.uniform(0.1,1.5,size=10)\n",
    "#print(w_temp)\n",
    "xtest,wtest=resid_resample(x_temp,w_temp)\n",
    "print(xtest)\n",
    "print(wtest)\n",
    "M=10**5"
   ]
  },
  {
   "cell_type": "code",
   "execution_count": 6,
   "metadata": {},
   "outputs": [
    {
     "data": {
      "text/plain": [
       "array([ 1.67835952, -0.49256673,  0.18780915, -1.67773688, -0.1797055 ,\n",
       "        1.42578154, -0.28216233,  0.36459449, -1.99712357,  1.00452261])"
      ]
     },
     "execution_count": 6,
     "metadata": {},
     "output_type": "execute_result"
    }
   ],
   "source": [
    "regul(npr.normal(size=10),np.repeat(0.1,10))"
   ]
  },
  {
   "cell_type": "markdown",
   "metadata": {},
   "source": [
    "### Load temperatures data"
   ]
  },
  {
   "cell_type": "code",
   "execution_count": 208,
   "metadata": {},
   "outputs": [
    {
     "data": {
      "text/html": [
       "<div>\n",
       "<style>\n",
       "    .dataframe thead tr:only-child th {\n",
       "        text-align: right;\n",
       "    }\n",
       "\n",
       "    .dataframe thead th {\n",
       "        text-align: left;\n",
       "    }\n",
       "\n",
       "    .dataframe tbody tr th {\n",
       "        vertical-align: top;\n",
       "    }\n",
       "</style>\n",
       "<table border=\"1\" class=\"dataframe\">\n",
       "  <thead>\n",
       "    <tr style=\"text-align: right;\">\n",
       "      <th></th>\n",
       "      <th>date</th>\n",
       "      <th>t</th>\n",
       "      <th>hour</th>\n",
       "    </tr>\n",
       "  </thead>\n",
       "  <tbody>\n",
       "    <tr>\n",
       "      <th>1707</th>\n",
       "      <td>2016-01-01</td>\n",
       "      <td>9.044444</td>\n",
       "      <td>09:00</td>\n",
       "    </tr>\n",
       "    <tr>\n",
       "      <th>1710</th>\n",
       "      <td>2016-01-01</td>\n",
       "      <td>11.005556</td>\n",
       "      <td>18:00</td>\n",
       "    </tr>\n",
       "    <tr>\n",
       "      <th>1709</th>\n",
       "      <td>2016-01-01</td>\n",
       "      <td>11.437736</td>\n",
       "      <td>15:00</td>\n",
       "    </tr>\n",
       "    <tr>\n",
       "      <th>1708</th>\n",
       "      <td>2016-01-01</td>\n",
       "      <td>11.196296</td>\n",
       "      <td>12:00</td>\n",
       "    </tr>\n",
       "    <tr>\n",
       "      <th>1711</th>\n",
       "      <td>2016-01-01</td>\n",
       "      <td>10.683333</td>\n",
       "      <td>21:00</td>\n",
       "    </tr>\n",
       "  </tbody>\n",
       "</table>\n",
       "</div>"
      ],
      "text/plain": [
       "            date          t   hour\n",
       "1707  2016-01-01   9.044444  09:00\n",
       "1710  2016-01-01  11.005556  18:00\n",
       "1709  2016-01-01  11.437736  15:00\n",
       "1708  2016-01-01  11.196296  12:00\n",
       "1711  2016-01-01  10.683333  21:00"
      ]
     },
     "execution_count": 208,
     "metadata": {},
     "output_type": "execute_result"
    }
   ],
   "source": [
    "df_temp=pd.read_csv('data/temp_2016.csv',sep=',')\n",
    "df_temp=df_temp.drop(df_temp.columns[0],axis=1)\n",
    "df_temp=df_temp.sort_values(by='date')\n",
    "df_temp.head()"
   ]
  },
  {
   "cell_type": "code",
   "execution_count": 209,
   "metadata": {
    "collapsed": true
   },
   "outputs": [],
   "source": [
    "#temperatures every day at 3pm\n",
    "temp_day=df_temp[df_temp.hour==\"15:00\"]\n",
    "temp_day.head()\n",
    "#Array vector of temperatures for each day of the year\n",
    "T_h=list(temp_day.t)"
   ]
  },
  {
   "cell_type": "markdown",
   "metadata": {},
   "source": [
    "### Load electricity data"
   ]
  },
  {
   "cell_type": "code",
   "execution_count": 210,
   "metadata": {},
   "outputs": [
    {
     "data": {
      "text/html": [
       "<div>\n",
       "<style>\n",
       "    .dataframe thead tr:only-child th {\n",
       "        text-align: right;\n",
       "    }\n",
       "\n",
       "    .dataframe thead th {\n",
       "        text-align: left;\n",
       "    }\n",
       "\n",
       "    .dataframe tbody tr th {\n",
       "        vertical-align: top;\n",
       "    }\n",
       "</style>\n",
       "<table border=\"1\" class=\"dataframe\">\n",
       "  <thead>\n",
       "    <tr style=\"text-align: right;\">\n",
       "      <th></th>\n",
       "      <th>Date - Heure</th>\n",
       "      <th>Date</th>\n",
       "      <th>Heure</th>\n",
       "      <th>Consommation (MW)</th>\n",
       "      <th>Qualite donnee</th>\n",
       "      <th>daytype</th>\n",
       "    </tr>\n",
       "  </thead>\n",
       "  <tbody>\n",
       "    <tr>\n",
       "      <th>0</th>\n",
       "      <td>2008-01-01T13:00:00+01:00</td>\n",
       "      <td>2008-01-01</td>\n",
       "      <td>13:00</td>\n",
       "      <td>62844</td>\n",
       "      <td>DÃ©finitive</td>\n",
       "      <td>6</td>\n",
       "    </tr>\n",
       "    <tr>\n",
       "      <th>1</th>\n",
       "      <td>2008-01-01T11:30:00+01:00</td>\n",
       "      <td>2008-01-01</td>\n",
       "      <td>11:30</td>\n",
       "      <td>59636</td>\n",
       "      <td>DÃ©finitive</td>\n",
       "      <td>6</td>\n",
       "    </tr>\n",
       "    <tr>\n",
       "      <th>2</th>\n",
       "      <td>2008-01-01T09:00:00+01:00</td>\n",
       "      <td>2008-01-01</td>\n",
       "      <td>09:00</td>\n",
       "      <td>55268</td>\n",
       "      <td>DÃ©finitive</td>\n",
       "      <td>6</td>\n",
       "    </tr>\n",
       "    <tr>\n",
       "      <th>3</th>\n",
       "      <td>2008-01-01T04:30:00+01:00</td>\n",
       "      <td>2008-01-01</td>\n",
       "      <td>04:30</td>\n",
       "      <td>57917</td>\n",
       "      <td>DÃ©finitive</td>\n",
       "      <td>6</td>\n",
       "    </tr>\n",
       "    <tr>\n",
       "      <th>4</th>\n",
       "      <td>2008-01-01T03:30:00+01:00</td>\n",
       "      <td>2008-01-01</td>\n",
       "      <td>03:30</td>\n",
       "      <td>60586</td>\n",
       "      <td>DÃ©finitive</td>\n",
       "      <td>6</td>\n",
       "    </tr>\n",
       "  </tbody>\n",
       "</table>\n",
       "</div>"
      ],
      "text/plain": [
       "                Date - Heure        Date  Heure  Consommation (MW)  \\\n",
       "0  2008-01-01T13:00:00+01:00  2008-01-01  13:00              62844   \n",
       "1  2008-01-01T11:30:00+01:00  2008-01-01  11:30              59636   \n",
       "2  2008-01-01T09:00:00+01:00  2008-01-01  09:00              55268   \n",
       "3  2008-01-01T04:30:00+01:00  2008-01-01  04:30              57917   \n",
       "4  2008-01-01T03:30:00+01:00  2008-01-01  03:30              60586   \n",
       "\n",
       "  Qualite donnee  daytype  \n",
       "0    DÃ©finitive        6  \n",
       "1    DÃ©finitive        6  \n",
       "2    DÃ©finitive        6  \n",
       "3    DÃ©finitive        6  \n",
       "4    DÃ©finitive        6  "
      ]
     },
     "execution_count": 210,
     "metadata": {},
     "output_type": "execute_result"
    }
   ],
   "source": [
    "mypath=\"data/\"\n",
    "df=pd.read_csv(mypath+\"cdc_conso_daytypes.csv\",sep=\",\",encoding='latin-1')\n",
    "df=df.drop([\"daytype\"+str(i) for i in range(0,9)],axis=1)\n",
    "df=df.drop(df.columns[0],axis=1)\n",
    "df.index=range(0,len(df))\n",
    "df=df.sort_values(by=['Date'])\n",
    "df.index=range(0,len(df))\n",
    "df.head()"
   ]
  },
  {
   "cell_type": "code",
   "execution_count": 211,
   "metadata": {
    "collapsed": true
   },
   "outputs": [],
   "source": [
    "#On se concentre d'abord sur une année afin d'initialiser le filtre\n",
    "df=df[(df.Date >'2016-01-01') & (df.Date <'2017-01-01')]\n",
    "df.index=range(0,len(df))"
   ]
  },
  {
   "cell_type": "code",
   "execution_count": 18,
   "metadata": {},
   "outputs": [
    {
     "data": {
      "image/png": "[encoded data removed]",
      "text/plain": [
       "<matplotlib.figure.Figure at 0x11b2e9cf8>"
      ]
     },
     "metadata": {},
     "output_type": "display_data"
    }
   ],
   "source": [
    "plt.plot_date(df.Date,df['Consommation (MW)'],fmt='-')\n",
    "plt.show()"
   ]
  },
  {
   "cell_type": "code",
   "execution_count": 11,
   "metadata": {},
   "outputs": [
    {
     "data": {
      "image/png": "[encoded data removed]",
      "text/plain": [
       "<matplotlib.figure.Figure at 0x1166af128>"
      ]
     },
     "metadata": {},
     "output_type": "display_data"
    }
   ],
   "source": [
    "bins=range(30000,100000,1000)\n",
    "plt.hist(df['Consommation (MW)'],normed=True,bins=bins)\n",
    "plt.show()"
   ]
  },
  {
   "cell_type": "markdown",
   "metadata": {},
   "source": [
    "### Set variables of electricity demand for partile "
   ]
  },
  {
   "cell_type": "code",
   "execution_count": 236,
   "metadata": {
    "collapsed": true
   },
   "outputs": [],
   "source": [
    "df['Consommation']=df['Consommation (MW)']   #leave it in MW\n",
    "df.head()\n",
    "#df[df['Heure']=='14:00'][['Date', 'Consommation (MW)', 'daytype']][:30]\n",
    "#prediction 48h ahead\n",
    "consumption_day_ahead = list(df[df['Date']>'2016-01-30']['Consommation'][:48])\n",
    "#for initialization\n",
    "consumption = list(df[df['Heure']=='15:00']['Consommation'][:30])\n",
    "temperature_ts = T_h[:30] #france mean temp in jan 2016\n",
    "daytype_ts = list(df[df['Heure']=='15:00']['daytype'][:30])"
   ]
  },
  {
   "cell_type": "markdown",
   "metadata": {},
   "source": [
    "## Implementation of Algorithm 3.10"
   ]
  },
  {
   "cell_type": "markdown",
   "metadata": {},
   "source": [
    "## At time n=0:"
   ]
  },
  {
   "cell_type": "markdown",
   "metadata": {
    "collapsed": true
   },
   "source": [
    "### 1.Definition of MCMC initial model at n=0 - sample $X_0^{j} \\sim \\mu(x_0)$"
   ]
  },
  {
   "cell_type": "markdown",
   "metadata": {},
   "source": [
    "### Option A: Set values by hand"
   ]
  },
  {
   "cell_type": "code",
   "execution_count": 220,
   "metadata": {},
   "outputs": [
    {
     "name": "stderr",
     "output_type": "stream",
     "text": [
      "/Users/antoinegrelety/anaconda3/lib/python3.6/site-packages/scipy/stats/_continuous_distns.py:4838: RuntimeWarning: invalid value encountered in log\n",
      "  self._logdelta = np.log(self._delta)\n"
     ]
    }
   ],
   "source": [
    "#Add a bit of noise with uniform random\n",
    "#s=8000*np.ones(M)*npr.uniform(0.5,1.5,size=M)\n",
    "#sigma2_g_star=(10**5)*npr.uniform(0.5,1.5,size=M)\n",
    "#sigma2_s_star=(10**5)*npr.uniform(0.5,1.5,size=M)\n",
    "sigma_g_init=1.27*10**(8/2)\n",
    "sigma_s_init=(2*7.9)*10**3\n",
    "u_h=14 #mean of N(14,1)\n",
    "kappa=np.array([1/9]*9)\n",
    "sigma2=2.7*10**7\n",
    "g_heat_init = stats.truncnorm.rvs(-np.inf,0,loc=0,scale=10**4,size=M)\n",
    "s_init = stats.truncnorm.rvs(np.inf,0,loc=0,scale=10**4,size=M)\n",
    "sigma_s_star_2_evol=7.9*10**7\n",
    "sigma_g_star_2_evol=1.27*10**8\n",
    "\n",
    "x_init=x_season(df.daytype[15],kappa,s_init,sigma_s_init)[0]+x_heat(g_heat_init,15,sigma_g_init)[0]\n",
    "w_init= np.exp(-(np.square(consumption[15]-x_init))/(2*sigma2))"
   ]
  },
  {
   "cell_type": "code",
   "execution_count": 221,
   "metadata": {},
   "outputs": [
    {
     "data": {
      "text/plain": [
       "array([ 11207.26366299, -12211.21377574,  41578.28481568,  21288.25209163,\n",
       "        17534.93102177,  18438.30767951,   -255.3084417 ,  16757.83731906,\n",
       "         2232.63649792,   -585.02155657])"
      ]
     },
     "execution_count": 221,
     "metadata": {},
     "output_type": "execute_result"
    }
   ],
   "source": [
    "x_init[:10]"
   ]
  },
  {
   "cell_type": "code",
   "execution_count": 222,
   "metadata": {},
   "outputs": [
    {
     "name": "stdout",
     "output_type": "stream",
     "text": [
      "[ 1843.41800756   786.89542877  2274.19344192  1688.18031182  1343.96757308\n",
      "  2189.02820228  1764.32360492  1236.34429908  1779.03294738  1651.16947868]\n"
     ]
    }
   ],
   "source": [
    "print(x_season(df.daytype[15],kappa,s_init,sigma_s_init)[0][:10])"
   ]
  },
  {
   "cell_type": "code",
   "execution_count": 223,
   "metadata": {},
   "outputs": [
    {
     "name": "stdout",
     "output_type": "stream",
     "text": [
      "[  92127.66621109   69765.71135115  122067.91192941  102363.89233547\n",
      "   98954.78400435   99013.10003289   80744.18850903   98285.31357563\n",
      "   83217.4241062    80527.62952041]\n"
     ]
    }
   ],
   "source": [
    "print(x_heat(g_heat_init,15,sigma_g_init)[0][:10])"
   ]
  },
  {
   "cell_type": "code",
   "execution_count": 224,
   "metadata": {},
   "outputs": [
    {
     "name": "stdout",
     "output_type": "stream",
     "text": [
      "95753.0\n",
      "6844\n"
     ]
    }
   ],
   "source": [
    "#Compute w_init\n",
    "w_init = np.exp(-(np.square(consumption[15]-x_init))/(2*sigma2))\n",
    "#print(w_init[:100])\n",
    "sum(w_init)/M\n",
    "sum(np.floor(w_init*M))\n",
    "w_norm=w_init/np.sum(w_init)\n",
    "print(sum(np.floor(M*w_norm)))\n",
    "print(len(w_norm[w_norm>1/M]))"
   ]
  },
  {
   "cell_type": "code",
   "execution_count": 225,
   "metadata": {},
   "outputs": [
    {
     "data": {
      "text/plain": [
       "0.032082923777483889"
      ]
     },
     "execution_count": 225,
     "metadata": {},
     "output_type": "execute_result"
    }
   ],
   "source": [
    "np.mean(w_init)"
   ]
  },
  {
   "cell_type": "code",
   "execution_count": 226,
   "metadata": {},
   "outputs": [
    {
     "data": {
      "text/plain": [
       "array([  1.52552272e-22,   3.11302950e-47,   1.16201261e-03,\n",
       "         1.24695734e-14,   2.19243835e-17,   1.05854323e-16,\n",
       "         1.58689986e-33,   5.52369073e-18,   5.80698854e-31,\n",
       "         7.13452331e-34,   9.27122476e-22,   2.27721400e-19,\n",
       "         2.38308323e-49,   1.50119488e-37,   3.40189102e-23,\n",
       "         9.01061677e-22,   1.76084160e+00,   6.10382893e-51,\n",
       "         3.64980911e-63,   3.88502441e-21,   2.15502111e-62,\n",
       "         1.72578457e-06,   2.89343761e+01,   3.56221365e-69,\n",
       "         5.47743855e-03,   4.94628913e-61,   1.20054452e-20,\n",
       "         1.69905702e+00,   1.63732242e-32,   4.40127160e-72,\n",
       "         1.61238049e-47,   7.19830368e-48,   1.00672345e-05,\n",
       "         4.12948250e-18,   3.08818887e-19,   2.05399393e-64,\n",
       "         7.38463785e-56,   5.34740482e-32,   3.83103647e-15,\n",
       "         1.42696576e-55,   2.65233930e-17,   8.71408852e-64,\n",
       "         9.88550413e-62,   2.64554394e-34,   2.11877342e-27,\n",
       "         4.41729559e-52,   2.17271985e-50,   3.74762243e-69,\n",
       "         5.60958100e-07,   1.10783285e-64,   1.57454887e-62,\n",
       "         1.99003567e-48,   2.86934687e-01,   3.66081587e-06,\n",
       "         1.26849568e-07,   1.83719860e-69,   7.52213866e-27,\n",
       "         5.85566134e-71,   8.40383725e-64,   7.38212250e-21,\n",
       "         1.10879731e-59,   2.87574837e-68,   2.40393505e-69,\n",
       "         7.73989239e-32,   1.18194957e-63,   2.45666383e-46,\n",
       "         5.45946387e-01,   9.15605786e-59,   1.00767641e+01,\n",
       "         1.72234899e-63,   3.66624165e-46,   2.44024218e-47,\n",
       "         2.94181514e+01,   1.64101949e-57,   7.41759618e-65,\n",
       "         2.81919101e+01,   4.10499507e-20,   2.70234272e-54,\n",
       "         8.26952826e-47,   1.23476508e-04,   2.86021309e-28,\n",
       "         7.30492125e-02,   7.40886595e-57,   8.62932304e-65,\n",
       "         5.27516869e-32,   6.24904300e-10,   3.89758949e-04,\n",
       "         2.11198490e+01,   2.29172635e-41,   9.61710373e-07,\n",
       "         1.05682285e-37,   2.08900018e-27,   1.83812302e+00,\n",
       "         4.08179502e-16,   1.76460291e-24,   5.05690552e-09,\n",
       "         4.39124320e+00,   2.32942723e-50,   9.67177690e-34,\n",
       "         1.05048705e-42])"
      ]
     },
     "execution_count": 226,
     "metadata": {},
     "output_type": "execute_result"
    }
   ],
   "source": [
    "M*w_norm[:100]"
   ]
  },
  {
   "cell_type": "code",
   "execution_count": 156,
   "metadata": {},
   "outputs": [
    {
     "data": {
      "text/plain": [
       "65044"
      ]
     },
     "execution_count": 156,
     "metadata": {},
     "output_type": "execute_result"
    }
   ],
   "source": [
    "consumption[15]"
   ]
  },
  {
   "cell_type": "markdown",
   "metadata": {},
   "source": [
    "### Option B: generate initial parameters based on prior distribution"
   ]
  },
  {
   "cell_type": "code",
   "execution_count": null,
   "metadata": {},
   "outputs": [
    {
     "name": "stderr",
     "output_type": "stream",
     "text": [
      "C:\\Users\\Zakarya\\Anaconda3\\lib\\site-packages\\scipy\\stats\\_continuous_distns.py:2631: RuntimeWarning: divide by zero encountered in true_divide\n",
      "  return 1.0 / sc.gammainccinv(a, q)\n",
      "C:\\Users\\Zakarya\\Anaconda3\\lib\\site-packages\\scipy\\stats\\_continuous_distns.py:2631: RuntimeWarning: overflow encountered in true_divide\n",
      "  return 1.0 / sc.gammainccinv(a, q)\n"
     ]
    }
   ],
   "source": [
    "sigma2=invgamma.rvs(a=0.01,scale=0.01,size=M)**0.5\n",
    "sigma2_s_star=invgamma.rvs(a=0.01,scale=0.01,size=M)**0.5\n",
    "sigma2_g_star=invgamma.rvs(a=0.01,scale=0.01,size=M)**0.5\n",
    "sigma2_s=invgamma.rvs(a=0.01,scale=0.01,size=M)**0.5\n",
    "sigma2_g=invgamma.rvs(a=0.01,scale=0.01,size=M)**0.5\n",
    "g_h = stats.truncnorm.rvs(-np.inf,0,loc=0,scale=10**4,size=M)\n",
    "s = stats.truncnorm.rvs(np.inf,0,loc=0,scale=10**4,size=M)\n",
    "\n",
    "\n",
    "u_h=npr.normal(14,1)  #fixed parameter, invariant to time\n",
    "k_day=npr.dirichlet(np.ones(N_daytype),1)[0]"
   ]
  },
  {
   "cell_type": "markdown",
   "metadata": {},
   "source": [
    "#### 1.B. Calculate x and w at initial state based on initial parameters"
   ]
  },
  {
   "cell_type": "code",
   "execution_count": null,
   "metadata": {
    "collapsed": true
   },
   "outputs": [],
   "source": [
    "#initialize matrix of x, x_heat, x_season\n",
    "x_season =np.zeros([n_pred+1,M]) \n",
    "x_heat =np.zeros([n_pred+1,M])\n",
    "x =np.zeros([n_pred+1,M])\n",
    "\n",
    "daytype_init=1\n",
    "day_init=1\n",
    "\n",
    "#Calculate x0 and w0 before filtering\n",
    "x_season[0,:]=k_day[daytype_init]*s\n",
    "if T_h[day_init]-u_h >0:\n",
    "    x_heat[0,:]=g_h*(T_h[day_init]-u_h)*1\n",
    "else:\n",
    "    x_heat[0,:]=np.zeros(M)\n",
    "\n",
    "x_0=x_season[0,:]+x_heat[0,:]   #ignore x_cool for now\n",
    "w0_=x_0+npr.normal(0,sigma2,size=M)  #compute w_wave = g(y_0 l X_0)"
   ]
  },
  {
   "cell_type": "markdown",
   "metadata": {},
   "source": [
    "#### 2.B.Compute the weights and re-assess the values of X_0 and w_0 based on ESS value\n"
   ]
  },
  {
   "cell_type": "code",
   "execution_count": 186,
   "metadata": {
    "collapsed": true
   },
   "outputs": [],
   "source": [
    "import math\n",
    "w =np.zeros([n_pred+1,M])  #initalize matrix of weights w\n",
    "w0_h=w0_/sum(w0_)   #set w_hat\n",
    "ESS_0=1/(sum(w0_h)**2)  #calculate ESS\n",
    "if math.isnan(ESS_0):\n",
    "    ESS_0=1\n",
    "print(ESS_0)\n",
    "if ESS_0 <0.001*M:\n",
    "    x[0,:]=x_0\n",
    "    w[0,:]=np.ones(M)*(1/M)  #reset the weights\n",
    "if (ESS_0>=0.001*M and ESS_0<0.5*M):\n",
    "    x_temp=resid_resample(x_0,w0_h)\n",
    "    w_temp=np.ones(M)*(1/M)\n",
    "    x[0,:]=regul(x_temp,w_temp)\n",
    "    w[0,:]=w_temp\n",
    "if ESS_0>=0.5*M:\n",
    "    x[0,:]=x_0\n",
    "    w[0,:]=w0_"
   ]
  },
  {
   "cell_type": "markdown",
   "metadata": {},
   "source": [
    "### Option C: MCMC using MHA or Gibbs (TBA)"
   ]
  },
  {
   "cell_type": "code",
   "execution_count": 212,
   "metadata": {
    "collapsed": true
   },
   "outputs": [],
   "source": [
    "import numpy as np\n",
    "from scipy.stats import truncnorm, invgamma\n",
    "import math"
   ]
  },
  {
   "cell_type": "markdown",
   "metadata": {},
   "source": [
    "#### Freeze parameters from Zak's simulation in gibbs-parameters_init_v1"
   ]
  },
  {
   "cell_type": "code",
   "execution_count": 12,
   "metadata": {
    "collapsed": true
   },
   "outputs": [],
   "source": [
    "N_daytype=9\n",
    "k_day=npr.dirichlet(np.ones(N_daytype),1)\n",
    "#kappa = k_day[0].tolist()"
   ]
  },
  {
   "cell_type": "code",
   "execution_count": 201,
   "metadata": {},
   "outputs": [
    {
     "data": {
      "text/plain": [
       "array([  1.16093549e+11,   6.10701946e+10,   5.74572969e+09,\n",
       "         4.75739198e+09,   4.11648732e+09,   3.72364616e+09,\n",
       "         3.47391174e+09,   3.30766255e+09,   3.19165005e+09,\n",
       "         3.10675781e+09,   3.04159846e+09,   2.98916605e+09,\n",
       "         2.94503083e+09,   2.90633069e+09,   2.87118720e+09,\n",
       "         2.83835551e+09,   2.80700763e+09,   2.77659420e+09,\n",
       "         2.74675410e+09,   2.71725420e+09])"
      ]
     },
     "execution_count": 201,
     "metadata": {},
     "output_type": "execute_result"
    }
   ],
   "source": [
    "#Load pickle file\n",
    "import pickle\n",
    "output_file ='data/parameters_init.pkl'\n",
    "pkl_file = open(output_file, 'rb')\n",
    "parameters_init = pickle.load(pkl_file)\n",
    "parameters_init[\"x_init\"][:20]"
   ]
  },
  {
   "cell_type": "code",
   "execution_count": 56,
   "metadata": {},
   "outputs": [
    {
     "data": {
      "text/plain": [
       "array([ 37086.80181732,  16394.97257234,   4622.74073324,   4031.99239891,\n",
       "         3653.90126172,   3366.43559475,   3130.50452295,   2928.16815611,\n",
       "         2749.656668  ,   2589.10279558,   2442.74098667,   2308.02707465,\n",
       "         2183.16430665,   2066.83297664,   1958.02820575,   1855.95994147,\n",
       "         1759.98926479,   1669.58633244,   1584.3029652 ,   1503.75262386])"
      ]
     },
     "execution_count": 56,
     "metadata": {},
     "output_type": "execute_result"
    }
   ],
   "source": [
    "parameters_init[\"s_init\"][:20]"
   ]
  },
  {
   "cell_type": "code",
   "execution_count": 54,
   "metadata": {},
   "outputs": [
    {
     "data": {
      "text/plain": [
       "array([ -2.45189115e+10,  -1.28980009e+10,  -1.21349578e+09,\n",
       "        -1.00475925e+09,  -8.69400444e+08,  -7.86432550e+08,\n",
       "        -7.33688743e+08,  -6.98576983e+08,  -6.74075192e+08,\n",
       "        -6.56145986e+08,  -6.42384361e+08,  -6.31310659e+08,\n",
       "        -6.21989320e+08,  -6.13815868e+08,  -6.06393577e+08,\n",
       "        -5.99459539e+08,  -5.92838883e+08,  -5.86415580e+08,\n",
       "        -5.80113363e+08,  -5.73882998e+08])"
      ]
     },
     "execution_count": 54,
     "metadata": {},
     "output_type": "execute_result"
    }
   ],
   "source": [
    "parameters_init[\"g_heat_init\"][:20]"
   ]
  },
  {
   "cell_type": "code",
   "execution_count": 55,
   "metadata": {
    "collapsed": true
   },
   "outputs": [],
   "source": [
    "s_init=parameters_init['s_init']\n",
    "g_heat_init=parameters_init['g_heat_init']\n",
    "sigma_s_init=parameters_init['sigma_s_init']\n",
    "sigma_g_init=parameters_init['sigma_g_init']\n",
    "x_init=parameters_init['x_init']\n",
    "s_evol=parameters_init['s_evol']\n",
    "g_heat_evol=parameters_init['g_heat_evol']\n",
    "sigma_s_star_2_evol=parameters_init['sigma_s_star_2_evol']\n",
    "sigma_g_star_2_evol=parameters_init['sigma_g_star_2_evol']\n",
    "sigma2=parameters_init['sigma2']\n",
    "u_h=parameters_init['u_h']\n",
    "kappa=parameters_init['kappa']"
   ]
  },
  {
   "cell_type": "code",
   "execution_count": 82,
   "metadata": {
    "collapsed": true
   },
   "outputs": [],
   "source": [
    "#attempt to set by hand a good value of sigma2\n",
    "sigma2=10e19"
   ]
  },
  {
   "cell_type": "code",
   "execution_count": 83,
   "metadata": {},
   "outputs": [
    {
     "data": {
      "text/plain": [
       "array([  2.19290770e-06,   9.24080908e-01,   2.31464524e-08,\n",
       "         1.28185110e-08,   8.69246736e-09,   6.83691673e-09,\n",
       "         5.86432271e-09,   5.29302030e-09,   4.92685014e-09,\n",
       "         4.67465790e-09])"
      ]
     },
     "execution_count": 83,
     "metadata": {},
     "output_type": "execute_result"
    }
   ],
   "source": [
    "#Compute w_init\n",
    "w_init = np.exp(-(np.square(consumption[15]-x_init))/(2*sigma2))\n",
    "w_init[:10]"
   ]
  },
  {
   "cell_type": "markdown",
   "metadata": {},
   "source": [
    "### Part 2: regularize weights and x if necessary"
   ]
  },
  {
   "cell_type": "code",
   "execution_count": 213,
   "metadata": {
    "scrolled": false
   },
   "outputs": [
    {
     "data": {
      "text/plain": [
       "'\\nSet of Parameters:\\nw_init, s_init, g_heat_init, sigma_s_init, sigma_g_init,\\nx_init, s_evol,g_heat_evol,\\nsigma_s_star_2_evol, sigma_g_star_2_evol\\n'"
      ]
     },
     "execution_count": 213,
     "metadata": {},
     "output_type": "execute_result"
    }
   ],
   "source": [
    "\"\"\"\n",
    "Set of Parameters:\n",
    "w_init, s_init, g_heat_init, sigma_s_init, sigma_g_init,\n",
    "x_init, s_evol,g_heat_evol,\n",
    "sigma_s_star_2_evol, sigma_g_star_2_evol\n",
    "\"\"\""
   ]
  },
  {
   "cell_type": "code",
   "execution_count": 179,
   "metadata": {
    "collapsed": true
   },
   "outputs": [],
   "source": [
    "#STEP 2 OF PARTICLE FILTER\n",
    "def resample(x_pred,w_prev,n):   \n",
    "    #compute weights\n",
    "    if n>0:\n",
    "        w_=w_prev*np.exp(-np.square(consumption_day_ahead[n-1]-x_pred)/(2*sigma2))\n",
    "    else:\n",
    "        w_=w_prev\n",
    "    #normalize weights\n",
    "    w_h=w_/sum(w_)\n",
    "    #calculate ESS\n",
    "    ESS=1/sum(np.square(w_h))\n",
    "    x =np.zeros(M)\n",
    "    w =np.zeros(M)\n",
    "    print(\"ESS of normalized weights=\",round(ESS,6))\n",
    "    if ESS <0.001*M: #reset the weights, keep x predicted as such\n",
    "        print(\"ESS <0.001*M\")\n",
    "        x=x_pred\n",
    "        if n==0:\n",
    "            w=np.ones(M)*(1/M)\n",
    "        w=w_prev\n",
    "    if (ESS>=0.001*M and ESS<0.5*M):  #reset all the weights, add some noise to a fraction of the x's\n",
    "        print(\"ESS>=0.001*M and ESS_0<0.5*M\")\n",
    "        x_temp,w_temp=resid_resample(x_pred,w_h)\n",
    "        x=regul(x_temp,w_temp)\n",
    "        w=w_temp\n",
    "    if ESS>=0.5*M:  #No degeneracy\n",
    "        print(\"ESS>=0.5*M\")\n",
    "        x=x_pred\n",
    "        w=w_h\n",
    "    print(\"new ESS=\",round(1/sum(np.square(w)),6))\n",
    "    return x,w,ESS"
   ]
  },
  {
   "cell_type": "code",
   "execution_count": 229,
   "metadata": {
    "scrolled": true
   },
   "outputs": [
    {
     "name": "stdout",
     "output_type": "stream",
     "text": [
      "ESS of normalized weights= 4554.221084\n",
      "ESS>=0.001*M and ESS_0<0.5*M\n",
      "R= 6844\n",
      "w_: [  1.63760007e-27   3.34173806e-52   1.24738354e-08 ...,   9.04639646e-44\n",
      "   3.05352823e-06   4.98571980e-53]\n",
      "new ESS= 100000.0\n"
     ]
    }
   ],
   "source": [
    "#initialize matrix of x_heat, x_season\n",
    "ESS=np.array(np.ones(n_pred+1))\n",
    "x =np.zeros([n_pred+1,M])\n",
    "w =np.zeros([n_pred+1,M])\n",
    "x_season =np.zeros([n_pred+1,M]) \n",
    "x_heat =np.zeros([n_pred+1,M])\n",
    "\n",
    "x[0,:],w[0,:],ESS[0]=resample(x_init,w_init,0)\n",
    "#w[0,:]=resample(x_init,w_init,0)[1]"
   ]
  },
  {
   "cell_type": "markdown",
   "metadata": {
    "collapsed": true
   },
   "source": [
    "## Prediction and Filtering at time n>0"
   ]
  },
  {
   "cell_type": "markdown",
   "metadata": {},
   "source": [
    "### 1. Sample $x^j_n \\mid X^j_{n-1} $ for all j=1...M particles"
   ]
  },
  {
   "cell_type": "code",
   "execution_count": 231,
   "metadata": {
    "collapsed": true
   },
   "outputs": [],
   "source": [
    "def x_season(day_type,k_day,s_prev,sigma_s_prev):\n",
    "    nu=truncnorm.rvs(a = (-sigma_s_prev-0) / sigma_s_star_2_evol**0.5 , b = np.inf, loc= 0, scale = sigma_s_star_2_evol**0.5, size=M)[0]\n",
    "    sigma_s=sigma_s_prev+nu\n",
    "    err=truncnorm.rvs(a = -s_prev / sigma_s , b = np.inf, loc= 0, scale = sigma_s, size=M)[0]\n",
    "    s=s_prev+err\n",
    "    x_s=s*k_day[day_type]\n",
    "    return x_s, s, sigma_s\n",
    "\n",
    "def x_heat(g_h_prev,day,sigma_g_prev):\n",
    "    nu=truncnorm.rvs(a = -sigma_g_prev / sigma_g_star_2_evol**0.5 , b = np.inf, loc= 0, scale = sigma_g_star_2_evol**0.5, size=M)[0]\n",
    "    sigma_g=sigma_g_prev+nu\n",
    "    err=truncnorm.rvs(a = -np.inf , b =(-g_h_prev-0) / sigma_g, loc= 0, scale = sigma_g, size=M)[0]\n",
    "    g_h=g_h_prev+err\n",
    "    if(u_h-T_h[day]<0):\n",
    "        print(\"No heating effect\")\n",
    "    x_h=g_h*(T_h[day]-u_h)*max(np.sign(u_h-T_h[day]),0)\n",
    "    return x_h, g_h, sigma_g"
   ]
  },
  {
   "cell_type": "code",
   "execution_count": 87,
   "metadata": {
    "scrolled": true
   },
   "outputs": [
    {
     "name": "stdout",
     "output_type": "stream",
     "text": [
      "[ 4711.31657792  1768.63904241    94.45732723 ...,  -562.90576789\n",
      "  -562.91763295  -562.95692324]\n",
      "[  5.27427988e+03   2.33160234e+03   6.57420625e+02 ...,   5.75295718e-02\n",
      "   4.56645050e-02   6.37421575e-03]\n"
     ]
    }
   ],
   "source": [
    "print(x_season(df.daytype[15],kappa,s_init,sigma_s_init)[0])\n",
    "print(s_init*kappa[df.daytype[15]])"
   ]
  },
  {
   "cell_type": "code",
   "execution_count": 88,
   "metadata": {
    "scrolled": true
   },
   "outputs": [
    {
     "name": "stdout",
     "output_type": "stream",
     "text": [
      "[  1.25765013e+11   6.50681518e+10   4.03913161e+09 ...,  -2.29904508e+09\n",
      "  -2.29904508e+09  -2.29904508e+09]\n",
      "[  1.10833124e+11   5.83029856e+10   5.48537926e+09 ...,   3.50043057e+00\n",
      "   3.17013196e-01   3.86630576e-01]\n"
     ]
    }
   ],
   "source": [
    "print(x_heat(g_heat_init,16,sigma_g_init)[0])\n",
    "print(np.maximum(0,g_heat_init*(T_h[15]-u_h)))"
   ]
  },
  {
   "cell_type": "code",
   "execution_count": 232,
   "metadata": {
    "scrolled": true
   },
   "outputs": [
    {
     "name": "stdout",
     "output_type": "stream",
     "text": [
      "n= 1\n",
      "number of negative values: 19680\n",
      "sample of x_pred: [ 34921.09060722  27996.8995055    4240.65832538  31003.96807843]\n",
      "x_pred mean= 3.04e+04 real consumption= 5.86e+04\n",
      "x_pred min= -1.48e+04 x_pred max 2.51e+05\n",
      "ESS of normalized weights= 11464.637941\n",
      "ESS>=0.001*M and ESS_0<0.5*M\n",
      "R= 14526\n",
      "w_: [  6.64539552e-10   1.14929366e-26   9.32994949e-06 ...,   2.46218499e-20\n",
      "   3.55316982e-10   1.74098640e-27]\n",
      "new ESS= 100000.0\n",
      "------------------------\n",
      "n= 2\n",
      "number of negative values: 16974\n",
      "sample of x_pred: [ 36911.77772436  29987.58662264   6231.34544253  32994.65519557]\n",
      "x_pred mean= 3.24e+04 real consumption= 5.63e+04\n",
      "x_pred min= -1.28e+04 x_pred max 2.53e+05\n",
      "ESS of normalized weights= 11969.001205\n",
      "ESS>=0.001*M and ESS_0<0.5*M\n",
      "R= 14932\n",
      "w_: [  3.83499164e-09   4.55153206e-25   3.62916537e-06 ...,   5.41526626e-19\n",
      "   4.73164506e-11   7.39172263e-26]\n",
      "new ESS= 100000.0\n",
      "------------------------\n",
      "n= 3\n",
      "number of negative values: 0\n",
      "sample of x_pred: [ 100360.20256207   93436.01146035   69679.77028024   96443.08003329]\n",
      "x_pred mean= 9.58e+04 real consumption= 5.91e+04\n",
      "x_pred min= 5.07e+04 x_pred max 3.16e+05\n",
      "ESS of normalized weights= 19379.604765\n",
      "ESS>=0.001*M and ESS_0<0.5*M\n",
      "R= 20928\n",
      "w_: [  5.57954568e-19   1.08078864e-06   4.14199059e-52 ...,   3.12026488e-09\n",
      "   4.27121645e-76   1.83530348e-06]\n",
      "new ESS= 100000.0\n",
      "------------------------\n",
      "n= 4\n",
      "number of negative values: 0\n",
      "sample of x_pred: [ 101608.54514145   94684.35403973   70928.11285962   97691.42261266]\n",
      "x_pred mean= 9.71e+04 real consumption= 5.37e+04\n",
      "x_pred min= 5.19e+04 x_pred max 3.17e+05\n",
      "ESS of normalized weights= 21380.263607\n",
      "ESS>=0.001*M and ESS_0<0.5*M\n",
      "R= 22944\n",
      "w_: [  6.05617898e-18   2.41998726e-06   3.51041754e-50 ...,   1.13134654e-08\n",
      "   1.01766786e-73   3.88160030e-06]\n",
      "new ESS= 100000.0\n",
      "------------------------\n",
      "n= 5\n",
      "number of negative values: 0\n",
      "sample of x_pred: [ 187651.96564794  180727.77454622  156971.53336611  183734.84311916]\n",
      "x_pred mean= 1.83e+05 real consumption= 6.00e+04\n",
      "x_pred min= 1.38e+05 x_pred max 4.03e+05\n",
      "ESS of normalized weights= 383.117261\n",
      "ESS>=0.001*M and ESS_0<0.5*M\n",
      "R= 1855\n",
      "w_: [  2.16571180e-085   1.38737540e-034   1.13313766e-168 ...,\n",
      "   6.92453576e-049   6.98052003e-218   5.80684852e-033]\n",
      "new ESS= 100000.0\n",
      "------------------------\n",
      "n= 6\n",
      "number of negative values: 0\n",
      "sample of x_pred: [ 215741.1008195   208816.90971778  185060.66853766  211823.97829071]\n",
      "x_pred mean= 2.11e+05 real consumption= 6.00e+04\n",
      "x_pred min= 1.66e+05 x_pred max 4.31e+05\n",
      "ESS of normalized weights= 257.003212\n",
      "ESS>=0.001*M and ESS_0<0.5*M\n",
      "R= 1454\n",
      "w_: [  6.83606634e-102   9.79266938e-042   2.40178320e-197 ...,\n",
      "   6.82566659e-059   0.00000000e+000   8.92200518e-040]\n",
      "new ESS= 100000.0\n",
      "------------------------\n",
      "n= 7\n",
      "number of negative values: 0\n",
      "sample of x_pred: [ 370896.23997572  363972.048874    340215.80769389  366979.11744693]\n",
      "x_pred mean= 3.66e+05 real consumption= 5.92e+04\n",
      "x_pred min= 3.21e+05 x_pred max 5.87e+05\n",
      "ESS of normalized weights= nan\n",
      "new ESS= inf\n",
      "------------------------\n",
      "n= 8\n"
     ]
    },
    {
     "name": "stderr",
     "output_type": "stream",
     "text": [
      "/Users/antoinegrelety/anaconda3/lib/python3.6/site-packages/ipykernel_launcher.py:9: RuntimeWarning: invalid value encountered in true_divide\n",
      "  if __name__ == '__main__':\n",
      "/Users/antoinegrelety/anaconda3/lib/python3.6/site-packages/ipykernel_launcher.py:30: RuntimeWarning: divide by zero encountered in double_scalars\n"
     ]
    },
    {
     "name": "stdout",
     "output_type": "stream",
     "text": [
      "number of negative values: 0\n",
      "sample of x_pred: [ 474480.46500038  467556.27389866  443800.03271854  470563.34247159]\n",
      "x_pred mean= 4.70e+05 real consumption= 5.59e+04\n",
      "x_pred min= 4.25e+05 x_pred max 6.90e+05\n",
      "ESS of normalized weights= nan\n",
      "new ESS= inf\n",
      "------------------------\n",
      "n= 9\n",
      "number of negative values: 0\n",
      "sample of x_pred: [ 398287.31251108  391363.12140936  367606.88022925  394370.18998229]\n",
      "x_pred mean= 3.94e+05 real consumption= 5.71e+04\n",
      "x_pred min= 3.49e+05 x_pred max 6.14e+05\n",
      "ESS of normalized weights= nan\n",
      "new ESS= inf\n",
      "------------------------\n"
     ]
    }
   ],
   "source": [
    "#Initialize parameters\n",
    "s=s_init\n",
    "g_h=g_heat_init\n",
    "sigma_s=sigma_s_init\n",
    "sigma_g=sigma_g_init\n",
    "n_iter=15\n",
    "\n",
    "for n in range(1,10):\n",
    "    print(\"n=\",n)\n",
    "    #prediction X[n] one day ahead, hourly forecast\n",
    "    x_pred=x_season(df.daytype[n_iter+1],kappa,s,sigma_s)[0]+x_heat(g_h,1+n_iter,sigma_g)[0]\n",
    "    print(\"number of negative values:\",len(x_pred[x_pred<0]))\n",
    "    print(\"sample of x_pred:\",x_pred[1000:1004])\n",
    "    print(\"x_pred mean=\",\"{:.2e}\".format(np.mean(x_pred)),\"real consumption=\",\"{:.2e}\".format(consumption_day_ahead[n]))\n",
    "    print(\"x_pred min=\",\"{:.2e}\".format(np.min(x_pred)),\"x_pred max\",\"{:.2e}\".format(np.max(x_pred)))\n",
    "    #deal with outliers with ESS drops below epsilon--> algo 3.3\n",
    "    \n",
    "    #take new values of parameters to feed x_season and x_heat in the next step\n",
    "    #(should we assume constant parameters in the baseline model ?)\n",
    "    s, sigma_s=x_season(df.daytype[n+n_iter],kappa,s,sigma_s)[1:]\n",
    "    g_h, sigma_g=x_heat(g_h,n,sigma_g)[1:]\n",
    "    #regularization\n",
    "    x[n,:],w[n,:],ESS[n]=resample(x_pred,w[n-1,:],n)\n",
    "    print(\"------------------------\")"
   ]
  },
  {
   "cell_type": "code",
   "execution_count": 235,
   "metadata": {},
   "outputs": [
    {
     "data": {
      "text/plain": [
       "array([  4.55422108e-02,   1.14646379e-01,   1.19690012e-01,\n",
       "         1.93796048e-01,   2.13802636e-01,   3.83117261e-03,\n",
       "         2.57003212e-03,              nan,              nan,\n",
       "                    nan,   1.00000000e-05,   1.00000000e-05,\n",
       "         1.00000000e-05,   1.00000000e-05,   1.00000000e-05,\n",
       "         1.00000000e-05,   1.00000000e-05,   1.00000000e-05,\n",
       "         1.00000000e-05,   1.00000000e-05,   1.00000000e-05,\n",
       "         1.00000000e-05,   1.00000000e-05,   1.00000000e-05,\n",
       "         1.00000000e-05,   1.00000000e-05,   1.00000000e-05,\n",
       "         1.00000000e-05,   1.00000000e-05,   1.00000000e-05,\n",
       "         1.00000000e-05,   1.00000000e-05,   1.00000000e-05,\n",
       "         1.00000000e-05,   1.00000000e-05,   1.00000000e-05,\n",
       "         1.00000000e-05,   1.00000000e-05,   1.00000000e-05,\n",
       "         1.00000000e-05,   1.00000000e-05,   1.00000000e-05,\n",
       "         1.00000000e-05,   1.00000000e-05,   1.00000000e-05,\n",
       "         1.00000000e-05,   1.00000000e-05,   1.00000000e-05,\n",
       "         1.00000000e-05])"
      ]
     },
     "execution_count": 235,
     "metadata": {},
     "output_type": "execute_result"
    }
   ],
   "source": [
    "ESS/M"
   ]
  },
  {
   "cell_type": "code",
   "execution_count": 234,
   "metadata": {
    "collapsed": true
   },
   "outputs": [],
   "source": [
    "#OUTLIER ANALYSIS\n",
    "x_trunc=x[2,:]\n",
    "x_trunc=x_trunc[x_trunc<np.percentile(x_trunc,95)]\n",
    "x_trunc=x_trunc[x_trunc>np.percentile(x_trunc,5)]"
   ]
  },
  {
   "cell_type": "code",
   "execution_count": 94,
   "metadata": {},
   "outputs": [
    {
     "data": {
      "text/plain": [
       "90250"
      ]
     },
     "execution_count": 94,
     "metadata": {},
     "output_type": "execute_result"
    }
   ],
   "source": [
    "len(x_trunc)"
   ]
  },
  {
   "cell_type": "code",
   "execution_count": 95,
   "metadata": {},
   "outputs": [
    {
     "data": {
      "image/png": "[encoded data removed]",
      "text/plain": [
       "<matplotlib.figure.Figure at 0x11dc44198>"
      ]
     },
     "metadata": {},
     "output_type": "display_data"
    }
   ],
   "source": [
    "plt.hist(x_trunc)\n",
    "plt.show()"
   ]
  },
  {
   "cell_type": "code",
   "execution_count": null,
   "metadata": {
    "collapsed": true
   },
   "outputs": [],
   "source": []
  }
 ],
 "metadata": {
  "kernelspec": {
   "display_name": "Python 3",
   "language": "python",
   "name": "python3"
  },
  "language_info": {
   "codemirror_mode": {
    "name": "ipython",
    "version": 3
   },
   "file_extension": ".py",
   "mimetype": "text/x-python",
   "name": "python",
   "nbconvert_exporter": "python",
   "pygments_lexer": "ipython3",
   "version": "3.6.3"
  }
 },
 "nbformat": 4,
 "nbformat_minor": 2
}
