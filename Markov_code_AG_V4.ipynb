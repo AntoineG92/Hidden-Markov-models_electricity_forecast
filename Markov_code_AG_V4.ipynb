{
 "cells": [
  {
   "cell_type": "markdown",
   "metadata": {},
   "source": [
    "# On particle filters applied to electricity load forecasting"
   ]
  },
  {
   "cell_type": "markdown",
   "metadata": {},
   "source": [
    "PyMC tuto\n",
    "\n",
    "https://pymc-devs.github.io/pymc/tutorial.html#fitting-the-model-with-mcmc\n",
    "\n",
    "http://sdsawtelle.github.io/blog/output/mcmc-in-python-with-pymc.html\n",
    "    "
   ]
  },
  {
   "cell_type": "markdown",
   "metadata": {},
   "source": [
    "NC Email:\n",
    "\n",
    "Voilà quelques pistes que vous pouvez suivre:\n",
    "* commencer par implémenter un bootstrap filter pour le modèle proposé, et des valeurs des paramètres choisis à la main ﴾en fonction des valeurs reportées dans l'article par exemple﴿ et des données que vous pouvez simuler. Déterminer à quel point l'algorithme marche bien:\n",
    "+ graphe de l'ESS en fonction du temps; voir si effectivement certains outliers font fortement chuter l'ESS. Essayer la méthode proposée pour gérer ses outliers.\n",
    "+ intervalles de confiance pour l'estimation de E[X_t|Y_{0:t}], basé sur plusieurs exécutions, par exemple.\n",
    "\n",
    "Deuxième étape: estimation des paramètres. Vous pouvez essayer une des trois approches suivantes, triées par ordre de difficulté:\n",
    "1. maximisation de la vraisemblance ﴾estimée par votre filtre particulaire pour un theta donné﴿, en utilisant une méthode de maximisation pour fonction bruitée ﴾par ex Robbins‐Monroe﴿.\n",
    "2. PMMH, voir le prochain cours. Principale difficulté: l'algorithme peut prendre du temps, et ne pas être très facile à calibrer, mais je vais en parler en cours.\n",
    "3. Particle Gibbs: c'est peut‐être un peu compliqué pour ce modèle, mais si vous arrivez, gros bonus!"
   ]
  },
  {
   "cell_type": "markdown",
   "metadata": {},
   "source": [
    "TO-DO liste\n",
    "\n",
    "1.INITIALISATION\n",
    "\n",
    "\n",
    "2.FILTRAGE (paramètres fixes)\n",
    "Fixer à la main les paramètres sans s'occuper de l'initialisation\n",
    "\n",
    "\n",
    "3.PREDICTION (paramètres fixes)\n",
    "\n",
    "4.PMCMC (paramètres refités à chaque nouvelle prédiction)\n",
    "    \n",
    "\n",
    "\n"
   ]
  },
  {
   "cell_type": "code",
   "execution_count": 1,
   "metadata": {
    "collapsed": true
   },
   "outputs": [],
   "source": [
    "import pandas as pd\n",
    "import numpy as np\n",
    "import numpy.random as npr\n",
    "import matplotlib as mtp\n",
    "import matplotlib.pyplot as plt\n",
    "import scipy as sp\n",
    "from scipy.stats import truncnorm\n",
    "import scipy.stats as stats\n",
    "from scipy.stats import invgamma\n",
    "from scipy import ndimage"
   ]
  },
  {
   "cell_type": "code",
   "execution_count": 2,
   "metadata": {
    "collapsed": true
   },
   "outputs": [],
   "source": [
    "import pymc\n",
    "from pymc import MCMC"
   ]
  },
  {
   "cell_type": "markdown",
   "metadata": {},
   "source": [
    "### Parameters"
   ]
  },
  {
   "cell_type": "code",
   "execution_count": 43,
   "metadata": {
    "collapsed": true
   },
   "outputs": [],
   "source": [
    "n0=365 #Initialisaion sample\n",
    "M=10**5 #number of particles\n",
    "n_pred=48  #number of predictions\n",
    "N_daytype=8  #number of day types\n",
    "burnin_halfhour=1000  #burnin period in 30min interval [OPTION C]\n",
    "burnin_days=28 #burnin period in # of days  [OPTION C]"
   ]
  },
  {
   "cell_type": "code",
   "execution_count": 167,
   "metadata": {
    "collapsed": true
   },
   "outputs": [],
   "source": [
    "#Define functions for filtering and regularization of weigths for Particle Fitler algo 3.10\n",
    "\n",
    "def ESS(w,n):\n",
    "    return(1/(sum(w[n,:])**2))\n",
    "\n",
    "def resid_resample(x_h,w_h):  #algorithm 3.5\n",
    "    R=sum((M*w_h).astype(int))\n",
    "    if R>M:\n",
    "        return(print(\"weights are too heavy\"))\n",
    "    z=np.zeros(M)\n",
    "    z[:R-1]=x_h[:R-1]\n",
    "    w_=(M*w_h-(M*w_h).astype(int))/(M-R-1)\n",
    "    z[R:]=sum(w_)\n",
    "    return(z)\n",
    "\n",
    "def regul(x,w):  #algorithm 3.6\n",
    "    eps=sp.ndimage.filters.gaussian_filter(x,sigma=1)  #assume gaussian kernel\n",
    "    h=0.2 #bandwidth\n",
    "    z=x+h*(np.cov(x)**0.5)*eps\n",
    "    return(z)"
   ]
  },
  {
   "cell_type": "code",
   "execution_count": 169,
   "metadata": {},
   "outputs": [],
   "source": [
    "#test the functions on random sample\n",
    "#resid_resample(npr.normal(size=10),np.repeat(0.1,10))"
   ]
  },
  {
   "cell_type": "code",
   "execution_count": 170,
   "metadata": {},
   "outputs": [
    {
     "data": {
      "text/plain": [
       "array([ 0.93790022, -0.78730451,  1.28329058,  0.06209061,  0.33763455,\n",
       "       -0.60697099, -0.60856295,  0.91834746,  0.0672867 ,  1.36143272])"
      ]
     },
     "execution_count": 170,
     "metadata": {},
     "output_type": "execute_result"
    }
   ],
   "source": [
    "regul(npr.normal(size=10),np.repeat(0.1,10))"
   ]
  },
  {
   "cell_type": "markdown",
   "metadata": {},
   "source": [
    "### Simulate temperatures for T_heat"
   ]
  },
  {
   "cell_type": "code",
   "execution_count": 171,
   "metadata": {},
   "outputs": [
    {
     "data": {
      "image/png": "[encoded data removed]",
      "text/plain": [
       "<matplotlib.figure.Figure at 0x118ae95f8>"
      ]
     },
     "metadata": {},
     "output_type": "display_data"
    }
   ],
   "source": [
    "temp_month=np.array([6,7.3,12.2,15.9,19.8,22.9,24.8,24.3,21.3,15.7,10.1,6.7])  #monthly max temp in Paris\n",
    "month=['jan','fev','mar','av','may','juin','juil','aou','sep','oct','nov','dec']\n",
    "days_month=np.array([31,29,31,30,31,30,31,31,30,31,30,31])\n",
    "i=0\n",
    "temp_={}\n",
    "for m in month:\n",
    "    temp_[m]=np.repeat(temp_month[i],days_month[i])\n",
    "    i=i+1\n",
    "temp_month_mean=np.ones(0)\n",
    "for m in month:\n",
    "    temp_month_mean=np.concatenate((temp_month_mean,temp_[m]),axis=0)\n",
    "\n",
    "plt.plot(range(1,13),temp_month)\n",
    "plt.title('Monthly Temperatures')\n",
    "plt.show()"
   ]
  },
  {
   "cell_type": "code",
   "execution_count": 174,
   "metadata": {},
   "outputs": [
    {
     "data": {
      "text/plain": [
       "(366,)"
      ]
     },
     "execution_count": 174,
     "metadata": {},
     "output_type": "execute_result"
    }
   ],
   "source": [
    "T_h=np.copy(temp_month_mean)\n",
    "T_h.shape"
   ]
  },
  {
   "cell_type": "markdown",
   "metadata": {},
   "source": [
    "### Load the data"
   ]
  },
  {
   "cell_type": "code",
   "execution_count": 6,
   "metadata": {
    "collapsed": true
   },
   "outputs": [],
   "source": [
    "path_AG=\"/Users/antoinegrelety/Documents/smc_electricity_forecast/data/\"\n",
    "df=pd.read_csv(path_AG+\"cdc_conso_daytypes.csv\",sep=\",\",encoding='latin-1')\n",
    "df.index=range(0,len(df))"
   ]
  },
  {
   "cell_type": "code",
   "execution_count": 7,
   "metadata": {},
   "outputs": [
    {
     "data": {
      "text/html": [
       "<div>\n",
       "<style>\n",
       "    .dataframe thead tr:only-child th {\n",
       "        text-align: right;\n",
       "    }\n",
       "\n",
       "    .dataframe thead th {\n",
       "        text-align: left;\n",
       "    }\n",
       "\n",
       "    .dataframe tbody tr th {\n",
       "        vertical-align: top;\n",
       "    }\n",
       "</style>\n",
       "<table border=\"1\" class=\"dataframe\">\n",
       "  <thead>\n",
       "    <tr style=\"text-align: right;\">\n",
       "      <th></th>\n",
       "      <th>Unnamed: 0</th>\n",
       "      <th>Date - Heure</th>\n",
       "      <th>Date</th>\n",
       "      <th>Heure</th>\n",
       "      <th>Consommation (MW)</th>\n",
       "      <th>Qualite donnee</th>\n",
       "      <th>daytype0</th>\n",
       "      <th>daytype1</th>\n",
       "      <th>daytype2</th>\n",
       "      <th>daytype3</th>\n",
       "      <th>daytype4</th>\n",
       "      <th>daytype6</th>\n",
       "      <th>daytype5</th>\n",
       "      <th>daytype7</th>\n",
       "      <th>daytype8</th>\n",
       "    </tr>\n",
       "  </thead>\n",
       "  <tbody>\n",
       "    <tr>\n",
       "      <th>0</th>\n",
       "      <td>0</td>\n",
       "      <td>2009-06-06T06:00:00+02:00</td>\n",
       "      <td>2009-06-06</td>\n",
       "      <td>06:00</td>\n",
       "      <td>35984</td>\n",
       "      <td>Définitive</td>\n",
       "      <td>False</td>\n",
       "      <td>False</td>\n",
       "      <td>True</td>\n",
       "      <td>False</td>\n",
       "      <td>False</td>\n",
       "      <td>False</td>\n",
       "      <td>False</td>\n",
       "      <td>False</td>\n",
       "      <td>False</td>\n",
       "    </tr>\n",
       "    <tr>\n",
       "      <th>1</th>\n",
       "      <td>1</td>\n",
       "      <td>2009-06-06T09:00:00+02:00</td>\n",
       "      <td>2009-06-06</td>\n",
       "      <td>09:00</td>\n",
       "      <td>43188</td>\n",
       "      <td>Définitive</td>\n",
       "      <td>False</td>\n",
       "      <td>False</td>\n",
       "      <td>True</td>\n",
       "      <td>False</td>\n",
       "      <td>False</td>\n",
       "      <td>False</td>\n",
       "      <td>False</td>\n",
       "      <td>False</td>\n",
       "      <td>False</td>\n",
       "    </tr>\n",
       "    <tr>\n",
       "      <th>2</th>\n",
       "      <td>2</td>\n",
       "      <td>2009-06-06T11:30:00+02:00</td>\n",
       "      <td>2009-06-06</td>\n",
       "      <td>11:30</td>\n",
       "      <td>46959</td>\n",
       "      <td>Définitive</td>\n",
       "      <td>False</td>\n",
       "      <td>False</td>\n",
       "      <td>True</td>\n",
       "      <td>False</td>\n",
       "      <td>False</td>\n",
       "      <td>False</td>\n",
       "      <td>False</td>\n",
       "      <td>False</td>\n",
       "      <td>False</td>\n",
       "    </tr>\n",
       "    <tr>\n",
       "      <th>3</th>\n",
       "      <td>3</td>\n",
       "      <td>2009-06-06T12:30:00+02:00</td>\n",
       "      <td>2009-06-06</td>\n",
       "      <td>12:30</td>\n",
       "      <td>48622</td>\n",
       "      <td>Définitive</td>\n",
       "      <td>False</td>\n",
       "      <td>False</td>\n",
       "      <td>True</td>\n",
       "      <td>False</td>\n",
       "      <td>False</td>\n",
       "      <td>False</td>\n",
       "      <td>False</td>\n",
       "      <td>False</td>\n",
       "      <td>False</td>\n",
       "    </tr>\n",
       "    <tr>\n",
       "      <th>4</th>\n",
       "      <td>4</td>\n",
       "      <td>2009-06-06T20:30:00+02:00</td>\n",
       "      <td>2009-06-06</td>\n",
       "      <td>20:30</td>\n",
       "      <td>42578</td>\n",
       "      <td>Définitive</td>\n",
       "      <td>False</td>\n",
       "      <td>False</td>\n",
       "      <td>True</td>\n",
       "      <td>False</td>\n",
       "      <td>False</td>\n",
       "      <td>False</td>\n",
       "      <td>False</td>\n",
       "      <td>False</td>\n",
       "      <td>False</td>\n",
       "    </tr>\n",
       "  </tbody>\n",
       "</table>\n",
       "</div>"
      ],
      "text/plain": [
       "   Unnamed: 0               Date - Heure        Date  Heure  \\\n",
       "0           0  2009-06-06T06:00:00+02:00  2009-06-06  06:00   \n",
       "1           1  2009-06-06T09:00:00+02:00  2009-06-06  09:00   \n",
       "2           2  2009-06-06T11:30:00+02:00  2009-06-06  11:30   \n",
       "3           3  2009-06-06T12:30:00+02:00  2009-06-06  12:30   \n",
       "4           4  2009-06-06T20:30:00+02:00  2009-06-06  20:30   \n",
       "\n",
       "   Consommation (MW) Qualite donnee  daytype0  daytype1  daytype2  daytype3  \\\n",
       "0              35984     Définitive     False     False      True     False   \n",
       "1              43188     Définitive     False     False      True     False   \n",
       "2              46959     Définitive     False     False      True     False   \n",
       "3              48622     Définitive     False     False      True     False   \n",
       "4              42578     Définitive     False     False      True     False   \n",
       "\n",
       "   daytype4  daytype6  daytype5  daytype7  daytype8  \n",
       "0     False     False     False     False     False  \n",
       "1     False     False     False     False     False  \n",
       "2     False     False     False     False     False  \n",
       "3     False     False     False     False     False  \n",
       "4     False     False     False     False     False  "
      ]
     },
     "execution_count": 7,
     "metadata": {},
     "output_type": "execute_result"
    }
   ],
   "source": [
    "df.head()"
   ]
  },
  {
   "cell_type": "code",
   "execution_count": 8,
   "metadata": {
    "collapsed": true
   },
   "outputs": [],
   "source": [
    "df=df.sort_values(by=['Date'])\n",
    "df.index=range(0,len(df))\n",
    "#Valeurs intermédiaires à partir de 2017"
   ]
  },
  {
   "cell_type": "code",
   "execution_count": 9,
   "metadata": {
    "collapsed": true
   },
   "outputs": [],
   "source": [
    "#On se concentre d'abord sur une année afin d'initialiser le filtre\n",
    "df=df[(df.Date >'2016-01-01') & (df.Date <'2017-01-01')]"
   ]
  },
  {
   "cell_type": "code",
   "execution_count": 10,
   "metadata": {},
   "outputs": [
    {
     "data": {
      "image/png": "[encoded data removed]",
      "text/plain": [
       "<matplotlib.figure.Figure at 0x11382d470>"
      ]
     },
     "metadata": {},
     "output_type": "display_data"
    }
   ],
   "source": [
    "plt.plot_date(df.Date,df['Consommation (MW)'],fmt='-')\n",
    "plt.show()"
   ]
  },
  {
   "cell_type": "code",
   "execution_count": 11,
   "metadata": {
    "collapsed": true
   },
   "outputs": [],
   "source": [
    "#try a different approach: consider 2pm daily time series\n",
    "df_day=df[df.Heure=='14:00']\n",
    "y_n=df_day['Consommation (MW)']\n",
    "y_n=y_n[:burnin_days]"
   ]
  },
  {
   "cell_type": "code",
   "execution_count": 12,
   "metadata": {
    "collapsed": true
   },
   "outputs": [],
   "source": [
    "#y_n=df['Consommation (MW)']\n",
    "#y_n=y_n[:burning_period]\n",
    "#y_n=y_n.values"
   ]
  },
  {
   "cell_type": "code",
   "execution_count": 13,
   "metadata": {},
   "outputs": [
    {
     "data": {
      "image/png": "[encoded data removed]",
      "text/plain": [
       "<matplotlib.figure.Figure at 0x1192baef0>"
      ]
     },
     "metadata": {},
     "output_type": "display_data"
    }
   ],
   "source": [
    "bins=range(30000,100000,1000)\n",
    "plt.hist(df['Consommation (MW)'],normed=True,bins=bins)\n",
    "plt.show()"
   ]
  },
  {
   "cell_type": "code",
   "execution_count": 14,
   "metadata": {
    "collapsed": true
   },
   "outputs": [],
   "source": [
    "for k in range(0,9):\n",
    "    df['daytype'+str(k)] = df['daytype'+str(k)].apply(lambda x:k if x==True else 0)\n"
   ]
  },
  {
   "cell_type": "markdown",
   "metadata": {},
   "source": [
    "## Implementation of Algorithm 3.10"
   ]
  },
  {
   "cell_type": "markdown",
   "metadata": {},
   "source": [
    "## At time n=0:"
   ]
  },
  {
   "cell_type": "markdown",
   "metadata": {
    "collapsed": true
   },
   "source": [
    "### 1.Definition of MCMC initial model at n=0 - sample $X_0^{j} \\sim \\mu(x_0)$"
   ]
  },
  {
   "cell_type": "markdown",
   "metadata": {},
   "source": [
    "### Option A: Set values by hand"
   ]
  },
  {
   "cell_type": "code",
   "execution_count": 177,
   "metadata": {},
   "outputs": [],
   "source": [
    "#Least interesting approach since x values are invariant with the M particules at time n=0\n",
    "s=10000*np.ones(M)\n",
    "g_h=-10000*np.ones(M)\n",
    "sigma2=10**15*np.ones(M)\n",
    "sigma2_g_star=10**15*np.ones(M)\n",
    "sigma2_s_star=10**15*np.ones(M)\n",
    "k_day=npr.dirichlet(np.ones(N_daytype),1)[0]\n",
    "u_h=14 #mean of N(14,1)"
   ]
  },
  {
   "cell_type": "markdown",
   "metadata": {},
   "source": [
    "### Option B: generate initial parameters based on prior distribution"
   ]
  },
  {
   "cell_type": "code",
   "execution_count": 182,
   "metadata": {},
   "outputs": [
    {
     "name": "stderr",
     "output_type": "stream",
     "text": [
      "/Users/antoinegrelety/anaconda3/lib/python3.6/site-packages/scipy/stats/_continuous_distns.py:2631: RuntimeWarning: divide by zero encountered in true_divide\n",
      "  return 1.0 / sc.gammainccinv(a, q)\n",
      "/Users/antoinegrelety/anaconda3/lib/python3.6/site-packages/scipy/stats/_continuous_distns.py:2631: RuntimeWarning: overflow encountered in true_divide\n",
      "  return 1.0 / sc.gammainccinv(a, q)\n",
      "/Users/antoinegrelety/anaconda3/lib/python3.6/site-packages/scipy/stats/_continuous_distns.py:4838: RuntimeWarning: invalid value encountered in log\n",
      "  self._logdelta = np.log(self._delta)\n"
     ]
    }
   ],
   "source": [
    "sigma2=invgamma.rvs(a=0.01,scale=0.01,size=M)**0.5\n",
    "sigma2_s_star=invgamma.rvs(a=0.01,scale=0.01,size=M)**0.5\n",
    "sigma2_g_star=invgamma.rvs(a=0.01,scale=0.01,size=M)**0.5\n",
    "g_h = stats.truncnorm.rvs(-np.inf,0,loc=0,scale=10**4,size=M)\n",
    "s = stats.truncnorm.rvs(np.inf,0,loc=0,scale=10**4,size=M)\n",
    "\n",
    "u_h=npr.normal(14,1)  #fixed parameter, invariant to time\n",
    "k_day=npr.dirichlet(np.ones(N_daytype),1)[0]"
   ]
  },
  {
   "cell_type": "markdown",
   "metadata": {},
   "source": [
    "#### --> Calculate x and w at initial state based on initial parameters"
   ]
  },
  {
   "cell_type": "code",
   "execution_count": 183,
   "metadata": {},
   "outputs": [],
   "source": [
    "#initialize matrix of x, x_heat, x_season\n",
    "x_season =np.zeros([n_pred+1,M]) \n",
    "x_heat =np.zeros([n_pred+1,M])\n",
    "x =np.zeros([n_pred+1,M])\n",
    "\n",
    "#Calculate x0 and w0 before filtering\n",
    "x_season[0,:]=k_day[daytype]*s\n",
    "if T_h[day]-u_h >0:\n",
    "    x_heat[0,:]=g_h*(T_h[day]-u_h)*1\n",
    "else:\n",
    "    x_heat[0,:]=np.zeros(M)\n",
    "\n",
    "x_0=x_season[0,:]+x_heat[0,:]   #ignore x_cool for now\n",
    "w0=x_0+npr.normal(0,sigma2,size=M)  #compute w_wave = g(y_0 l X_0)"
   ]
  },
  {
   "cell_type": "markdown",
   "metadata": {},
   "source": [
    "### Option C: MCMC using MHA or Gibbs (TBA)"
   ]
  },
  {
   "cell_type": "code",
   "execution_count": 184,
   "metadata": {
    "collapsed": true
   },
   "outputs": [],
   "source": [
    "#TBA"
   ]
  },
  {
   "cell_type": "markdown",
   "metadata": {},
   "source": [
    "### 2.Compute the weights and re-assess the values of X_0 and w_0 based on ESS value\n"
   ]
  },
  {
   "cell_type": "code",
   "execution_count": 185,
   "metadata": {},
   "outputs": [
    {
     "name": "stdout",
     "output_type": "stream",
     "text": [
      "1.0\n"
     ]
    }
   ],
   "source": [
    "w =np.zeros([n_pred+1,M])  #initalize matrix of weights w\n",
    "w0_h=w0_/sum(w0_)   #set w_hat\n",
    "ESS_0=1/(sum(w0_h)**2)  #calculate ESS\n",
    "print(ESS_0)"
   ]
  },
  {
   "cell_type": "code",
   "execution_count": 186,
   "metadata": {
    "collapsed": true
   },
   "outputs": [],
   "source": [
    "if ESS_0 <0.001*M:\n",
    "    x[0,:]=x_0\n",
    "    w[0,:]=np.ones(M)*(1/M)  #reset the weights\n",
    "if (ESS_0>=0.001*M and ESS_0<0.5*M):\n",
    "    x_temp=resid_resample(x_0,w0_h)\n",
    "    w_temp=np.ones(M)*(1/M)\n",
    "    x[0,:]=regul(x_temp,w_temp)\n",
    "    w[0,:]=w_temp\n",
    "if ESS_0>=0.5*M:\n",
    "    x[0,:]=x_0\n",
    "    w[0,:]=w0_"
   ]
  },
  {
   "cell_type": "code",
   "execution_count": 187,
   "metadata": {},
   "outputs": [
    {
     "data": {
      "image/png": "[encoded data removed]",
      "text/plain": [
       "<matplotlib.figure.Figure at 0x118a8ff98>"
      ]
     },
     "metadata": {},
     "output_type": "display_data"
    }
   ],
   "source": [
    "fig=plt.figure(figsize=(15,8))\n",
    "ax=fig.add_subplot(221)\n",
    "ax.hist(x[0,:])\n",
    "plt.title(\"distribution of x at n=0\")\n",
    "ax=fig.add_subplot(222)\n",
    "ax.hist(w[0,:])\n",
    "plt.title(\"distribution of w at n=0\")\n",
    "plt.show()"
   ]
  },
  {
   "cell_type": "markdown",
   "metadata": {
    "collapsed": true
   },
   "source": [
    "## Prediction and Filtering at time n>0"
   ]
  },
  {
   "cell_type": "markdown",
   "metadata": {},
   "source": [
    "### 1. Sample $x^j_n \\mid X^j_{n-1} $ for all j=1...M particles"
   ]
  },
  {
   "cell_type": "code",
   "execution_count": 67,
   "metadata": {
    "collapsed": true
   },
   "outputs": [],
   "source": [
    "\n",
    "\n"
   ]
  },
  {
   "cell_type": "markdown",
   "metadata": {
    "collapsed": true
   },
   "source": [
    "### 2. Compute $w_n^{j}$ ..."
   ]
  },
  {
   "cell_type": "code",
   "execution_count": null,
   "metadata": {
    "collapsed": true
   },
   "outputs": [],
   "source": []
  }
 ],
 "metadata": {
  "kernelspec": {
   "display_name": "Python 3",
   "language": "python",
   "name": "python3"
  },
  "language_info": {
   "codemirror_mode": {
    "name": "ipython",
    "version": 3
   },
   "file_extension": ".py",
   "mimetype": "text/x-python",
   "name": "python",
   "nbconvert_exporter": "python",
   "pygments_lexer": "ipython3",
   "version": "3.6.3"
  }
 },
 "nbformat": 4,
 "nbformat_minor": 2
}
