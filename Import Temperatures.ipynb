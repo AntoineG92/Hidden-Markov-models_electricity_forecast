{
 "cells": [
  {
   "cell_type": "code",
   "execution_count": 46,
   "metadata": {},
   "outputs": [
    {
     "name": "stdout",
     "output_type": "stream",
     "text": [
      "synop.201609.csv.gz.cpgz\n",
      "synop.201605.csv.gz.cpgz\n",
      "synop.201610.csv.gz.cpgz\n",
      "synop.201606.csv.gz.cpgz\n",
      "synop.201603.csv.gz.cpgz\n",
      "synop.201611.csv.gz.cpgz\n",
      "synop.201604.csv.gz.cpgz\n",
      "synop.201601.csv.gz.cpgz\n",
      "synop.201608.csv.gz.cpgz\n",
      "synop.201602.csv.gz.cpgz\n",
      "synop.201607.csv.gz.cpgz\n",
      "synop.201612.csv.gz.cpgz\n"
     ]
    },
    {
     "data": {
      "text/html": [
       "<div>\n",
       "<style>\n",
       "    .dataframe thead tr:only-child th {\n",
       "        text-align: right;\n",
       "    }\n",
       "\n",
       "    .dataframe thead th {\n",
       "        text-align: left;\n",
       "    }\n",
       "\n",
       "    .dataframe tbody tr th {\n",
       "        vertical-align: top;\n",
       "    }\n",
       "</style>\n",
       "<table border=\"1\" class=\"dataframe\">\n",
       "  <thead>\n",
       "    <tr style=\"text-align: right;\">\n",
       "      <th></th>\n",
       "      <th>date</th>\n",
       "      <th>t</th>\n",
       "      <th>hour</th>\n",
       "    </tr>\n",
       "  </thead>\n",
       "  <tbody>\n",
       "    <tr>\n",
       "      <th>0</th>\n",
       "      <td>2016-09-01</td>\n",
       "      <td>18.943103</td>\n",
       "      <td>00:00</td>\n",
       "    </tr>\n",
       "    <tr>\n",
       "      <th>1</th>\n",
       "      <td>2016-09-01</td>\n",
       "      <td>17.033333</td>\n",
       "      <td>03:00</td>\n",
       "    </tr>\n",
       "    <tr>\n",
       "      <th>2</th>\n",
       "      <td>2016-09-01</td>\n",
       "      <td>18.136364</td>\n",
       "      <td>06:00</td>\n",
       "    </tr>\n",
       "    <tr>\n",
       "      <th>3</th>\n",
       "      <td>2016-09-01</td>\n",
       "      <td>21.832759</td>\n",
       "      <td>09:00</td>\n",
       "    </tr>\n",
       "    <tr>\n",
       "      <th>4</th>\n",
       "      <td>2016-09-01</td>\n",
       "      <td>25.161404</td>\n",
       "      <td>12:00</td>\n",
       "    </tr>\n",
       "  </tbody>\n",
       "</table>\n",
       "</div>"
      ],
      "text/plain": [
       "         date          t   hour\n",
       "0  2016-09-01  18.943103  00:00\n",
       "1  2016-09-01  17.033333  03:00\n",
       "2  2016-09-01  18.136364  06:00\n",
       "3  2016-09-01  21.832759  09:00\n",
       "4  2016-09-01  25.161404  12:00"
      ]
     },
     "execution_count": 46,
     "metadata": {},
     "output_type": "execute_result"
    }
   ],
   "source": [
    "import pandas as pd\n",
    "import os\n",
    "import numpy as np\n",
    "import re\n",
    "\n",
    "mypath=\"data/temperatures/\"\n",
    "\n",
    "df=pd.DataFrame()\n",
    "\n",
    "for filename in os.listdir(mypath):\n",
    "    print(filename)\n",
    "    df_temp = pd.read_csv(mypath+filename,compression='gzip', sep = ';')\n",
    "    df_temp.rename(columns={df_temp.columns[0]:'numer_sta'},inplace=True)\n",
    "    #keep only relevant columns\n",
    "    df_temp=df_temp[['numer_sta','t','date']]\n",
    "    #Convert temperature from Kelvin to Celsius degrees :\n",
    "    df_temp.loc[df_temp.t == 'mq','t'] = np.nan\n",
    "    df_temp.t = pd.to_numeric(df_temp.t)- 273.15\n",
    "    #drop date values that are not in the right format and convert to date format\n",
    "    df_temp['date']=df_temp['date'].apply(\n",
    "        lambda x: \n",
    "        x if re.match('[0-9][0-9][0-9][0-9][0-9][0-9][0-9][0-9][0-9][0-9][0-9][0-9][0-9][0-9]',str(x)) else np.nan)\n",
    "    df_temp.date = pd.to_datetime(df_temp.date, format='%Y%m%d%H%M%S')\n",
    "    #keep only stations in France Metropolitaine\n",
    "    list_outremer_corse = [71805, 81408, 81415, 81405, 81401, 78894, 78890, 78897, 78922, 78925, 89642, \n",
    "                 61998, 61996, 61997, 61980, 61976, 61968, 67005, 61970, 61972,7790,7761]\n",
    "    df_temp=df_temp[df_temp.numer_sta.isin(list_outremer_corse)==False]\n",
    "    #aggregate temperatures by date, apply mean\n",
    "    grouped_temp =  df_temp.groupby('date').t.mean()\n",
    "    df_temp = pd.DataFrame(grouped_temp).reset_index()\n",
    "    #Add a column giving the hour\n",
    "    df_temp['hour'] = df_temp.date.apply(lambda u: u.strftime('%H:%M'))\n",
    "    df_temp['date'] = df_temp.date.apply(lambda u: u.date())\n",
    "    df=pd.concat([df,df_temp])\n",
    "    #Pivot to get the same dataframe shape as electricity\n",
    "    #df_temp.pivot(index='date',columns='hour', values='t')\n",
    "    #df_temp['date'] = df_temp.index\n",
    "    #df_temp = df_temp.reset_index(drop=True)\n",
    "\n",
    "df.head()"
   ]
  },
  {
   "cell_type": "code",
   "execution_count": 48,
   "metadata": {},
   "outputs": [],
   "source": [
    "df.to_csv('data/temp_2016.csv',sep=',')"
   ]
  },
  {
   "cell_type": "code",
   "execution_count": null,
   "metadata": {
    "collapsed": true
   },
   "outputs": [],
   "source": []
  },
  {
   "cell_type": "code",
   "execution_count": null,
   "metadata": {
    "collapsed": true
   },
   "outputs": [],
   "source": []
  }
 ],
 "metadata": {
  "kernelspec": {
   "display_name": "Python 3",
   "language": "python",
   "name": "python3"
  },
  "language_info": {
   "codemirror_mode": {
    "name": "ipython",
    "version": 3
   },
   "file_extension": ".py",
   "mimetype": "text/x-python",
   "name": "python",
   "nbconvert_exporter": "python",
   "pygments_lexer": "ipython3",
   "version": "3.6.3"
  }
 },
 "nbformat": 4,
 "nbformat_minor": 2
}
