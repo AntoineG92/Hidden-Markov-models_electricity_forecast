{
 "cells": [
  {
   "cell_type": "markdown",
   "metadata": {},
   "source": [
    "# On particle filters applied to electricity load forecasting"
   ]
  },
  {
   "cell_type": "markdown",
   "metadata": {},
   "source": [
    "PyMC tuto\n",
    "\n",
    "https://pymc-devs.github.io/pymc/tutorial.html#fitting-the-model-with-mcmc\n",
    "\n",
    "http://sdsawtelle.github.io/blog/output/mcmc-in-python-with-pymc.html\n",
    "    "
   ]
  },
  {
   "cell_type": "markdown",
   "metadata": {},
   "source": [
    "NC Email:\n",
    "\n",
    "Voilà quelques pistes que vous pouvez suivre:\n",
    "* commencer par implémenter un bootstrap filter pour le modèle proposé, et des valeurs des paramètres choisis à la main ﴾en fonction des valeurs reportées dans l'article par exemple﴿ et des données que vous pouvez simuler. Déterminer à quel point l'algorithme marche bien:\n",
    "+ graphe de l'ESS en fonction du temps; voir si effectivement certains outliers font fortement chuter l'ESS. Essayer la méthode proposée pour gérer ses outliers.\n",
    "+ intervalles de confiance pour l'estimation de E[X_t|Y_{0:t}], basé sur plusieurs exécutions, par exemple.\n",
    "\n",
    "Deuxième étape: estimation des paramètres. Vous pouvez essayer une des trois approches suivantes, triées par ordre de difficulté:\n",
    "1. maximisation de la vraisemblance ﴾estimée par votre filtre particulaire pour un theta donné﴿, en utilisant une méthode de maximisation pour fonction bruitée ﴾par ex Robbins‐Monroe﴿.\n",
    "2. PMMH, voir le prochain cours. Principale difficulté: l'algorithme peut prendre du temps, et ne pas être très facile à calibrer, mais je vais en parler en cours.\n",
    "3. Particle Gibbs: c'est peut‐être un peu compliqué pour ce modèle, mais si vous arrivez, gros bonus!"
   ]
  },
  {
   "cell_type": "markdown",
   "metadata": {},
   "source": [
    "3 PROBLEMES\n",
    "* ESS toujours au max à chaque itération --> sigma2 = 10e141 écrase (consumption - x_pred)\n",
    "* valeurs négatives de x\n",
    "* x_season est négligeable devant x_heat\n"
   ]
  },
  {
   "cell_type": "code",
   "execution_count": 1,
   "metadata": {
    "collapsed": true
   },
   "outputs": [],
   "source": [
    "import pandas as pd\n",
    "import numpy as np\n",
    "import numpy.random as npr\n",
    "import matplotlib as mtp\n",
    "import matplotlib.pyplot as plt\n",
    "import scipy as sp\n",
    "from scipy.stats import truncnorm\n",
    "import scipy.stats as stats\n",
    "from scipy.stats import invgamma\n",
    "from scipy import ndimage"
   ]
  },
  {
   "cell_type": "markdown",
   "metadata": {},
   "source": [
    "### Parameters"
   ]
  },
  {
   "cell_type": "code",
   "execution_count": 48,
   "metadata": {
    "collapsed": true
   },
   "outputs": [],
   "source": [
    "M=10**4 #number of particles\n",
    "n_pred=48  #number of predictions\n",
    "N_daytype=8  #number of day types"
   ]
  },
  {
   "cell_type": "code",
   "execution_count": 75,
   "metadata": {
    "collapsed": true
   },
   "outputs": [],
   "source": [
    "#Define functions for filtering and regularization of weigths for Particle Fitler algo 3.10\n",
    "\n",
    "def ESS(w,n):\n",
    "    return(1/(sum(w[n,:])**2))\n",
    "\n",
    "def resid_resample(x_h,w_h):  #algorithm 3.5 - Residual Multinomial Sampling\n",
    "    #R=sum(np.floor(M*w_h))  #number of (normalized) weights over 1/M\n",
    "    R=len(w_h[w_h>1/M])\n",
    "    print(\"R=\",R)\n",
    "    z=np.zeros(M)\n",
    "    #z[:R-1]=x_h[:R-1]\n",
    "    z[:R]=x_h[w_h>1/M]  #Copy the R particles having weight >1/M\n",
    "    w_=np.ones(M)\n",
    "    for j in range(M):\n",
    "        w_[j]=(M*w_h[j]-np.floor(M*w_h[j]))/(M-R)\n",
    "    print(\"w_:\",w_)\n",
    "    z[R:]=np.random.multinomial(1,w_[R:],1)*w_[R:]\n",
    "    w=np.ones(M)*(1/M)\n",
    "    return z, w\n",
    "\n",
    "def regul(x,w):  #algorithm 3.6\n",
    "    eps=sp.ndimage.filters.gaussian_filter(x,sigma=1)  #assume gaussian kernel\n",
    "    h=0.2 #bandwidth\n",
    "    z=x+h*(np.cov(x)**0.5)*eps\n",
    "    return(z)"
   ]
  },
  {
   "cell_type": "code",
   "execution_count": 5,
   "metadata": {},
   "outputs": [
    {
     "name": "stdout",
     "output_type": "stream",
     "text": [
      "R= 7.0\n",
      "w_: [ 0.0159879   0.06046857  0.21358683  0.06269248  0.06383073  0.14574677\n",
      "  0.27535135  0.13235386  0.01118209  0.00861518]\n",
      "[ 2.25074427  1.61645655  1.15057606  1.27556356  1.93147651  1.70185933\n",
      "  0.30205804  0.13235386  0.          0.        ]\n",
      "[ 0.1  0.1  0.1  0.1  0.1  0.1  0.1  0.1  0.1  0.1]\n"
     ]
    },
    {
     "name": "stderr",
     "output_type": "stream",
     "text": [
      "/Users/antoinegrelety/anaconda3/lib/python3.6/site-packages/ipykernel_launcher.py:17: VisibleDeprecationWarning: using a non-integer number instead of an integer will result in an error in the future\n",
      "/Users/antoinegrelety/anaconda3/lib/python3.6/site-packages/ipykernel_launcher.py:22: VisibleDeprecationWarning: using a non-integer number instead of an integer will result in an error in the future\n"
     ]
    }
   ],
   "source": [
    "#test the functions on random sample\n",
    "M=10\n",
    "x_temp=abs(npr.normal(size=10))\n",
    "w_temp=np.repeat(0.1,10)*npr.uniform(0.1,1.5,size=10)\n",
    "#print(w_temp)\n",
    "xtest,wtest=resid_resample(x_temp,w_temp)\n",
    "print(xtest)\n",
    "print(wtest)\n",
    "M=10**5"
   ]
  },
  {
   "cell_type": "code",
   "execution_count": 6,
   "metadata": {},
   "outputs": [
    {
     "data": {
      "text/plain": [
       "array([ 1.67835952, -0.49256673,  0.18780915, -1.67773688, -0.1797055 ,\n",
       "        1.42578154, -0.28216233,  0.36459449, -1.99712357,  1.00452261])"
      ]
     },
     "execution_count": 6,
     "metadata": {},
     "output_type": "execute_result"
    }
   ],
   "source": [
    "regul(npr.normal(size=10),np.repeat(0.1,10))"
   ]
  },
  {
   "cell_type": "markdown",
   "metadata": {},
   "source": [
    "### Load temperatures data"
   ]
  },
  {
   "cell_type": "code",
   "execution_count": 4,
   "metadata": {},
   "outputs": [
    {
     "data": {
      "text/html": [
       "<div>\n",
       "<style>\n",
       "    .dataframe thead tr:only-child th {\n",
       "        text-align: right;\n",
       "    }\n",
       "\n",
       "    .dataframe thead th {\n",
       "        text-align: left;\n",
       "    }\n",
       "\n",
       "    .dataframe tbody tr th {\n",
       "        vertical-align: top;\n",
       "    }\n",
       "</style>\n",
       "<table border=\"1\" class=\"dataframe\">\n",
       "  <thead>\n",
       "    <tr style=\"text-align: right;\">\n",
       "      <th></th>\n",
       "      <th>date</th>\n",
       "      <th>t</th>\n",
       "      <th>hour</th>\n",
       "    </tr>\n",
       "  </thead>\n",
       "  <tbody>\n",
       "    <tr>\n",
       "      <th>1707</th>\n",
       "      <td>2016-01-01</td>\n",
       "      <td>9.044444</td>\n",
       "      <td>09:00</td>\n",
       "    </tr>\n",
       "    <tr>\n",
       "      <th>1710</th>\n",
       "      <td>2016-01-01</td>\n",
       "      <td>11.005556</td>\n",
       "      <td>18:00</td>\n",
       "    </tr>\n",
       "    <tr>\n",
       "      <th>1709</th>\n",
       "      <td>2016-01-01</td>\n",
       "      <td>11.437736</td>\n",
       "      <td>15:00</td>\n",
       "    </tr>\n",
       "    <tr>\n",
       "      <th>1708</th>\n",
       "      <td>2016-01-01</td>\n",
       "      <td>11.196296</td>\n",
       "      <td>12:00</td>\n",
       "    </tr>\n",
       "    <tr>\n",
       "      <th>1711</th>\n",
       "      <td>2016-01-01</td>\n",
       "      <td>10.683333</td>\n",
       "      <td>21:00</td>\n",
       "    </tr>\n",
       "  </tbody>\n",
       "</table>\n",
       "</div>"
      ],
      "text/plain": [
       "            date          t   hour\n",
       "1707  2016-01-01   9.044444  09:00\n",
       "1710  2016-01-01  11.005556  18:00\n",
       "1709  2016-01-01  11.437736  15:00\n",
       "1708  2016-01-01  11.196296  12:00\n",
       "1711  2016-01-01  10.683333  21:00"
      ]
     },
     "execution_count": 4,
     "metadata": {},
     "output_type": "execute_result"
    }
   ],
   "source": [
    "df_temp=pd.read_csv('data/temp_2016.csv',sep=',')\n",
    "df_temp=df_temp.drop(df_temp.columns[0],axis=1)\n",
    "df_temp=df_temp.sort_values(by='date')\n",
    "df_temp.head()"
   ]
  },
  {
   "cell_type": "code",
   "execution_count": 5,
   "metadata": {
    "collapsed": true
   },
   "outputs": [],
   "source": [
    "#temperatures every day at 3pm\n",
    "temp_day=df_temp[df_temp.hour==\"15:00\"]\n",
    "temp_day.head()\n",
    "#Array vector of temperatures for each day of the year\n",
    "T_h=list(temp_day.t)"
   ]
  },
  {
   "cell_type": "markdown",
   "metadata": {},
   "source": [
    "### Load electricity data"
   ]
  },
  {
   "cell_type": "code",
   "execution_count": 619,
   "metadata": {},
   "outputs": [
    {
     "data": {
      "text/html": [
       "<div>\n",
       "<style>\n",
       "    .dataframe thead tr:only-child th {\n",
       "        text-align: right;\n",
       "    }\n",
       "\n",
       "    .dataframe thead th {\n",
       "        text-align: left;\n",
       "    }\n",
       "\n",
       "    .dataframe tbody tr th {\n",
       "        vertical-align: top;\n",
       "    }\n",
       "</style>\n",
       "<table border=\"1\" class=\"dataframe\">\n",
       "  <thead>\n",
       "    <tr style=\"text-align: right;\">\n",
       "      <th></th>\n",
       "      <th>Date - Heure</th>\n",
       "      <th>Date</th>\n",
       "      <th>Heure</th>\n",
       "      <th>Consommation (MW)</th>\n",
       "      <th>Qualite donnee</th>\n",
       "      <th>daytype</th>\n",
       "    </tr>\n",
       "  </thead>\n",
       "  <tbody>\n",
       "    <tr>\n",
       "      <th>149461</th>\n",
       "      <td>2016-01-02 08:00:00</td>\n",
       "      <td>2016-01-02</td>\n",
       "      <td>09:00</td>\n",
       "      <td>52975</td>\n",
       "      <td>DÃ©finitive</td>\n",
       "      <td>8</td>\n",
       "    </tr>\n",
       "    <tr>\n",
       "      <th>149460</th>\n",
       "      <td>2016-01-02 06:00:00</td>\n",
       "      <td>2016-01-02</td>\n",
       "      <td>07:00</td>\n",
       "      <td>49417</td>\n",
       "      <td>DÃ©finitive</td>\n",
       "      <td>8</td>\n",
       "    </tr>\n",
       "    <tr>\n",
       "      <th>149462</th>\n",
       "      <td>2016-01-02 09:00:00</td>\n",
       "      <td>2016-01-02</td>\n",
       "      <td>10:00</td>\n",
       "      <td>55737</td>\n",
       "      <td>DÃ©finitive</td>\n",
       "      <td>8</td>\n",
       "    </tr>\n",
       "    <tr>\n",
       "      <th>149463</th>\n",
       "      <td>2016-01-02 10:00:00</td>\n",
       "      <td>2016-01-02</td>\n",
       "      <td>11:00</td>\n",
       "      <td>57237</td>\n",
       "      <td>DÃ©finitive</td>\n",
       "      <td>8</td>\n",
       "    </tr>\n",
       "    <tr>\n",
       "      <th>149464</th>\n",
       "      <td>2016-01-02 12:00:00</td>\n",
       "      <td>2016-01-02</td>\n",
       "      <td>13:00</td>\n",
       "      <td>61223</td>\n",
       "      <td>DÃ©finitive</td>\n",
       "      <td>8</td>\n",
       "    </tr>\n",
       "  </tbody>\n",
       "</table>\n",
       "</div>"
      ],
      "text/plain": [
       "              Date - Heure        Date  Heure  Consommation (MW)  \\\n",
       "149461 2016-01-02 08:00:00  2016-01-02  09:00              52975   \n",
       "149460 2016-01-02 06:00:00  2016-01-02  07:00              49417   \n",
       "149462 2016-01-02 09:00:00  2016-01-02  10:00              55737   \n",
       "149463 2016-01-02 10:00:00  2016-01-02  11:00              57237   \n",
       "149464 2016-01-02 12:00:00  2016-01-02  13:00              61223   \n",
       "\n",
       "       Qualite donnee  daytype  \n",
       "149461    DÃ©finitive        8  \n",
       "149460    DÃ©finitive        8  \n",
       "149462    DÃ©finitive        8  \n",
       "149463    DÃ©finitive        8  \n",
       "149464    DÃ©finitive        8  "
      ]
     },
     "execution_count": 619,
     "metadata": {},
     "output_type": "execute_result"
    }
   ],
   "source": [
    "mypath=\"data/\"\n",
    "df=pd.read_csv(mypath+\"cdc_conso_daytypes.csv\",sep=\",\",encoding='latin-1')\n",
    "df=df.drop([\"daytype\"+str(i) for i in range(0,9)],axis=1)\n",
    "df=df.drop(df.columns[0],axis=1)\n",
    "df.index=range(0,len(df))\n",
    "df=df.sort_values(by=['Date'])\n",
    "df['Date - Heure']=pd.to_datetime(df['Date - Heure'])\n",
    "df.sort_values(by=[\"Date - Heure\"])\n",
    "df=df[(df.Date >'2016-01-01') & (df.Date <'2017-01-01')]\n",
    "df.head()"
   ]
  },
  {
   "cell_type": "code",
   "execution_count": 575,
   "metadata": {},
   "outputs": [
    {
     "data": {
      "image/png": "[encoded data removed]",
      "text/plain": [
       "<matplotlib.figure.Figure at 0x12c153518>"
      ]
     },
     "metadata": {},
     "output_type": "display_data"
    }
   ],
   "source": [
    "plt.plot_date(df.Date,df['Consommation (MW)'],fmt='-')\n",
    "plt.show()"
   ]
  },
  {
   "cell_type": "code",
   "execution_count": 228,
   "metadata": {},
   "outputs": [
    {
     "data": {
      "image/png": "[encoded data removed]",
      "text/plain": [
       "<matplotlib.figure.Figure at 0x1227aa630>"
      ]
     },
     "metadata": {},
     "output_type": "display_data"
    }
   ],
   "source": [
    "bins=range(30000,100000,1000)\n",
    "plt.hist(df['Consommation (MW)'],normed=True,bins=bins)\n",
    "plt.show()"
   ]
  },
  {
   "cell_type": "markdown",
   "metadata": {},
   "source": [
    "### Set variables of electricity demand for partile "
   ]
  },
  {
   "cell_type": "code",
   "execution_count": 597,
   "metadata": {},
   "outputs": [],
   "source": [
    "from datetime import date\n",
    "df['Consommation']=df['Consommation (MW)']   #leave it in MW\n",
    "#For prediction, every day at 3pm\n",
    "consumption_day_ahead = list(df[df['Heure']=='15:00']['Consommation'])\n",
    "#for initialization\n",
    "consumption = list(df[df['Heure']=='15:00']['Consommation'][:30])\n",
    "temperature_ts = T_h[:30] #france mean temp in jan 2016\n",
    "daytype_ts = list(df[df['Heure']=='15:00']['daytype'][:30])"
   ]
  },
  {
   "cell_type": "markdown",
   "metadata": {},
   "source": [
    "## Implementation of Algorithm 3.10"
   ]
  },
  {
   "cell_type": "markdown",
   "metadata": {},
   "source": [
    "## At time n=0:"
   ]
  },
  {
   "cell_type": "markdown",
   "metadata": {
    "collapsed": true
   },
   "source": [
    "### 1.Definition of MCMC initial model at n=0 - sample $X_0^{j} \\sim \\mu(x_0)$"
   ]
  },
  {
   "cell_type": "markdown",
   "metadata": {},
   "source": [
    "### Option A: Set values by hand"
   ]
  },
  {
   "cell_type": "code",
   "execution_count": 220,
   "metadata": {},
   "outputs": [
    {
     "name": "stderr",
     "output_type": "stream",
     "text": [
      "/Users/antoinegrelety/anaconda3/lib/python3.6/site-packages/scipy/stats/_continuous_distns.py:4838: RuntimeWarning: invalid value encountered in log\n",
      "  self._logdelta = np.log(self._delta)\n"
     ]
    }
   ],
   "source": [
    "#Add a bit of noise with uniform random\n",
    "#s=8000*np.ones(M)*npr.uniform(0.5,1.5,size=M)\n",
    "#sigma2_g_star=(10**5)*npr.uniform(0.5,1.5,size=M)\n",
    "#sigma2_s_star=(10**5)*npr.uniform(0.5,1.5,size=M)\n",
    "sigma_g_init=1.27*10**(8/2)\n",
    "sigma_s_init=(2*7.9)*10**3\n",
    "u_h=14 #mean of N(14,1)\n",
    "kappa=np.array([1/9]*9)\n",
    "sigma2=2.7*10**7\n",
    "g_heat_init = stats.truncnorm.rvs(-np.inf,0,loc=0,scale=10**4,size=M)\n",
    "s_init = stats.truncnorm.rvs(np.inf,0,loc=0,scale=10**4,size=M)\n",
    "sigma_s_star_2_evol=7.9*10**7\n",
    "sigma_g_star_2_evol=1.27*10**8\n",
    "\n",
    "x_init=x_season(df.daytype[15],kappa,s_init,sigma_s_init)[0]+x_heat(g_heat_init,15,sigma_g_init)[0]\n",
    "w_init= np.exp(-(np.square(consumption[15]-x_init))/(2*sigma2))"
   ]
  },
  {
   "cell_type": "code",
   "execution_count": 221,
   "metadata": {},
   "outputs": [
    {
     "data": {
      "text/plain": [
       "array([ 11207.26366299, -12211.21377574,  41578.28481568,  21288.25209163,\n",
       "        17534.93102177,  18438.30767951,   -255.3084417 ,  16757.83731906,\n",
       "         2232.63649792,   -585.02155657])"
      ]
     },
     "execution_count": 221,
     "metadata": {},
     "output_type": "execute_result"
    }
   ],
   "source": [
    "x_init[:10]"
   ]
  },
  {
   "cell_type": "code",
   "execution_count": 222,
   "metadata": {},
   "outputs": [
    {
     "name": "stdout",
     "output_type": "stream",
     "text": [
      "[ 1843.41800756   786.89542877  2274.19344192  1688.18031182  1343.96757308\n",
      "  2189.02820228  1764.32360492  1236.34429908  1779.03294738  1651.16947868]\n"
     ]
    }
   ],
   "source": [
    "print(x_season(df.daytype[15],kappa,s_init,sigma_s_init)[0][:10])"
   ]
  },
  {
   "cell_type": "code",
   "execution_count": 223,
   "metadata": {},
   "outputs": [
    {
     "name": "stdout",
     "output_type": "stream",
     "text": [
      "[  92127.66621109   69765.71135115  122067.91192941  102363.89233547\n",
      "   98954.78400435   99013.10003289   80744.18850903   98285.31357563\n",
      "   83217.4241062    80527.62952041]\n"
     ]
    }
   ],
   "source": [
    "print(x_heat(g_heat_init,15,sigma_g_init)[0][:10])"
   ]
  },
  {
   "cell_type": "code",
   "execution_count": 61,
   "metadata": {},
   "outputs": [
    {
     "data": {
      "text/plain": [
       "array([ -9.99946914e+27,  -5.42998824e+02,  -1.20368741e+04, ...,\n",
       "        -1.29732429e+04,  -1.61914297e+04,  -1.74323565e+04])"
      ]
     },
     "execution_count": 61,
     "metadata": {},
     "output_type": "execute_result"
    }
   ],
   "source": [
    "g_heat_init"
   ]
  },
  {
   "cell_type": "code",
   "execution_count": 224,
   "metadata": {},
   "outputs": [
    {
     "name": "stdout",
     "output_type": "stream",
     "text": [
      "95753.0\n",
      "6844\n"
     ]
    }
   ],
   "source": [
    "#Compute w_init\n",
    "w_init = np.exp(-(np.square(consumption[15]-x_init))/(2*sigma2))\n",
    "#print(w_init[:100])\n",
    "sum(w_init)/M\n",
    "sum(np.floor(w_init*M))\n",
    "w_norm=w_init/np.sum(w_init)\n",
    "print(sum(np.floor(M*w_norm)))\n",
    "print(len(w_norm[w_norm>1/M]))"
   ]
  },
  {
   "cell_type": "code",
   "execution_count": 225,
   "metadata": {},
   "outputs": [
    {
     "data": {
      "text/plain": [
       "0.032082923777483889"
      ]
     },
     "execution_count": 225,
     "metadata": {},
     "output_type": "execute_result"
    }
   ],
   "source": [
    "np.mean(w_init)"
   ]
  },
  {
   "cell_type": "code",
   "execution_count": 226,
   "metadata": {},
   "outputs": [
    {
     "data": {
      "text/plain": [
       "array([  1.52552272e-22,   3.11302950e-47,   1.16201261e-03,\n",
       "         1.24695734e-14,   2.19243835e-17,   1.05854323e-16,\n",
       "         1.58689986e-33,   5.52369073e-18,   5.80698854e-31,\n",
       "         7.13452331e-34,   9.27122476e-22,   2.27721400e-19,\n",
       "         2.38308323e-49,   1.50119488e-37,   3.40189102e-23,\n",
       "         9.01061677e-22,   1.76084160e+00,   6.10382893e-51,\n",
       "         3.64980911e-63,   3.88502441e-21,   2.15502111e-62,\n",
       "         1.72578457e-06,   2.89343761e+01,   3.56221365e-69,\n",
       "         5.47743855e-03,   4.94628913e-61,   1.20054452e-20,\n",
       "         1.69905702e+00,   1.63732242e-32,   4.40127160e-72,\n",
       "         1.61238049e-47,   7.19830368e-48,   1.00672345e-05,\n",
       "         4.12948250e-18,   3.08818887e-19,   2.05399393e-64,\n",
       "         7.38463785e-56,   5.34740482e-32,   3.83103647e-15,\n",
       "         1.42696576e-55,   2.65233930e-17,   8.71408852e-64,\n",
       "         9.88550413e-62,   2.64554394e-34,   2.11877342e-27,\n",
       "         4.41729559e-52,   2.17271985e-50,   3.74762243e-69,\n",
       "         5.60958100e-07,   1.10783285e-64,   1.57454887e-62,\n",
       "         1.99003567e-48,   2.86934687e-01,   3.66081587e-06,\n",
       "         1.26849568e-07,   1.83719860e-69,   7.52213866e-27,\n",
       "         5.85566134e-71,   8.40383725e-64,   7.38212250e-21,\n",
       "         1.10879731e-59,   2.87574837e-68,   2.40393505e-69,\n",
       "         7.73989239e-32,   1.18194957e-63,   2.45666383e-46,\n",
       "         5.45946387e-01,   9.15605786e-59,   1.00767641e+01,\n",
       "         1.72234899e-63,   3.66624165e-46,   2.44024218e-47,\n",
       "         2.94181514e+01,   1.64101949e-57,   7.41759618e-65,\n",
       "         2.81919101e+01,   4.10499507e-20,   2.70234272e-54,\n",
       "         8.26952826e-47,   1.23476508e-04,   2.86021309e-28,\n",
       "         7.30492125e-02,   7.40886595e-57,   8.62932304e-65,\n",
       "         5.27516869e-32,   6.24904300e-10,   3.89758949e-04,\n",
       "         2.11198490e+01,   2.29172635e-41,   9.61710373e-07,\n",
       "         1.05682285e-37,   2.08900018e-27,   1.83812302e+00,\n",
       "         4.08179502e-16,   1.76460291e-24,   5.05690552e-09,\n",
       "         4.39124320e+00,   2.32942723e-50,   9.67177690e-34,\n",
       "         1.05048705e-42])"
      ]
     },
     "execution_count": 226,
     "metadata": {},
     "output_type": "execute_result"
    }
   ],
   "source": [
    "M*w_norm[:100]"
   ]
  },
  {
   "cell_type": "code",
   "execution_count": 156,
   "metadata": {},
   "outputs": [
    {
     "data": {
      "text/plain": [
       "65044"
      ]
     },
     "execution_count": 156,
     "metadata": {},
     "output_type": "execute_result"
    }
   ],
   "source": [
    "consumption[15]"
   ]
  },
  {
   "cell_type": "markdown",
   "metadata": {},
   "source": [
    "### Option B: generate initial parameters based on prior distribution"
   ]
  },
  {
   "cell_type": "code",
   "execution_count": null,
   "metadata": {},
   "outputs": [
    {
     "name": "stderr",
     "output_type": "stream",
     "text": [
      "C:\\Users\\Zakarya\\Anaconda3\\lib\\site-packages\\scipy\\stats\\_continuous_distns.py:2631: RuntimeWarning: divide by zero encountered in true_divide\n",
      "  return 1.0 / sc.gammainccinv(a, q)\n",
      "C:\\Users\\Zakarya\\Anaconda3\\lib\\site-packages\\scipy\\stats\\_continuous_distns.py:2631: RuntimeWarning: overflow encountered in true_divide\n",
      "  return 1.0 / sc.gammainccinv(a, q)\n"
     ]
    }
   ],
   "source": [
    "sigma2=invgamma.rvs(a=0.01,scale=0.01,size=M)**0.5\n",
    "sigma2_s_star=invgamma.rvs(a=0.01,scale=0.01,size=M)**0.5\n",
    "sigma2_g_star=invgamma.rvs(a=0.01,scale=0.01,size=M)**0.5\n",
    "sigma2_s=invgamma.rvs(a=0.01,scale=0.01,size=M)**0.5\n",
    "sigma2_g=invgamma.rvs(a=0.01,scale=0.01,size=M)**0.5\n",
    "g_h = stats.truncnorm.rvs(-np.inf,0,loc=0,scale=10**4,size=M)\n",
    "s = stats.truncnorm.rvs(np.inf,0,loc=0,scale=10**4,size=M)\n",
    "\n",
    "\n",
    "u_h=npr.normal(14,1)  #fixed parameter, invariant to time\n",
    "k_day=npr.dirichlet(np.ones(N_daytype),1)[0]"
   ]
  },
  {
   "cell_type": "markdown",
   "metadata": {},
   "source": [
    "#### 1.B. Calculate x and w at initial state based on initial parameters"
   ]
  },
  {
   "cell_type": "code",
   "execution_count": null,
   "metadata": {
    "collapsed": true
   },
   "outputs": [],
   "source": [
    "#initialize matrix of x, x_heat, x_season\n",
    "x_season =np.zeros([n_pred+1,M]) \n",
    "x_heat =np.zeros([n_pred+1,M])\n",
    "x =np.zeros([n_pred+1,M])\n",
    "\n",
    "daytype_init=1\n",
    "day_init=1\n",
    "\n",
    "#Calculate x0 and w0 before filtering\n",
    "x_season[0,:]=k_day[daytype_init]*s\n",
    "if T_h[day_init]-u_h >0:\n",
    "    x_heat[0,:]=g_h*(T_h[day_init]-u_h)*1\n",
    "else:\n",
    "    x_heat[0,:]=np.zeros(M)\n",
    "\n",
    "x_0=x_season[0,:]+x_heat[0,:]   #ignore x_cool for now\n",
    "w0_=x_0+npr.normal(0,sigma2,size=M)  #compute w_wave = g(y_0 l X_0)"
   ]
  },
  {
   "cell_type": "markdown",
   "metadata": {},
   "source": [
    "#### 2.B.Compute the weights and re-assess the values of X_0 and w_0 based on ESS value\n"
   ]
  },
  {
   "cell_type": "code",
   "execution_count": 186,
   "metadata": {
    "collapsed": true
   },
   "outputs": [],
   "source": [
    "import math\n",
    "w =np.zeros([n_pred+1,M])  #initalize matrix of weights w\n",
    "w0_h=w0_/sum(w0_)   #set w_hat\n",
    "ESS_0=1/(sum(w0_h)**2)  #calculate ESS\n",
    "if math.isnan(ESS_0):\n",
    "    ESS_0=1\n",
    "print(ESS_0)\n",
    "if ESS_0 <0.001*M:\n",
    "    x[0,:]=x_0\n",
    "    w[0,:]=np.ones(M)*(1/M)  #reset the weights\n",
    "if (ESS_0>=0.001*M and ESS_0<0.5*M):\n",
    "    x_temp=resid_resample(x_0,w0_h)\n",
    "    w_temp=np.ones(M)*(1/M)\n",
    "    x[0,:]=regul(x_temp,w_temp)\n",
    "    w[0,:]=w_temp\n",
    "if ESS_0>=0.5*M:\n",
    "    x[0,:]=x_0\n",
    "    w[0,:]=w0_"
   ]
  },
  {
   "cell_type": "markdown",
   "metadata": {},
   "source": [
    "### Option C: MCMC using MHA or Gibbs (TBA)"
   ]
  },
  {
   "cell_type": "code",
   "execution_count": 286,
   "metadata": {
    "collapsed": true
   },
   "outputs": [],
   "source": [
    "import numpy as np\n",
    "from scipy.stats import truncnorm, invgamma\n",
    "import math"
   ]
  },
  {
   "cell_type": "markdown",
   "metadata": {},
   "source": [
    "#### Freeze parameters from Zak's simulation in gibbs-parameters_init_v1"
   ]
  },
  {
   "cell_type": "code",
   "execution_count": 620,
   "metadata": {
    "collapsed": true
   },
   "outputs": [],
   "source": [
    "N_daytype=9\n",
    "k_day=npr.dirichlet(np.ones(N_daytype),1)\n",
    "len_init=15\n",
    "#kappa = k_day[0].tolist()"
   ]
  },
  {
   "cell_type": "code",
   "execution_count": 621,
   "metadata": {},
   "outputs": [
    {
     "data": {
      "text/plain": [
       "array([  1.47891903e+63,   7.69395809e+04,   6.65664387e+04,\n",
       "         6.81207363e+04,   7.14502802e+04,   5.07239317e+04,\n",
       "         6.87925901e+04,   6.79254776e+04,   6.64789388e+04,\n",
       "         6.69291468e+04,   7.02870564e+04,   6.72162235e+04,\n",
       "         6.13931229e+04,   6.70012333e+04,   6.97843307e+04,\n",
       "         6.89930685e+04,   6.82153628e+04,   6.36456017e+04,\n",
       "         7.50874631e+04,   7.18940313e+04])"
      ]
     },
     "execution_count": 621,
     "metadata": {},
     "output_type": "execute_result"
    }
   ],
   "source": [
    "#Load pickle file\n",
    "import pickle\n",
    "output_file ='data/parameters_init_20180110-102854.pkl'\n",
    "pkl_file = open(output_file, 'rb')\n",
    "parameters_init = pickle.load(pkl_file)\n",
    "parameters_init[\"x_init\"][:20]"
   ]
  },
  {
   "cell_type": "code",
   "execution_count": 622,
   "metadata": {},
   "outputs": [
    {
     "data": {
      "text/plain": [
       "{'g_heat_init': array([ -9.99946914e+27,  -5.42998824e+02,  -1.20368741e+04, ...,\n",
       "         -1.29732429e+04,  -1.61914297e+04,  -1.74323565e+04]),\n",
       " 'kappa': array([ 0.11111111,  0.11111111,  0.11111111,  0.11111111,  0.11111111,\n",
       "         0.11111111,  0.11111111,  0.11111111,  0.11111111]),\n",
       " 's_init': array([  1.33102713e+64,   6.72597280e+05,   1.58876634e+05, ...,\n",
       "          3.91430788e-08,   3.82795043e-08,   9.78069125e-08]),\n",
       " 'sigma2': 27000000,\n",
       " 'sigma_g_init': 1.7189511907681099e+27,\n",
       " 'sigma_s_init': 6.3306065683604752e-08,\n",
       " 'u_h': 13,\n",
       " 'w_init': array([ 0.        ,  0.25286083,  0.94446275, ...,  0.01100679,\n",
       "         0.88847701,  0.8894034 ]),\n",
       " 'x_init': array([  1.47891903e+63,   7.69395809e+04,   6.65664387e+04, ...,\n",
       "          5.27185416e+04,   6.57960826e+04,   7.08387576e+04])}"
      ]
     },
     "execution_count": 622,
     "metadata": {},
     "output_type": "execute_result"
    }
   ],
   "source": [
    "parameters_init"
   ]
  },
  {
   "cell_type": "code",
   "execution_count": 623,
   "metadata": {},
   "outputs": [
    {
     "data": {
      "text/plain": [
       "10000"
      ]
     },
     "execution_count": 623,
     "metadata": {},
     "output_type": "execute_result"
    }
   ],
   "source": [
    "len(x_init)"
   ]
  },
  {
   "cell_type": "code",
   "execution_count": 624,
   "metadata": {},
   "outputs": [
    {
     "data": {
      "text/plain": [
       "array([  1.33102713e+64,   6.72597280e+05,   1.58876634e+05,\n",
       "         1.18739246e+05,   9.82904490e+04,   8.54230162e+04,\n",
       "         7.64067350e+04,   6.96581133e+04,   6.43746420e+04,\n",
       "         6.01005169e+04,   5.65553245e+04,   5.35560219e+04,\n",
       "         5.09775258e+04,   4.87311797e+04,   4.67522382e+04,\n",
       "         4.49922190e+04,   4.34140299e+04,   4.19887541e+04,\n",
       "         4.06934668e+04,   3.95097165e+04])"
      ]
     },
     "execution_count": 624,
     "metadata": {},
     "output_type": "execute_result"
    }
   ],
   "source": [
    "parameters_init[\"s_init\"][:20]"
   ]
  },
  {
   "cell_type": "code",
   "execution_count": 625,
   "metadata": {},
   "outputs": [
    {
     "data": {
      "text/plain": [
       "array([ -9.99946914e+27,  -5.42998824e+02,  -1.20368741e+04,\n",
       "        -1.35168312e+04,  -1.48953090e+04,  -1.01466967e+04,\n",
       "        -1.48396528e+04,  -1.48107955e+04,  -1.45992888e+04,\n",
       "        -1.48269447e+04,  -1.57502113e+04,  -1.50765346e+04,\n",
       "        -1.37140601e+04,  -1.51555534e+04,  -1.58945417e+04,\n",
       "        -1.57479477e+04,  -1.55997181e+04,  -1.45141394e+04,\n",
       "        -1.73652267e+04,  -1.66117380e+04])"
      ]
     },
     "execution_count": 625,
     "metadata": {},
     "output_type": "execute_result"
    }
   ],
   "source": [
    "parameters_init[\"g_heat_init\"][:20]"
   ]
  },
  {
   "cell_type": "code",
   "execution_count": 626,
   "metadata": {},
   "outputs": [],
   "source": [
    "s_init=parameters_init['s_init']\n",
    "g_heat_init=parameters_init['g_heat_init']\n",
    "sigma_s_init=parameters_init['sigma_s_init']\n",
    "sigma_g_init=parameters_init['sigma_g_init']\n",
    "x_init=parameters_init['x_init']\n",
    "#s_evol=parameters_init['s_evol']\n",
    "#g_heat_evol=parameters_init['g_heat_evol']\n",
    "#sigma_s_star_2_evol=parameters_init['sigma_s_star_2_evol']\n",
    "#sigma_g_star_2_evol=parameters_init['sigma_g_star_2_evol']\n",
    "sigma2=parameters_init['sigma2']\n",
    "u_h=parameters_init['u_h']\n",
    "kappa=parameters_init['kappa']\n",
    "w_init=parameters_init['w_init']"
   ]
  },
  {
   "cell_type": "code",
   "execution_count": 627,
   "metadata": {
    "collapsed": true
   },
   "outputs": [],
   "source": [
    "sigma_g_init=1.27*10**(8/2)\n",
    "sigma_s_init=(2*7.9)*10**3"
   ]
  },
  {
   "cell_type": "code",
   "execution_count": 628,
   "metadata": {},
   "outputs": [],
   "source": [
    "w_init[0]=np.median(w_init)\n",
    "x_init[0]=np.median(x_init)\n",
    "g_heat_init[0]=np.median(g_heat_init)\n",
    "s_init[0]=np.median(s_init)"
   ]
  },
  {
   "cell_type": "code",
   "execution_count": 629,
   "metadata": {},
   "outputs": [
    {
     "data": {
      "text/plain": [
       "array([ 68269.02114799,  76939.58088649,  66566.43869336,  68120.73625038,\n",
       "        71450.28024352,  50723.93174556,  68792.59009254,  67925.47762795,\n",
       "        66478.93882123,  66929.14684406])"
      ]
     },
     "execution_count": 629,
     "metadata": {},
     "output_type": "execute_result"
    }
   ],
   "source": [
    "x_init[:10]"
   ]
  },
  {
   "cell_type": "markdown",
   "metadata": {},
   "source": [
    "### Part 2: regularize weights and x if necessary"
   ]
  },
  {
   "cell_type": "code",
   "execution_count": 297,
   "metadata": {
    "scrolled": false
   },
   "outputs": [
    {
     "data": {
      "text/plain": [
       "'\\nSet of Parameters:\\nw_init, s_init, g_heat_init, sigma_s_init, sigma_g_init,\\nx_init, s_evol,g_heat_evol,\\nsigma_s_star_2_evol, sigma_g_star_2_evol\\n'"
      ]
     },
     "execution_count": 297,
     "metadata": {},
     "output_type": "execute_result"
    }
   ],
   "source": [
    "\"\"\"\n",
    "Set of Parameters:\n",
    "w_init, s_init, g_heat_init, sigma_s_init, sigma_g_init,\n",
    "x_init, s_evol,g_heat_evol,\n",
    "sigma_s_star_2_evol, sigma_g_star_2_evol\n",
    "\"\"\""
   ]
  },
  {
   "cell_type": "code",
   "execution_count": 630,
   "metadata": {},
   "outputs": [],
   "source": [
    "#STEP 2 OF PARTICLE FILTER\n",
    "def resample(x_pred,w_prev,n):   \n",
    "    #compute y_n\n",
    "    y_n=np.exp(-np.square(consumption_day_ahead[n-1]-x_pred)/(2*sigma2))\n",
    "    #compute new weights\n",
    "    if n>0:\n",
    "        w_=w_prev*y_n\n",
    "    else:\n",
    "        w_=w_prev\n",
    "    #likelihood of y_n\n",
    "    lh_y_n=np.sum(np.log(y_n))\n",
    "    #normalize weights\n",
    "    w_h=w_/sum(w_)\n",
    "    #calculate ESS\n",
    "    ESS=1/sum(np.square(w_h))\n",
    "    x =np.zeros(M)\n",
    "    w =np.zeros(M)\n",
    "    print(\"ESS of normalized weights=\",round(ESS,6))\n",
    "    if ESS <0.001*M: #reset the weights, keep x predicted as such\n",
    "        print(\"ESS <0.001*M\")\n",
    "        x=x_pred\n",
    "        if n==0:\n",
    "            w=np.ones(M)*(1/M)\n",
    "        w=w_prev\n",
    "    if (ESS>=0.001*M and ESS<0.5*M):  #reset all the weights, add some noise to a fraction of the x's\n",
    "        print(\"ESS>=0.001*M and ESS_0<0.5*M\")\n",
    "        x_temp,w_temp=resid_resample(x_pred,w_h)\n",
    "        x=regul(x_temp,w_temp)\n",
    "        w=w_temp\n",
    "    if ESS>=0.5*M:  #No degeneracy\n",
    "        print(\"ESS>=0.5*M\")\n",
    "        x=x_pred\n",
    "        w=w_h\n",
    "    print(\"new ESS=\",round(1/sum(np.square(w)),6))\n",
    "    return x,w,ESS,lh_y_n"
   ]
  },
  {
   "cell_type": "code",
   "execution_count": 631,
   "metadata": {
    "scrolled": true
   },
   "outputs": [
    {
     "name": "stdout",
     "output_type": "stream",
     "text": [
      "ESS of normalized weights= 8651.09274\n",
      "ESS>=0.5*M\n",
      "new ESS= 8651.09274\n"
     ]
    }
   ],
   "source": [
    "#initialize matrix of x_heat, x_season\n",
    "ESS=np.array(np.ones(n_pred+1))\n",
    "x =np.zeros([n_pred+1,M])\n",
    "w =np.zeros([n_pred+1,M])\n",
    "lh_y =np.zeros(n_pred+1)\n",
    "x_season =np.zeros([n_pred+1,M]) \n",
    "x_heat =np.zeros([n_pred+1,M])\n",
    "\n",
    "x[0,:],w[0,:],ESS[0],lh_y=resample(x_init,w_init,0)\n",
    "#w[0,:]=resample(x_init,w_init,0)[1]"
   ]
  },
  {
   "cell_type": "markdown",
   "metadata": {
    "collapsed": true
   },
   "source": [
    "## Prediction and Filtering at time n>0"
   ]
  },
  {
   "cell_type": "markdown",
   "metadata": {},
   "source": [
    "### 1. Sample $x^j_n \\mid X^j_{n-1} $ for all j=1...M particles"
   ]
  },
  {
   "cell_type": "code",
   "execution_count": 632,
   "metadata": {
    "collapsed": true
   },
   "outputs": [],
   "source": [
    "def x_season(day_type,k_day,s_prev,sigma_s_prev):\n",
    "    nu=truncnorm.rvs(a = (-sigma_s_prev-0) / sigma_g_init , b = np.inf, loc= 0, scale = sigma_s_init, size=M)[0]\n",
    "    sigma_s=sigma_s_prev+nu\n",
    "    err=truncnorm.rvs(a = -s_prev / sigma_s , b = np.inf, loc= 0, scale = sigma_s, size=M)[0]\n",
    "    s=s_prev+err\n",
    "    x_s=s*k_day[day_type]\n",
    "    return x_s, s, sigma_s\n",
    "\n",
    "def x_heat(g_h_prev,day,sigma_g_prev):\n",
    "    nu=truncnorm.rvs(a = -sigma_g_prev / sigma_g_init , b = np.inf, loc= 0, scale = sigma_g_init, size=M)[0]\n",
    "    sigma_g=sigma_g_prev+nu\n",
    "    err=truncnorm.rvs(a = -np.inf , b =(-g_h_prev-0) / sigma_g, loc= 0, scale = sigma_g, size=M)[0]\n",
    "    g_h=g_h_prev+err\n",
    "    if(u_h-T_h[day]<0):\n",
    "        print(\"No heating effect\")\n",
    "    x_h=g_h*(T_h[day]-u_h)*max(np.sign(u_h-T_h[day]),0)\n",
    "    return x_h, g_h, sigma_g"
   ]
  },
  {
   "cell_type": "code",
   "execution_count": 645,
   "metadata": {},
   "outputs": [],
   "source": [
    "daytype=np.array(df.daytype)"
   ]
  },
  {
   "cell_type": "code",
   "execution_count": 648,
   "metadata": {},
   "outputs": [
    {
     "data": {
      "text/plain": [
       "8"
      ]
     },
     "execution_count": 648,
     "metadata": {},
     "output_type": "execute_result"
    }
   ],
   "source": [
    "daytype[15]"
   ]
  },
  {
   "cell_type": "code",
   "execution_count": 649,
   "metadata": {
    "scrolled": true
   },
   "outputs": [
    {
     "name": "stdout",
     "output_type": "stream",
     "text": [
      "[  1004.28473551  75737.31585522  18657.24402494 ...,   1004.28473551\n",
      "   1004.28473551   1004.28473552]\n"
     ]
    }
   ],
   "source": [
    "print(x_season(daytype[15],kappa,s_init,sigma_s_init)[0])\n",
    "#print(s_init*kappa[df.daytype[15]])"
   ]
  },
  {
   "cell_type": "code",
   "execution_count": 650,
   "metadata": {
    "scrolled": true
   },
   "outputs": [
    {
     "name": "stdout",
     "output_type": "stream",
     "text": [
      "[ 90916.32249249  16954.01267766  69272.43025697 ...,  73534.64220547\n",
      "  88183.35184217  93831.86653098]\n"
     ]
    }
   ],
   "source": [
    "print(x_heat(g_heat_init,16,sigma_g_init)[0])\n",
    "#print(np.maximum(0,g_heat_init*(T_h[15]-u_h)))"
   ]
  },
  {
   "cell_type": "code",
   "execution_count": 698,
   "metadata": {
    "scrolled": true
   },
   "outputs": [],
   "source": [
    "#Initialize parameters\n",
    "def particle_filter(len_init,len_filtering,s,g_h,sigma_s,sigma_g,sigma,lh_y):\n",
    "    #s=s_init\n",
    "    #g_h=g_heat_init\n",
    "    #sigma_s=sigma_s_init\n",
    "    #sigma_g=sigma_g_init\n",
    "    lh_y_n=np.zeros(len_filtering)\n",
    "    \n",
    "    for n in range(1,len_filtering):\n",
    "        print(\"n=\",n)\n",
    "        #prediction X[n] one day ahead, hourly forecast\n",
    "        x_pred=x_season(daytype[len_init+n],kappa,s,sigma_s)[0]+x_heat(g_h,n+len_init,sigma_g)[0]\n",
    "        #print(\"number of negative values:\",len(x_pred[x_pred<0]))\n",
    "        #print(\"x_pred mean=\",\"{:.2e}\".format(np.sum(w[n-1,:]*x_pred)),\"real consumption=\",\"{:.2e}\".format(consumption_day_ahead[n]))\n",
    "        #print(\"x_pred min=\",\"{:.2e}\".format(np.min(x_pred)),\"x_pred max\",\"{:.2e}\".format(np.max(x_pred)))\n",
    "        #deal with outliers if ESS drops below epsilon--> algo 3.3\n",
    "    \n",
    "        #take new values of parameters to feed x_season and x_heat in the next step\n",
    "        #(should we assume constant parameters in the baseline model ?)\n",
    "        s, sigma_s=x_season(daytype[n+len_init],kappa,s,sigma_s)[1:]\n",
    "        g_h, sigma_g=x_heat(g_h,n,sigma_g)[1:]\n",
    "        #regularization\n",
    "        x[n,:],w[n,:],ESS[n],lh_y_n[n]=resample(x_pred,w[n-1,:],n)\n",
    "        print(\"------------------------\")\n",
    "    return lh_y_n"
   ]
  },
  {
   "cell_type": "code",
   "execution_count": 699,
   "metadata": {},
   "outputs": [
    {
     "name": "stdout",
     "output_type": "stream",
     "text": [
      "n= 1\n",
      "ESS of normalized weights= 2291.717629\n",
      "ESS>=0.001*M and ESS_0<0.5*M\n",
      "R= 2480\n",
      "w_: [  7.56032950e-06   1.30868042e-06   2.30422155e-05 ...,   7.63545310e-05\n",
      "   6.37887006e-05   7.35256547e-07]\n",
      "new ESS= 10000.0\n",
      "------------------------\n",
      "n= 2\n",
      "ESS of normalized weights= 2.193418\n",
      "ESS <0.001*M\n",
      "new ESS= 10000.0\n",
      "------------------------\n",
      "n= 3\n",
      "ESS of normalized weights= nan\n",
      "new ESS= inf\n",
      "------------------------\n",
      "n= 4\n",
      "ESS of normalized weights= nan\n",
      "new ESS= inf\n",
      "------------------------\n",
      "n= 5\n",
      "ESS of normalized weights= nan\n",
      "new ESS= inf\n",
      "------------------------\n",
      "n= 6\n",
      "ESS of normalized weights= nan\n",
      "new ESS= inf\n",
      "------------------------\n",
      "n= 7\n",
      "ESS of normalized weights= nan\n",
      "new ESS= inf\n",
      "------------------------\n",
      "n= 8\n",
      "No heating effect\n",
      "ESS of normalized weights= nan\n",
      "new ESS= inf\n",
      "------------------------\n",
      "n= 9\n",
      "No heating effect\n",
      "ESS of normalized weights= nan\n",
      "new ESS= inf\n",
      "------------------------\n"
     ]
    },
    {
     "name": "stderr",
     "output_type": "stream",
     "text": [
      "/Users/antoinegrelety/anaconda3/lib/python3.6/site-packages/ipykernel_launcher.py:11: RuntimeWarning: divide by zero encountered in log\n",
      "  # This is added back by InteractiveShellApp.init_path()\n",
      "/Users/antoinegrelety/anaconda3/lib/python3.6/site-packages/ipykernel_launcher.py:13: RuntimeWarning: invalid value encountered in true_divide\n",
      "  del sys.path[0]\n",
      "/Users/antoinegrelety/anaconda3/lib/python3.6/site-packages/ipykernel_launcher.py:34: RuntimeWarning: divide by zero encountered in double_scalars\n"
     ]
    }
   ],
   "source": [
    "log_lh_init=particle_filter(15,10,s_init,g_heat_init,sigma_s_init,sigma_g_init,sigma2**0.5,lh_y_n)\n"
   ]
  },
  {
   "cell_type": "code",
   "execution_count": 365,
   "metadata": {},
   "outputs": [
    {
     "data": {
      "text/plain": [
       "array([  8.65109274e-01,   1.73872829e-01,   3.65798383e-03,\n",
       "         1.44518476e-02,   1.83252551e-04,   1.45044353e-04,\n",
       "         8.87489688e-01,   1.59095515e-04,   1.97847692e-04,\n",
       "         1.00000000e-04,   1.00000000e-04,   1.00000000e-04,\n",
       "         1.00000000e-04,   1.00000000e-04,   1.00000000e-04,\n",
       "         1.00000000e-04,   1.00000000e-04,   1.00000000e-04,\n",
       "         1.00000000e-04,   1.00000000e-04,   1.00000000e-04,\n",
       "         1.00000000e-04,   1.00000000e-04,   1.00000000e-04,\n",
       "         1.00000000e-04,   1.00000000e-04,   1.00000000e-04,\n",
       "         1.00000000e-04,   1.00000000e-04,   1.00000000e-04,\n",
       "         1.00000000e-04,   1.00000000e-04,   1.00000000e-04,\n",
       "         1.00000000e-04,   1.00000000e-04,   1.00000000e-04,\n",
       "         1.00000000e-04,   1.00000000e-04,   1.00000000e-04,\n",
       "         1.00000000e-04,   1.00000000e-04,   1.00000000e-04,\n",
       "         1.00000000e-04,   1.00000000e-04,   1.00000000e-04,\n",
       "         1.00000000e-04,   1.00000000e-04,   1.00000000e-04,\n",
       "         1.00000000e-04])"
      ]
     },
     "execution_count": 365,
     "metadata": {},
     "output_type": "execute_result"
    }
   ],
   "source": [
    "ESS/M"
   ]
  },
  {
   "cell_type": "code",
   "execution_count": 366,
   "metadata": {},
   "outputs": [
    {
     "data": {
      "image/png": "[encoded data removed]",
      "text/plain": [
       "<matplotlib.figure.Figure at 0x11eae3668>"
      ]
     },
     "metadata": {},
     "output_type": "display_data"
    }
   ],
   "source": [
    "plt.plot(range(15),ESS[:15]/M)\n",
    "plt.show()"
   ]
  },
  {
   "cell_type": "markdown",
   "metadata": {
    "collapsed": true
   },
   "source": [
    "## PMMH"
   ]
  },
  {
   "cell_type": "markdown",
   "metadata": {},
   "source": [
    "Goal: re-estimate the one-dimensional parameters ($\\sigma_g,\\sigma_s,\\mu_h,\\kappa,\\sigma$)<br>\n",
    "Proposal distribution for these parameters: truncated gaussian random walk<br>\n",
    "We set kappa constant at 1/8\n",
    "\n"
   ]
  },
  {
   "cell_type": "markdown",
   "metadata": {},
   "source": [
    "#### Initialization of parameters"
   ]
  },
  {
   "cell_type": "code",
   "execution_count": 662,
   "metadata": {
    "collapsed": true
   },
   "outputs": [],
   "source": [
    "u_h_current=13\n",
    "sigma_g_current=10**3\n",
    "sigma_s_current=10**3\n",
    "sigma_current=10**3"
   ]
  },
  {
   "cell_type": "code",
   "execution_count": 686,
   "metadata": {
    "collapsed": true
   },
   "outputs": [],
   "source": [
    "len_filter_pmmh=10\n",
    "accept_proba=0\n",
    "len_iter_mha=10\n",
    "accept_log_proba=np.zeros(len_filter_pmmh)\n",
    "accept_rate=0\n",
    "log_lh_init=np.zeros(len_filter_pmmh)"
   ]
  },
  {
   "cell_type": "code",
   "execution_count": 687,
   "metadata": {},
   "outputs": [],
   "source": [
    "lh_y_prop=np.zeros([len_filter_pmmh,M])"
   ]
  },
  {
   "cell_type": "markdown",
   "metadata": {},
   "source": [
    "#### Initialization of hyperparameters"
   ]
  },
  {
   "cell_type": "code",
   "execution_count": 688,
   "metadata": {
    "collapsed": true
   },
   "outputs": [],
   "source": [
    "#standard deviation of normal/trunc normal proposals on parameters\n",
    "std_hyp_sigma_g,std_hyp_sigma_s,std_hyp_sigma=np.ones(3)*10**3\n",
    "st_u_h=1"
   ]
  },
  {
   "cell_type": "code",
   "execution_count": 689,
   "metadata": {},
   "outputs": [],
   "source": [
    "#joint prior density of parameters\n",
    "def log_joint_prior(u_h,sigma,sigma_g,sigma_s):\n",
    "    res=(-(u_h-14)**2)/2\n",
    "    res=res+(-0.01-1)*np.log(sigma**2) - (0.01/sigma**2)\n",
    "    res=res+(-0.01-1)*np.log(sigma_g**2) - (0.01/sigma_g**2)\n",
    "    res=res+(-0.01-1)*np.log(sigma_s**2) - (0.01/sigma_s**2)\n",
    "    return res"
   ]
  },
  {
   "cell_type": "code",
   "execution_count": 690,
   "metadata": {},
   "outputs": [
    {
     "name": "stdout",
     "output_type": "stream",
     "text": [
      "-42.3609970206\n"
     ]
    }
   ],
   "source": [
    "#joint log prior density initialize\n",
    "log_prior_init=log_joint_prior(u_h_current,sigma_current,sigma_g_current,sigma_s_current)\n",
    "print(log_prior_init)\n",
    "#initial parameters otbained from Gibbs. These initialized parameters will not change through iterations"
   ]
  },
  {
   "cell_type": "markdown",
   "metadata": {},
   "source": [
    "#### Run initial particle filter and get the log likelihood"
   ]
  },
  {
   "cell_type": "code",
   "execution_count": 713,
   "metadata": {},
   "outputs": [
    {
     "name": "stdout",
     "output_type": "stream",
     "text": [
      "n= 1\n",
      "ESS of normalized weights= 120.780059\n",
      "ESS>=0.001*M and ESS_0<0.5*M\n",
      "R= 578\n",
      "w_: [  1.83167174e-09   1.87480811e-10   5.74203564e-07 ...,   4.14968337e-05\n",
      "   9.95836370e-08   2.44092762e-11]\n",
      "new ESS= 10000.0\n",
      "------------------------\n",
      "n= 2\n",
      "ESS of normalized weights= 101.359442\n",
      "ESS>=0.001*M and ESS_0<0.5*M\n",
      "R= 521\n",
      "w_: [  1.33250603e-09   3.76747635e-05   2.99613492e-05 ...,   9.94782787e-05\n",
      "   6.01089643e-08   1.35037827e-11]\n",
      "new ESS= 10000.0\n",
      "------------------------\n",
      "n= 3\n",
      "ESS of normalized weights= 1.0\n",
      "ESS <0.001*M\n",
      "new ESS= 10000.0\n",
      "------------------------\n",
      "n= 4\n",
      "ESS of normalized weights= 1.0\n",
      "ESS <0.001*M\n",
      "new ESS= 10000.0\n",
      "------------------------\n",
      "n= 5\n",
      "ESS of normalized weights= 262.119986\n",
      "ESS>=0.001*M and ESS_0<0.5*M\n",
      "R= 1096\n",
      "w_: [  1.37927832e-06   8.93439182e-05   1.60609846e-06 ...,   1.59686935e-13\n",
      "   1.81554471e-07   9.83444307e-06]\n",
      "new ESS= 10000.0\n",
      "------------------------\n",
      "n= 6\n",
      "ESS of normalized weights= 1.000001\n",
      "ESS <0.001*M\n",
      "new ESS= 10000.0\n",
      "------------------------\n",
      "n= 7\n",
      "ESS of normalized weights= 1.0\n",
      "ESS <0.001*M\n",
      "new ESS= 10000.0\n",
      "------------------------\n",
      "n= 8\n",
      "No heating effect\n",
      "ESS of normalized weights= 1.141887\n",
      "ESS <0.001*M\n",
      "new ESS= 10000.0\n",
      "------------------------\n",
      "n= 9\n",
      "No heating effect\n",
      "ESS of normalized weights= 1.157098\n",
      "ESS <0.001*M\n",
      "new ESS= 10000.0\n",
      "------------------------\n"
     ]
    }
   ],
   "source": [
    "log_lh_init=particle_filter(len_init,len_filter_pmmh,s_init,g_heat_init,sigma_s_current,sigma_g_current,sigma_current,lh_y_n)"
   ]
  },
  {
   "cell_type": "code",
   "execution_count": 701,
   "metadata": {},
   "outputs": [
    {
     "name": "stdout",
     "output_type": "stream",
     "text": [
      "[       0.           -33557.83084488              -inf -5393573.72159335\n",
      "              -inf -5313918.42410046  -882750.55565225  -355864.36534423\n",
      "  -618291.75611105]\n"
     ]
    }
   ],
   "source": [
    "print(log_lh_init)"
   ]
  },
  {
   "cell_type": "markdown",
   "metadata": {},
   "source": [
    "#### PMMH Algorithm"
   ]
  },
  {
   "cell_type": "code",
   "execution_count": 724,
   "metadata": {},
   "outputs": [
    {
     "name": "stdout",
     "output_type": "stream",
     "text": [
      "___________________________________________________________\n",
      "Metropolis Hastings step: 0\n",
      "proposed parameters: u_heat: 14.436174171018763 sigma: -258.918442305 sigma_g: 961.204152608 sigma_s: -973.561767846\n",
      "n= 1\n",
      "ESS of normalized weights= 1.000442\n",
      "ESS <0.001*M\n",
      "new ESS= 8651.09274\n",
      "------------------------\n",
      "n= 2\n",
      "ESS of normalized weights= 5341.038061\n",
      "ESS>=0.5*M\n",
      "new ESS= 5341.038061\n",
      "------------------------\n",
      "n= 3\n",
      "ESS of normalized weights= 325.923798\n",
      "ESS>=0.001*M and ESS_0<0.5*M\n",
      "R= 705\n",
      "w_: [  6.54573359e-11   3.86299663e-14   1.24074436e-07 ...,   7.49999827e-05\n",
      "   2.14165014e-08   7.25896182e-14]\n",
      "new ESS= 10000.0\n",
      "------------------------\n",
      "n= 4\n",
      "ESS of normalized weights= 7.069197\n",
      "ESS <0.001*M\n",
      "new ESS= 10000.0\n",
      "------------------------\n",
      "n= 5\n",
      "ESS of normalized weights= 47.851115\n",
      "ESS>=0.001*M and ESS_0<0.5*M\n",
      "R= 543\n",
      "w_: [  6.76167661e-08   1.36125627e-06   8.21612792e-08 ...,   2.52575258e-16\n",
      "   5.18717745e-09   8.57619566e-07]\n",
      "new ESS= 10000.0\n",
      "------------------------\n",
      "n= 6\n",
      "ESS of normalized weights= 4423.833135\n",
      "ESS>=0.001*M and ESS_0<0.5*M\n",
      "R= 3447\n",
      "w_: [  9.05775428e-05   3.90205454e-08   3.59855047e-05 ...,   3.30154774e-07\n",
      "   4.62480572e-05   1.75470144e-05]\n",
      "new ESS= 10000.0\n",
      "------------------------\n",
      "n= 7\n",
      "ESS of normalized weights= 1.0\n",
      "ESS <0.001*M\n",
      "new ESS= 10000.0\n",
      "------------------------\n",
      "n= 8\n",
      "No heating effect\n",
      "ESS of normalized weights= 1.0\n",
      "ESS <0.001*M\n",
      "new ESS= 10000.0\n",
      "------------------------\n",
      "n= 9\n",
      "No heating effect\n",
      "ESS of normalized weights= 1.000002\n",
      "ESS <0.001*M\n",
      "new ESS= 10000.0\n",
      "------------------------\n",
      "log likelihood proposal of y: -513296.194897\n",
      "proposed log prior: -39.0925597759\n",
      "proposal log density initial parameters given proposed param: -1.79937894356\n",
      "proposal log density proposed parameters given current param: -2.90685486542\n",
      "acceptance log probability: -487778.592087\n",
      "REJECT\n",
      "___________________________________________________________\n",
      "Metropolis Hastings step: 1\n",
      "proposed parameters: u_heat: 14.178689149821428 sigma: -102.604592088 sigma_g: 671.909084994 sigma_s: -36.4115855647\n",
      "n= 1\n",
      "ESS of normalized weights= 3899.033818\n",
      "ESS>=0.001*M and ESS_0<0.5*M\n",
      "R= 3457\n",
      "w_: [  3.91539376e-05   7.97903454e-06   4.13684498e-05 ...,   4.46777397e-05\n",
      "   3.23608620e-05   7.06011203e-06]\n",
      "new ESS= 10000.0\n",
      "------------------------\n",
      "n= 2\n",
      "ESS of normalized weights= 1.002033\n",
      "ESS <0.001*M\n",
      "new ESS= 10000.0\n",
      "------------------------\n",
      "n= 3\n",
      "ESS of normalized weights= nan\n",
      "new ESS= inf\n",
      "------------------------\n",
      "n= 4\n",
      "ESS of normalized weights= nan\n",
      "new ESS= inf\n",
      "------------------------\n",
      "n= 5\n",
      "ESS of normalized weights= nan\n",
      "new ESS= inf\n",
      "------------------------\n",
      "n= 6\n",
      "ESS of normalized weights= nan\n",
      "new ESS= inf\n",
      "------------------------\n",
      "n= 7\n",
      "ESS of normalized weights= nan\n",
      "new ESS= inf\n",
      "------------------------\n",
      "n= 8\n",
      "No heating effect\n"
     ]
    },
    {
     "name": "stderr",
     "output_type": "stream",
     "text": [
      "/Users/antoinegrelety/anaconda3/lib/python3.6/site-packages/ipykernel_launcher.py:11: RuntimeWarning: divide by zero encountered in log\n",
      "  # This is added back by InteractiveShellApp.init_path()\n",
      "/Users/antoinegrelety/anaconda3/lib/python3.6/site-packages/ipykernel_launcher.py:13: RuntimeWarning: invalid value encountered in true_divide\n",
      "  del sys.path[0]\n",
      "/Users/antoinegrelety/anaconda3/lib/python3.6/site-packages/ipykernel_launcher.py:34: RuntimeWarning: divide by zero encountered in double_scalars\n"
     ]
    },
    {
     "name": "stdout",
     "output_type": "stream",
     "text": [
      "ESS of normalized weights= nan\n",
      "new ESS= inf\n",
      "------------------------\n",
      "n= 9\n",
      "No heating effect\n",
      "ESS of normalized weights= nan\n",
      "new ESS= inf\n",
      "------------------------\n",
      "log likelihood proposal of y: -415555.009015\n",
      "proposed log prior: -29.7824767532\n",
      "proposal log density initial parameters given proposed param: -2.90685486542\n",
      "proposal log density proposed parameters given current param: -1.7898038319\n",
      "acceptance log probability: -390029.213173\n",
      "REJECT\n",
      "___________________________________________________________\n",
      "Metropolis Hastings step: 2\n",
      "proposed parameters: u_heat: 13.738953771708333 sigma: 829.313041743 sigma_g: 234.150409221 sigma_s: -1019.96410324\n",
      "n= 1\n",
      "ESS of normalized weights= 2116.273054\n",
      "ESS>=0.001*M and ESS_0<0.5*M\n",
      "R= 2373\n",
      "w_: [  5.96265295e-06   1.01111263e-06   5.76613761e-06 ...,   3.59789449e-05\n",
      "   5.41151003e-05   5.36470356e-07]\n",
      "new ESS= 10000.0\n",
      "------------------------\n",
      "n= 2\n",
      "ESS of normalized weights= 1.000006\n",
      "ESS <0.001*M\n",
      "new ESS= 10000.0\n",
      "------------------------\n",
      "n= 3\n",
      "ESS of normalized weights= nan\n",
      "new ESS= inf\n",
      "------------------------\n",
      "n= 4\n",
      "ESS of normalized weights= nan\n",
      "new ESS= inf\n",
      "------------------------\n",
      "n= 5\n",
      "ESS of normalized weights= nan\n",
      "new ESS= inf\n",
      "------------------------\n",
      "n= 6\n",
      "ESS of normalized weights= nan\n",
      "new ESS= inf\n",
      "------------------------\n",
      "n= 7\n",
      "ESS of normalized weights= nan\n",
      "new ESS= inf\n",
      "------------------------\n",
      "n= 8\n",
      "No heating effect\n",
      "ESS of normalized weights= nan\n",
      "new ESS= inf\n",
      "------------------------\n",
      "n= 9\n",
      "No heating effect\n",
      "ESS of normalized weights= nan\n",
      "new ESS= inf\n",
      "------------------------\n",
      "log likelihood proposal of y: -606897.039559\n",
      "proposed log prior: -38.6243226423\n",
      "proposal log density initial parameters given proposed param: -1.7898038319\n",
      "proposal log density proposed parameters given current param: -2.62240507189\n",
      "acceptance log probability: -581379.252962\n",
      "REJECT\n",
      "___________________________________________________________\n",
      "Metropolis Hastings step: 3\n",
      "proposed parameters: u_heat: 14.774064159750411 sigma: 905.62647127 sigma_g: -410.185822912 sigma_s: 635.845125738\n",
      "n= 1\n",
      "ESS of normalized weights= 3888.709299\n",
      "ESS>=0.001*M and ESS_0<0.5*M\n",
      "R= 3448\n",
      "w_: [  3.88048914e-05   7.90021743e-06   4.04308802e-05 ...,   4.52612744e-05\n",
      "   3.15538397e-05   6.97148028e-06]\n",
      "new ESS= 10000.0\n",
      "------------------------\n",
      "n= 2\n",
      "ESS of normalized weights= 3644.802951\n",
      "ESS>=0.001*M and ESS_0<0.5*M\n",
      "R= 3316\n",
      "w_: [  4.03967313e-05   8.23630982e-05   5.28321651e-06 ...,   7.42463927e-05\n",
      "   1.09538168e-05   5.46480029e-06]\n",
      "new ESS= 10000.0\n",
      "------------------------\n",
      "n= 3\n",
      "ESS of normalized weights= 790.305808\n",
      "ESS>=0.001*M and ESS_0<0.5*M\n",
      "R= 1510\n",
      "w_: [  1.91290736e-06   3.49382271e-05   6.79975990e-05 ...,   5.77016274e-05\n",
      "   1.47406538e-05   1.52876627e-07]\n",
      "new ESS= 10000.0\n",
      "------------------------\n",
      "n= 4\n"
     ]
    },
    {
     "name": "stderr",
     "output_type": "stream",
     "text": [
      "/Users/antoinegrelety/anaconda3/lib/python3.6/site-packages/scipy/stats/_continuous_distns.py:4838: RuntimeWarning: divide by zero encountered in log\n",
      "  self._logdelta = np.log(self._delta)\n"
     ]
    },
    {
     "ename": "ValueError",
     "evalue": "Domain error in arguments.",
     "output_type": "error",
     "traceback": [
      "\u001b[0;31m---------------------------------------------------------------------------\u001b[0m",
      "\u001b[0;31mValueError\u001b[0m                                Traceback (most recent call last)",
      "\u001b[0;32m<ipython-input-724-375b429331a8>\u001b[0m in \u001b[0;36m<module>\u001b[0;34m()\u001b[0m\n\u001b[1;32m     12\u001b[0m     \u001b[0;31m#1/run a particle filter with the proposed parameters to obtain a an estimation of likelihood proposed\u001b[0m\u001b[0;34m\u001b[0m\u001b[0;34m\u001b[0m\u001b[0m\n\u001b[1;32m     13\u001b[0m     \u001b[0;31m#  consider the likelihood of the last day of the fitering\u001b[0m\u001b[0;34m\u001b[0m\u001b[0;34m\u001b[0m\u001b[0m\n\u001b[0;32m---> 14\u001b[0;31m     \u001b[0mlh_y_prop\u001b[0m\u001b[0;34m=\u001b[0m\u001b[0mparticle_filter\u001b[0m\u001b[0;34m(\u001b[0m\u001b[0mlen_init\u001b[0m\u001b[0;34m,\u001b[0m\u001b[0mlen_filter_pmmh\u001b[0m\u001b[0;34m,\u001b[0m\u001b[0ms_init\u001b[0m\u001b[0;34m,\u001b[0m\u001b[0mg_heat_init\u001b[0m\u001b[0;34m,\u001b[0m\u001b[0msigma_s_prop\u001b[0m\u001b[0;34m,\u001b[0m\u001b[0msigma_g_prop\u001b[0m\u001b[0;34m,\u001b[0m\u001b[0msigma_prop\u001b[0m\u001b[0;34m,\u001b[0m\u001b[0mlh_y_n\u001b[0m\u001b[0;34m)\u001b[0m\u001b[0;34m\u001b[0m\u001b[0m\n\u001b[0m\u001b[1;32m     15\u001b[0m     \u001b[0mprint\u001b[0m\u001b[0;34m(\u001b[0m\u001b[0;34m\"log likelihood proposal of y:\"\u001b[0m\u001b[0;34m,\u001b[0m\u001b[0mlh_y_prop\u001b[0m\u001b[0;34m[\u001b[0m\u001b[0mlen_filter_pmmh\u001b[0m\u001b[0;34m-\u001b[0m\u001b[0;36m1\u001b[0m\u001b[0;34m]\u001b[0m\u001b[0;34m)\u001b[0m\u001b[0;34m\u001b[0m\u001b[0m\n\u001b[1;32m     16\u001b[0m     \u001b[0;31m#2/generate prior proposals and compute joint log density of them\u001b[0m\u001b[0;34m\u001b[0m\u001b[0;34m\u001b[0m\u001b[0m\n",
      "\u001b[0;32m<ipython-input-698-76479c584cf8>\u001b[0m in \u001b[0;36mparticle_filter\u001b[0;34m(len_init, len_filtering, s, g_h, sigma_s, sigma_g, sigma, lh_y)\u001b[0m\n\u001b[1;32m     10\u001b[0m         \u001b[0mprint\u001b[0m\u001b[0;34m(\u001b[0m\u001b[0;34m\"n=\"\u001b[0m\u001b[0;34m,\u001b[0m\u001b[0mn\u001b[0m\u001b[0;34m)\u001b[0m\u001b[0;34m\u001b[0m\u001b[0m\n\u001b[1;32m     11\u001b[0m         \u001b[0;31m#prediction X[n] one day ahead, hourly forecast\u001b[0m\u001b[0;34m\u001b[0m\u001b[0;34m\u001b[0m\u001b[0m\n\u001b[0;32m---> 12\u001b[0;31m         \u001b[0mx_pred\u001b[0m\u001b[0;34m=\u001b[0m\u001b[0mx_season\u001b[0m\u001b[0;34m(\u001b[0m\u001b[0mdaytype\u001b[0m\u001b[0;34m[\u001b[0m\u001b[0mlen_init\u001b[0m\u001b[0;34m+\u001b[0m\u001b[0mn\u001b[0m\u001b[0;34m]\u001b[0m\u001b[0;34m,\u001b[0m\u001b[0mkappa\u001b[0m\u001b[0;34m,\u001b[0m\u001b[0ms\u001b[0m\u001b[0;34m,\u001b[0m\u001b[0msigma_s\u001b[0m\u001b[0;34m)\u001b[0m\u001b[0;34m[\u001b[0m\u001b[0;36m0\u001b[0m\u001b[0;34m]\u001b[0m\u001b[0;34m+\u001b[0m\u001b[0mx_heat\u001b[0m\u001b[0;34m(\u001b[0m\u001b[0mg_h\u001b[0m\u001b[0;34m,\u001b[0m\u001b[0mn\u001b[0m\u001b[0;34m+\u001b[0m\u001b[0mlen_init\u001b[0m\u001b[0;34m,\u001b[0m\u001b[0msigma_g\u001b[0m\u001b[0;34m)\u001b[0m\u001b[0;34m[\u001b[0m\u001b[0;36m0\u001b[0m\u001b[0;34m]\u001b[0m\u001b[0;34m\u001b[0m\u001b[0m\n\u001b[0m\u001b[1;32m     13\u001b[0m         \u001b[0;31m#print(\"number of negative values:\",len(x_pred[x_pred<0]))\u001b[0m\u001b[0;34m\u001b[0m\u001b[0;34m\u001b[0m\u001b[0m\n\u001b[1;32m     14\u001b[0m         \u001b[0;31m#print(\"x_pred mean=\",\"{:.2e}\".format(np.sum(w[n-1,:]*x_pred)),\"real consumption=\",\"{:.2e}\".format(consumption_day_ahead[n]))\u001b[0m\u001b[0;34m\u001b[0m\u001b[0;34m\u001b[0m\u001b[0m\n",
      "\u001b[0;32m<ipython-input-632-cfeeda422fa0>\u001b[0m in \u001b[0;36mx_season\u001b[0;34m(day_type, k_day, s_prev, sigma_s_prev)\u001b[0m\n\u001b[1;32m      2\u001b[0m     \u001b[0mnu\u001b[0m\u001b[0;34m=\u001b[0m\u001b[0mtruncnorm\u001b[0m\u001b[0;34m.\u001b[0m\u001b[0mrvs\u001b[0m\u001b[0;34m(\u001b[0m\u001b[0ma\u001b[0m \u001b[0;34m=\u001b[0m \u001b[0;34m(\u001b[0m\u001b[0;34m-\u001b[0m\u001b[0msigma_s_prev\u001b[0m\u001b[0;34m-\u001b[0m\u001b[0;36m0\u001b[0m\u001b[0;34m)\u001b[0m \u001b[0;34m/\u001b[0m \u001b[0msigma_g_init\u001b[0m \u001b[0;34m,\u001b[0m \u001b[0mb\u001b[0m \u001b[0;34m=\u001b[0m \u001b[0mnp\u001b[0m\u001b[0;34m.\u001b[0m\u001b[0minf\u001b[0m\u001b[0;34m,\u001b[0m \u001b[0mloc\u001b[0m\u001b[0;34m=\u001b[0m \u001b[0;36m0\u001b[0m\u001b[0;34m,\u001b[0m \u001b[0mscale\u001b[0m \u001b[0;34m=\u001b[0m \u001b[0msigma_s_init\u001b[0m\u001b[0;34m,\u001b[0m \u001b[0msize\u001b[0m\u001b[0;34m=\u001b[0m\u001b[0mM\u001b[0m\u001b[0;34m)\u001b[0m\u001b[0;34m[\u001b[0m\u001b[0;36m0\u001b[0m\u001b[0;34m]\u001b[0m\u001b[0;34m\u001b[0m\u001b[0m\n\u001b[1;32m      3\u001b[0m     \u001b[0msigma_s\u001b[0m\u001b[0;34m=\u001b[0m\u001b[0msigma_s_prev\u001b[0m\u001b[0;34m+\u001b[0m\u001b[0mnu\u001b[0m\u001b[0;34m\u001b[0m\u001b[0m\n\u001b[0;32m----> 4\u001b[0;31m     \u001b[0merr\u001b[0m\u001b[0;34m=\u001b[0m\u001b[0mtruncnorm\u001b[0m\u001b[0;34m.\u001b[0m\u001b[0mrvs\u001b[0m\u001b[0;34m(\u001b[0m\u001b[0ma\u001b[0m \u001b[0;34m=\u001b[0m \u001b[0;34m-\u001b[0m\u001b[0ms_prev\u001b[0m \u001b[0;34m/\u001b[0m \u001b[0msigma_s\u001b[0m \u001b[0;34m,\u001b[0m \u001b[0mb\u001b[0m \u001b[0;34m=\u001b[0m \u001b[0mnp\u001b[0m\u001b[0;34m.\u001b[0m\u001b[0minf\u001b[0m\u001b[0;34m,\u001b[0m \u001b[0mloc\u001b[0m\u001b[0;34m=\u001b[0m \u001b[0;36m0\u001b[0m\u001b[0;34m,\u001b[0m \u001b[0mscale\u001b[0m \u001b[0;34m=\u001b[0m \u001b[0msigma_s\u001b[0m\u001b[0;34m,\u001b[0m \u001b[0msize\u001b[0m\u001b[0;34m=\u001b[0m\u001b[0mM\u001b[0m\u001b[0;34m)\u001b[0m\u001b[0;34m[\u001b[0m\u001b[0;36m0\u001b[0m\u001b[0;34m]\u001b[0m\u001b[0;34m\u001b[0m\u001b[0m\n\u001b[0m\u001b[1;32m      5\u001b[0m     \u001b[0ms\u001b[0m\u001b[0;34m=\u001b[0m\u001b[0ms_prev\u001b[0m\u001b[0;34m+\u001b[0m\u001b[0merr\u001b[0m\u001b[0;34m\u001b[0m\u001b[0m\n\u001b[1;32m      6\u001b[0m     \u001b[0mx_s\u001b[0m\u001b[0;34m=\u001b[0m\u001b[0ms\u001b[0m\u001b[0;34m*\u001b[0m\u001b[0mk_day\u001b[0m\u001b[0;34m[\u001b[0m\u001b[0mday_type\u001b[0m\u001b[0;34m]\u001b[0m\u001b[0;34m\u001b[0m\u001b[0m\n",
      "\u001b[0;32m~/anaconda3/lib/python3.6/site-packages/scipy/stats/_distn_infrastructure.py\u001b[0m in \u001b[0;36mrvs\u001b[0;34m(self, *args, **kwds)\u001b[0m\n\u001b[1;32m    938\u001b[0m         \u001b[0mcond\u001b[0m \u001b[0;34m=\u001b[0m \u001b[0mlogical_and\u001b[0m\u001b[0;34m(\u001b[0m\u001b[0mself\u001b[0m\u001b[0;34m.\u001b[0m\u001b[0m_argcheck\u001b[0m\u001b[0;34m(\u001b[0m\u001b[0;34m*\u001b[0m\u001b[0margs\u001b[0m\u001b[0;34m)\u001b[0m\u001b[0;34m,\u001b[0m \u001b[0;34m(\u001b[0m\u001b[0mscale\u001b[0m \u001b[0;34m>=\u001b[0m \u001b[0;36m0\u001b[0m\u001b[0;34m)\u001b[0m\u001b[0;34m)\u001b[0m\u001b[0;34m\u001b[0m\u001b[0m\n\u001b[1;32m    939\u001b[0m         \u001b[0;32mif\u001b[0m \u001b[0;32mnot\u001b[0m \u001b[0mnp\u001b[0m\u001b[0;34m.\u001b[0m\u001b[0mall\u001b[0m\u001b[0;34m(\u001b[0m\u001b[0mcond\u001b[0m\u001b[0;34m)\u001b[0m\u001b[0;34m:\u001b[0m\u001b[0;34m\u001b[0m\u001b[0m\n\u001b[0;32m--> 940\u001b[0;31m             \u001b[0;32mraise\u001b[0m \u001b[0mValueError\u001b[0m\u001b[0;34m(\u001b[0m\u001b[0;34m\"Domain error in arguments.\"\u001b[0m\u001b[0;34m)\u001b[0m\u001b[0;34m\u001b[0m\u001b[0m\n\u001b[0m\u001b[1;32m    941\u001b[0m \u001b[0;34m\u001b[0m\u001b[0m\n\u001b[1;32m    942\u001b[0m         \u001b[0;32mif\u001b[0m \u001b[0mnp\u001b[0m\u001b[0;34m.\u001b[0m\u001b[0mall\u001b[0m\u001b[0;34m(\u001b[0m\u001b[0mscale\u001b[0m \u001b[0;34m==\u001b[0m \u001b[0;36m0\u001b[0m\u001b[0;34m)\u001b[0m\u001b[0;34m:\u001b[0m\u001b[0;34m\u001b[0m\u001b[0m\n",
      "\u001b[0;31mValueError\u001b[0m: Domain error in arguments."
     ]
    }
   ],
   "source": [
    "for step in range(len_iter_mha):\n",
    "    print(\"___________________________________________________________\")\n",
    "    print(\"Metropolis Hastings step:\",step)\n",
    "    #we need 6 inputs to compute the (log) acceptance probability log(r):\n",
    "    #log_likelihood, joint prior density, log proposal density for both current parameters and proposed parameters\n",
    "    #sample proposal for u_h, sigma, sigma_g, sigma_s\n",
    "    u_h_prop=npr.normal(14,1)\n",
    "    sigma_prop=stats.truncnorm.rvs(a=(0-sigma)/std_hyp_sigma,b=np.inf,scale=std_hyp_sigma)\n",
    "    sigma_g_prop=stats.truncnorm.rvs(a=(0-sigma_g_init)/std_hyp_sigma_g,b=np.inf,scale=std_hyp_sigma_g)\n",
    "    sigma_s_prop=stats.truncnorm.rvs(a=(0-sigma_s_init)/std_hyp_sigma_s,b=np.inf,scale=std_hyp_sigma_s)\n",
    "    print(\"proposed parameters:\",\"u_heat:\",u_h_prop,\"sigma:\",sigma_prop,\"sigma_g:\",sigma_g_prop,\"sigma_s:\",sigma_s_prop)\n",
    "    #1/run a particle filter with the proposed parameters to obtain a an estimation of likelihood proposed\n",
    "    #  consider the likelihood of the last day of the fitering\n",
    "    lh_y_prop=particle_filter(len_init,len_filter_pmmh,s_init,g_heat_init,sigma_s_prop,sigma_g_prop,sigma_prop,lh_y_n)\n",
    "    print(\"log likelihood proposal of y:\",lh_y_prop[len_filter_pmmh-1])\n",
    "    #2/generate prior proposals and compute joint log density of them\n",
    "    log_prior_prop=log_joint_prior(u_h_prop,sigma_prop,sigma_g_prop,sigma_s_prop)\n",
    "    print(\"proposed log prior:\",log_prior_prop)\n",
    "    #3/compute log proposal density of current parameter|proposed parameter\n",
    "    current_log_density=np.log(stats.norm.cdf(sigma_current/std_hyp_sigma,loc=0,scale=1))+np.log(\n",
    "        stats.norm.cdf(sigma_s_current/std_hyp_sigma_s,loc=0,scale=1))+np.log(\n",
    "        stats.norm.cdf(sigma_g_current/std_hyp_sigma_g,loc=0,scale=1))\n",
    "    print(\"proposal log density initial parameters given proposed param:\",prop_log_density)\n",
    "    #4/log likelihood from initial parameters --> already done: log_lh_init\n",
    "    #5/joint prior of the initial parameters: we already have them\n",
    "    #6/compute log proposal density of proposed parameter|current parameter\n",
    "    prop_log_density=np.log(stats.norm.cdf(sigma_prop/std_hyp_sigma,loc=0,scale=1))+np.log(\n",
    "    stats.norm.cdf(sigma_s_prop/std_hyp_sigma_s,loc=0,scale=1))+np.log(\n",
    "    stats.norm.cdf(sigma_g_prop/std_hyp_sigma_g,loc=0,scale=1))\n",
    "    print(\"proposal log density proposed parameters given current param:\",prop_log_density)\n",
    "    #we add up these elements to construct the log acceptance probability\n",
    "    #numerator\n",
    "    accept_log_proba[step]=lh_y_prop[len_filter_pmmh-1]+log_prior_prop+current_log_density\n",
    "    #denominator\n",
    "    accept_log_proba[step]=accept_log_proba[step]-log_lh_init[len_filter_pmmh-1]-log_prior_init-prop_log_density\n",
    "    print(\"acceptance log probability:\",accept_log_proba[step])\n",
    "    u=npr.random()\n",
    "    #to get an acceptance rate > 5%, we need log_proba to be at least -3\n",
    "    if(np.log(u)<min(0,accept_log_proba[step])):\n",
    "        print(\"ACCEPT\")\n",
    "        accept_rate=accept_rate+1\n",
    "        log_lh_init[len_filter_pmmh-1]=lh_y_prop[len_filter_pmmh-1]\n",
    "        sigma=sigma_prop\n",
    "        sigma_g=sigma_g_prop\n",
    "        sigma_s=sigma_s_prop\n",
    "    else:\n",
    "        print(\"REJECT\")"
   ]
  },
  {
   "cell_type": "code",
   "execution_count": 706,
   "metadata": {},
   "outputs": [
    {
     "data": {
      "text/plain": [
       "0.049787068367863944"
      ]
     },
     "execution_count": 706,
     "metadata": {},
     "output_type": "execute_result"
    }
   ],
   "source": [
    "np.exp(-3)"
   ]
  },
  {
   "cell_type": "code",
   "execution_count": 541,
   "metadata": {},
   "outputs": [
    {
     "data": {
      "text/plain": [
       "-799691.61253114953"
      ]
     },
     "execution_count": 541,
     "metadata": {},
     "output_type": "execute_result"
    }
   ],
   "source": [
    "log_lh_init"
   ]
  },
  {
   "cell_type": "code",
   "execution_count": null,
   "metadata": {
    "collapsed": true
   },
   "outputs": [],
   "source": []
  }
 ],
 "metadata": {
  "kernelspec": {
   "display_name": "Python 3",
   "language": "python",
   "name": "python3"
  },
  "language_info": {
   "codemirror_mode": {
    "name": "ipython",
    "version": 3
   },
   "file_extension": ".py",
   "mimetype": "text/x-python",
   "name": "python",
   "nbconvert_exporter": "python",
   "pygments_lexer": "ipython3",
   "version": "3.6.3"
  }
 },
 "nbformat": 4,
 "nbformat_minor": 2
}
