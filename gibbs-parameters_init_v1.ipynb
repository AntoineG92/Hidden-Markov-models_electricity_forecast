{
 "cells": [
  {
   "cell_type": "code",
   "execution_count": 1,
   "metadata": {},
   "outputs": [],
   "source": [
    "import pandas as pd\n",
    "import numpy as np\n",
    "from scipy.stats import truncnorm, invgamma\n",
    "import pickle\n",
    "import math\n",
    "import time"
   ]
  },
  {
   "cell_type": "markdown",
   "metadata": {},
   "source": [
    "### Load temperatures data"
   ]
  },
  {
   "cell_type": "code",
   "execution_count": 7,
   "metadata": {},
   "outputs": [
    {
     "data": {
      "text/html": [
       "<div>\n",
       "<style scoped>\n",
       "    .dataframe tbody tr th:only-of-type {\n",
       "        vertical-align: middle;\n",
       "    }\n",
       "\n",
       "    .dataframe tbody tr th {\n",
       "        vertical-align: top;\n",
       "    }\n",
       "\n",
       "    .dataframe thead th {\n",
       "        text-align: right;\n",
       "    }\n",
       "</style>\n",
       "<table border=\"1\" class=\"dataframe\">\n",
       "  <thead>\n",
       "    <tr style=\"text-align: right;\">\n",
       "      <th></th>\n",
       "      <th>date</th>\n",
       "      <th>t</th>\n",
       "      <th>hour</th>\n",
       "    </tr>\n",
       "  </thead>\n",
       "  <tbody>\n",
       "    <tr>\n",
       "      <th>1707</th>\n",
       "      <td>2016-01-01</td>\n",
       "      <td>9.044444</td>\n",
       "      <td>09:00</td>\n",
       "    </tr>\n",
       "    <tr>\n",
       "      <th>1710</th>\n",
       "      <td>2016-01-01</td>\n",
       "      <td>11.005556</td>\n",
       "      <td>18:00</td>\n",
       "    </tr>\n",
       "    <tr>\n",
       "      <th>1709</th>\n",
       "      <td>2016-01-01</td>\n",
       "      <td>11.437736</td>\n",
       "      <td>15:00</td>\n",
       "    </tr>\n",
       "    <tr>\n",
       "      <th>1708</th>\n",
       "      <td>2016-01-01</td>\n",
       "      <td>11.196296</td>\n",
       "      <td>12:00</td>\n",
       "    </tr>\n",
       "    <tr>\n",
       "      <th>1711</th>\n",
       "      <td>2016-01-01</td>\n",
       "      <td>10.683333</td>\n",
       "      <td>21:00</td>\n",
       "    </tr>\n",
       "  </tbody>\n",
       "</table>\n",
       "</div>"
      ],
      "text/plain": [
       "            date          t   hour\n",
       "1707  2016-01-01   9.044444  09:00\n",
       "1710  2016-01-01  11.005556  18:00\n",
       "1709  2016-01-01  11.437736  15:00\n",
       "1708  2016-01-01  11.196296  12:00\n",
       "1711  2016-01-01  10.683333  21:00"
      ]
     },
     "execution_count": 7,
     "metadata": {},
     "output_type": "execute_result"
    }
   ],
   "source": [
    "df_temp=pd.read_csv('data/temp_2016.csv',sep=',')\n",
    "df_temp=df_temp.drop(df_temp.columns[0],axis=1)\n",
    "df_temp=df_temp.sort_values(by='date')\n",
    "#df_temp.head()"
   ]
  },
  {
   "cell_type": "code",
   "execution_count": 8,
   "metadata": {},
   "outputs": [],
   "source": [
    "#temperatures every day at 3pm\n",
    "temp_day=df_temp[df_temp.hour==\"15:00\"]\n",
    "temp_day.head()\n",
    "T_h=list(temp_day.t)"
   ]
  },
  {
   "cell_type": "markdown",
   "metadata": {},
   "source": [
    "### Load electricity data"
   ]
  },
  {
   "cell_type": "code",
   "execution_count": 9,
   "metadata": {},
   "outputs": [],
   "source": [
    "mypath=\"data/\"\n",
    "df=pd.read_csv(mypath+\"cdc_conso_daytypes.csv\",sep=\",\",encoding='latin-1')\n",
    "df.index=range(0,len(df))"
   ]
  },
  {
   "cell_type": "code",
   "execution_count": 11,
   "metadata": {},
   "outputs": [],
   "source": [
    "df=df.sort_values(by=['Date'])\n",
    "df.index=range(0,len(df))\n",
    "#Valeurs intermédiaires à partir de 2017"
   ]
  },
  {
   "cell_type": "code",
   "execution_count": 12,
   "metadata": {},
   "outputs": [],
   "source": [
    "#On se concentre d'abord sur une année afin d'initialiser le filtre\n",
    "df=df[(df.Date >'2016-01-01') & (df.Date <'2017-01-01')]\n",
    "df.index=range(0,len(df))"
   ]
  },
  {
   "cell_type": "code",
   "execution_count": 17,
   "metadata": {},
   "outputs": [
    {
     "data": {
      "text/html": [
       "<div>\n",
       "<style scoped>\n",
       "    .dataframe tbody tr th:only-of-type {\n",
       "        vertical-align: middle;\n",
       "    }\n",
       "\n",
       "    .dataframe tbody tr th {\n",
       "        vertical-align: top;\n",
       "    }\n",
       "\n",
       "    .dataframe thead th {\n",
       "        text-align: right;\n",
       "    }\n",
       "</style>\n",
       "<table border=\"1\" class=\"dataframe\">\n",
       "  <thead>\n",
       "    <tr style=\"text-align: right;\">\n",
       "      <th></th>\n",
       "      <th>Unnamed: 0</th>\n",
       "      <th>Date - Heure</th>\n",
       "      <th>Date</th>\n",
       "      <th>Heure</th>\n",
       "      <th>Consommation (MW)</th>\n",
       "      <th>Qualite donnee</th>\n",
       "      <th>daytype0</th>\n",
       "      <th>daytype1</th>\n",
       "      <th>daytype2</th>\n",
       "      <th>daytype3</th>\n",
       "      <th>daytype4</th>\n",
       "      <th>daytype6</th>\n",
       "      <th>daytype5</th>\n",
       "      <th>daytype7</th>\n",
       "      <th>daytype8</th>\n",
       "      <th>daytype</th>\n",
       "      <th>Consommation</th>\n",
       "    </tr>\n",
       "  </thead>\n",
       "  <tbody>\n",
       "    <tr>\n",
       "      <th>0</th>\n",
       "      <td>149461</td>\n",
       "      <td>2016-01-02T09:00:00+01:00</td>\n",
       "      <td>2016-01-02</td>\n",
       "      <td>09:00</td>\n",
       "      <td>52975</td>\n",
       "      <td>DÃ©finitive</td>\n",
       "      <td>False</td>\n",
       "      <td>False</td>\n",
       "      <td>True</td>\n",
       "      <td>False</td>\n",
       "      <td>False</td>\n",
       "      <td>False</td>\n",
       "      <td>False</td>\n",
       "      <td>True</td>\n",
       "      <td>True</td>\n",
       "      <td>8</td>\n",
       "      <td>52975000000</td>\n",
       "    </tr>\n",
       "    <tr>\n",
       "      <th>1</th>\n",
       "      <td>149460</td>\n",
       "      <td>2016-01-02T07:00:00+01:00</td>\n",
       "      <td>2016-01-02</td>\n",
       "      <td>07:00</td>\n",
       "      <td>49417</td>\n",
       "      <td>DÃ©finitive</td>\n",
       "      <td>False</td>\n",
       "      <td>False</td>\n",
       "      <td>True</td>\n",
       "      <td>False</td>\n",
       "      <td>False</td>\n",
       "      <td>False</td>\n",
       "      <td>False</td>\n",
       "      <td>True</td>\n",
       "      <td>True</td>\n",
       "      <td>8</td>\n",
       "      <td>49417000000</td>\n",
       "    </tr>\n",
       "    <tr>\n",
       "      <th>2</th>\n",
       "      <td>149462</td>\n",
       "      <td>2016-01-02T10:00:00+01:00</td>\n",
       "      <td>2016-01-02</td>\n",
       "      <td>10:00</td>\n",
       "      <td>55737</td>\n",
       "      <td>DÃ©finitive</td>\n",
       "      <td>False</td>\n",
       "      <td>False</td>\n",
       "      <td>True</td>\n",
       "      <td>False</td>\n",
       "      <td>False</td>\n",
       "      <td>False</td>\n",
       "      <td>False</td>\n",
       "      <td>True</td>\n",
       "      <td>True</td>\n",
       "      <td>8</td>\n",
       "      <td>55737000000</td>\n",
       "    </tr>\n",
       "    <tr>\n",
       "      <th>3</th>\n",
       "      <td>149463</td>\n",
       "      <td>2016-01-02T11:00:00+01:00</td>\n",
       "      <td>2016-01-02</td>\n",
       "      <td>11:00</td>\n",
       "      <td>57237</td>\n",
       "      <td>DÃ©finitive</td>\n",
       "      <td>False</td>\n",
       "      <td>False</td>\n",
       "      <td>True</td>\n",
       "      <td>False</td>\n",
       "      <td>False</td>\n",
       "      <td>False</td>\n",
       "      <td>False</td>\n",
       "      <td>True</td>\n",
       "      <td>True</td>\n",
       "      <td>8</td>\n",
       "      <td>57237000000</td>\n",
       "    </tr>\n",
       "    <tr>\n",
       "      <th>4</th>\n",
       "      <td>149464</td>\n",
       "      <td>2016-01-02T13:00:00+01:00</td>\n",
       "      <td>2016-01-02</td>\n",
       "      <td>13:00</td>\n",
       "      <td>61223</td>\n",
       "      <td>DÃ©finitive</td>\n",
       "      <td>False</td>\n",
       "      <td>False</td>\n",
       "      <td>True</td>\n",
       "      <td>False</td>\n",
       "      <td>False</td>\n",
       "      <td>False</td>\n",
       "      <td>False</td>\n",
       "      <td>True</td>\n",
       "      <td>True</td>\n",
       "      <td>8</td>\n",
       "      <td>61223000000</td>\n",
       "    </tr>\n",
       "  </tbody>\n",
       "</table>\n",
       "</div>"
      ],
      "text/plain": [
       "   Unnamed: 0               Date - Heure        Date  Heure  \\\n",
       "0      149461  2016-01-02T09:00:00+01:00  2016-01-02  09:00   \n",
       "1      149460  2016-01-02T07:00:00+01:00  2016-01-02  07:00   \n",
       "2      149462  2016-01-02T10:00:00+01:00  2016-01-02  10:00   \n",
       "3      149463  2016-01-02T11:00:00+01:00  2016-01-02  11:00   \n",
       "4      149464  2016-01-02T13:00:00+01:00  2016-01-02  13:00   \n",
       "\n",
       "   Consommation (MW) Qualite donnee  daytype0  daytype1  daytype2  daytype3  \\\n",
       "0              52975    DÃ©finitive     False     False      True     False   \n",
       "1              49417    DÃ©finitive     False     False      True     False   \n",
       "2              55737    DÃ©finitive     False     False      True     False   \n",
       "3              57237    DÃ©finitive     False     False      True     False   \n",
       "4              61223    DÃ©finitive     False     False      True     False   \n",
       "\n",
       "   daytype4  daytype6  daytype5  daytype7  daytype8  daytype  Consommation  \n",
       "0     False     False     False      True      True        8   52975000000  \n",
       "1     False     False     False      True      True        8   49417000000  \n",
       "2     False     False     False      True      True        8   55737000000  \n",
       "3     False     False     False      True      True        8   57237000000  \n",
       "4     False     False     False      True      True        8   61223000000  "
      ]
     },
     "execution_count": 17,
     "metadata": {},
     "output_type": "execute_result"
    }
   ],
   "source": [
    "df['Consommation']=df['Consommation (MW)']*10**6\n",
    "#df.head()"
   ]
  },
  {
   "cell_type": "markdown",
   "metadata": {},
   "source": [
    "# Gibbs Sampling"
   ]
  },
  {
   "cell_type": "code",
   "execution_count": 19,
   "metadata": {},
   "outputs": [],
   "source": [
    "def pf_init_gibbs(temperature_list, daytype_list, consumption_list, init_iterations, nb_particles, sigma2, kappa, u_heat, log):\n",
    "    \"\"\"\n",
    "    Parameters :\n",
    "    temperature_list: list of temperatures (per day)\n",
    "    daytype_list: list of daytypes (per day)\n",
    "    consumption_list: list of electricity consumption (per day)\n",
    "    init_iterations: number of iterations for the initialization step\n",
    "    nb_particles: number of particles\n",
    "    sigma2: initial sigma squared (fixed)\n",
    "    kappa: \n",
    "    u_heat: \n",
    "    log: if True returns value of the computed parameters during the sampling\n",
    "    \"\"\"\n",
    "    # Variables initialization\n",
    "    s = np.zeros((init_iterations, nb_particles)) \n",
    "    g_heat = np.zeros((init_iterations, nb_particles))\n",
    "    #sigma_s and sigma_g are fixed\n",
    "    sigma_s_star_2 = np.zeros((1, nb_particles)) \n",
    "    sigma_g_star_2 = np.zeros((1, nb_particles))\n",
    "\n",
    "    #Gibbs : Initialization\n",
    "    s[0,0] = truncnorm.rvs(a = 0,b = math.inf, loc= 0, scale = 10**4, size=1)[0]\n",
    "    g_heat[0,0] =  truncnorm.rvs(a = - math.inf,b = 0, loc= 0, scale = 10**4, size=1)[0]\n",
    "    sigma_s_star_2[0, 0] = invgamma.rvs(a=10**(-2), scale=10**(2), size = 1)[0]\n",
    "    sigma_g_star_2[0, 0] = invgamma.rvs(a=10**(-2), scale=10**(2), size = 1)[0]\n",
    "    \n",
    "    #Gibbs : Step 0\n",
    "    sigma_s_star0 = math.sqrt(sigma_s_star_2[0,0])\n",
    "    sigma_g_star0 = math.sqrt(sigma_g_star_2[0,0])\n",
    "    for i in range(1, init_iterations):\n",
    "        s[i,0] = s[i-1,0] + \\\n",
    "                 truncnorm.rvs(a = -s[i-1,0]/sigma_s_star0,b = math.inf, loc= 0, scale = sigma_s_star0, size=1)[0] #page 18\n",
    "        g_heat[i,0] = g_heat[i-1,0] + \\\n",
    "                      truncnorm.rvs(a = -math.inf, b=- g_heat[i-1,0]/sigma_g_star0, loc= 0, scale = sigma_g_star0, size=1)[0]\n",
    "    \n",
    "    #Gibbs : step t > 0\n",
    "    for j in range(1, nb_particles):\n",
    "        if log:\n",
    "            print(\"Particle \" + str(j) + \"/\" + str(nb_particles))\n",
    "        else:\n",
    "            if(j%10**4==0):\n",
    "                print(\"Particle \" + str(j) + \"/\" + str(nb_particles))\n",
    "        s[:,j] = s[:,j-1]\n",
    "        g_heat[:,j] = g_heat[:,j-1]\n",
    "        sigma_s_star_2[:,j] = sigma_s_star_2[:,j-1]\n",
    "        sigma_g_star_2[:,j] = sigma_g_star_2[:,j-1]\n",
    "        \n",
    "        # Simulate s0\n",
    "        #Compute variance and mean denominator\n",
    "        denom_s_0 = (10**4)*sigma_s_star_2[0, j]*(kappa[daytype_list[0]]**2) + sigma2*sigma_s_star_2[0, j] + (10**8)*sigma2 \n",
    "        #Compute mean numerator\n",
    "        numerator_mean_s_0 = (10**4)*sigma2* s[1,j] + (10**8)*sigma_s_star_2[0, j]*kappa[daytype_list[0]]*consumption_list[0]\n",
    "        if (u_heat > temperature_list[0]):\n",
    "            numerator_mean_s_0 -= (10**4)*sigma_s_star_2[0, j]*kappa[daytype_list[0]]*g_heat[0,j]*(temperature_list[0] - u_heat)\n",
    "        #Compute the final parameters of the truncated normal that simulates from the full conditional of s_0\n",
    "        #Mean\n",
    "        mean_s_0 = numerator_mean_s_0 / denom_s_0\n",
    "        #Variance\n",
    "        var_s_0 = ((10**8) *sigma2*sigma_s_star_2[0, j]) / denom_s_0\n",
    "        std_s_0 = math.sqrt(var_s_0)\n",
    "\n",
    "        a=-mean_s_0/std_s_0\n",
    "        while True:\n",
    "            s[0,j] = truncnorm.rvs(a = a, b = math.inf, loc= mean_s_0, scale = std_s_0, size=1)[0]\n",
    "            if(s[0,j]!=math.inf):\n",
    "                break\n",
    "        if log:\n",
    "            print(\"s[0,\"+str(j)+\"]\")\n",
    "            print(s[0,j])\n",
    "        \n",
    "        # Simulate s(i), i>0\n",
    "        for i in range(1, init_iterations):\n",
    "            denom_s_i = 2*sigma2 + sigma_s_star_2[0, j]*(kappa[daytype_list[i]]**2)\n",
    "            dependence_next_s = 0\n",
    "            if (i+1 < init_iterations-1):\n",
    "                dependence_next_s = s[i+1,j]\n",
    "            #Compute mean numerator\n",
    "            numerator_mean_s_i = sigma2*(s[i-1,j] + dependence_next_s) + \\\n",
    "                                 sigma_s_star_2[0, j]*kappa[daytype_list[i]]*(consumption_list[i])\n",
    "            if (u_heat > temperature_list[i]):\n",
    "                numerator_mean_s_i = numerator_mean_s_i - \\\n",
    "                                     sigma_s_star_2[0, j]*kappa[daytype_list[i]]*g_heat[i,j]*(temperature_list[i] - u_heat)\n",
    "            mean_s_i = numerator_mean_s_i / denom_s_i\n",
    "            var_s_i = (sigma2*sigma_s_star_2[0, j]) / denom_s_i\n",
    "            std_s_i = math.sqrt(var_s_i)\n",
    "            \n",
    "            a=-mean_s_i/std_s_i\n",
    "            temp=0\n",
    "            while True:\n",
    "                s[i,j] = truncnorm.rvs(a = a, b = math.inf, loc= mean_s_i, scale = std_s_i, size=1)[0]\n",
    "                if(s[i,j]!=math.inf and s[i,j]!=-math.inf):\n",
    "                    break\n",
    "                \n",
    "                temp+=1\n",
    "                if(temp%5==0):\n",
    "                    print(temp)\n",
    "            if log:\n",
    "                print(\"s[\"+str(i)+\",\"+str(j)+\"]\")\n",
    "                print(s[i,j])\n",
    "        \n",
    "        # Simulate g_heat0\n",
    "        denom_g_0 = sigma2*sigma_g_star_2[0, j] + (10**8)*sigma2\n",
    "        numerator_mean_g_0 = (10**8)*sigma2* g_heat[1,j]\n",
    "        if (u_heat > temperature_list[0]):\n",
    "            denom_g_0 = denom_g_0 + (10**8)*sigma_g_star_2[0, j]*((temperature_list[0] - u_heat )**2)\n",
    "            numerator_mean_g_0 = numerator_mean_g_0 + \\\n",
    "                                 (10**8)*sigma_g_star_2[0, j]*(temperature_list[0] - u_heat)*(consumption_list[0] - s[0,j]*kappa[daytype_list[0]])\n",
    "        #Compute the final parameters of the truncated normal that simulates from the full conditional of g_0\n",
    "        mean_g_0 = numerator_mean_g_0 / denom_g_0\n",
    "        var_g_0 = ((10**8) *sigma2*sigma_g_star_2[0, j]) / denom_g_0\n",
    "        std_g_0 = math.sqrt(var_g_0)\n",
    "\n",
    "        b=-mean_g_0/std_g_0\n",
    "        while True:\n",
    "            g_heat[0,j] =  truncnorm.rvs(a = -math.inf, b = b, loc= mean_g_0, scale = std_g_0, size=1)[0]\n",
    "            if(g_heat[0,j]!=-math.inf):\n",
    "                break\n",
    "        if log:\n",
    "            print(\"g_heat[\"+str(0)+\",\"+str(j)+\"]\")\n",
    "            print(g_heat[0,j])\n",
    "\n",
    "        # Simulate g_heat(i), i>0\n",
    "        for i in range(1, init_iterations):\n",
    "            dependence_next_g = 0\n",
    "            if (i+1 < init_iterations-1):\n",
    "                dependence_next_g = g_heat[i+1,j]\n",
    "\n",
    "            denom_g_i = 2*sigma2\n",
    "            numerator_mean_g_i = sigma2*(g_heat[i-1,j] + dependence_next_g)\n",
    "            if (u_heat > temperature_list[i]):\n",
    "                denom_g_i = denom_g_i + sigma_g_star_2[0, j]*((temperature_list[i] - u_heat )**2)\n",
    "                numerator_mean_g_i = numerator_mean_g_i + \\\n",
    "                                     sigma_g_star_2[0, j]*(temperature_list[i] - u_heat )*(consumption_list[i] - s[i,j]*kappa[daytype_list[i]])\n",
    "\n",
    "            mean_g_i = numerator_mean_g_i / denom_g_i\n",
    "            var_g_i = (sigma2*sigma_g_star_2[0, j]) / denom_g_i\n",
    "            std_g_i = math.sqrt(var_g_i)\n",
    "\n",
    "            b=-mean_g_i/std_g_i\n",
    "            while True:\n",
    "                g_heat[i,j] =  truncnorm.rvs(a = -math.inf, b = b, loc= mean_g_i, scale = std_g_i, size=1)[0]\n",
    "                if(g_heat[i,j]!=-math.inf):\n",
    "                    break\n",
    "            if log:\n",
    "                print(\"g_heat[\"+str(i)+\",\"+str(j)+\"]\")\n",
    "                print(g_heat[i,j])\n",
    "\n",
    "        # Simulate the variances\n",
    "        shape_variances = 0.01 + ((init_iterations - 1)/2)\n",
    "        s_lag = np.roll(s[:,j], 1)\n",
    "        s_lag[0] = s[0,j]\n",
    "        scale_s = (0.01 + sum((s[:,j] - s_lag)**2))**(-1)\n",
    "        sigma_s_star_2[0, j] = invgamma.rvs(a=shape_variances, scale=scale_s, size = 1)[0]\n",
    "        g_lag = np.roll(g_heat[:,j], 1)\n",
    "        g_lag[0] = g_heat[0,j]\n",
    "        scale_g = (0.01 + sum((g_heat[:,j] - g_lag)**2))**(-1)\n",
    "        sigma_g_star_2[0, j] = invgamma.rvs(a=shape_variances, scale=scale_g, size = 1)[0]\n",
    "\n",
    "        if log:\n",
    "            print(s[:,j])\n",
    "            print(g_heat[:,j])\n",
    "\n",
    "    # Return the initialization of the Particle Filter at date (init_iterations - 1)\n",
    "    s_init = s[init_iterations-1,]\n",
    "    g_heat_init = g_heat[init_iterations-1,:]\n",
    "    sigma_s_init = np.sqrt(sigma_s_star_2[0,nb_particles-1])\n",
    "    sigma_g_init = np.sqrt(sigma_g_star_2[0,nb_particles-1])\n",
    "\n",
    "    x_season = kappa[daytype_list[init_iterations-1]]*s_init\n",
    "    x_heat = np.maximum((temperature_list[init_iterations-1]-u_heat)*g_heat_init,0)\n",
    "    x_init = x_season + x_heat\n",
    "\n",
    "    \"\"\"\n",
    "    if log:\n",
    "        return s_init, g_heat_init, sigma_s_init, sigma_g_init, x_init, s, g_heat, sigma_s_star_2, sigma_g_star_2\n",
    "    else:\n",
    "        return s_init, g_heat_init, sigma_s_init, sigma_g_init, x_init\n",
    "    \"\"\"\n",
    "    return s_init, g_heat_init, sigma_s_init, sigma_g_init, x_init, s, g_heat, sigma_s_star_2, sigma_g_star_2"
   ]
  },
  {
   "cell_type": "markdown",
   "metadata": {},
   "source": [
    "## Function parameters required"
   ]
  },
  {
   "cell_type": "code",
   "execution_count": 29,
   "metadata": {},
   "outputs": [],
   "source": [
    "nb_days = 15\n",
    "nb_particles = 10**5\n",
    "\n",
    "consumption = list(df[df['Heure']=='15:00']['Consommation'][:nb_days])\n",
    "temperature_ts = T_h[:nb_days] #france mean temp in jan 2016\n",
    "daytype_ts = list(df[df['Heure']=='15:00']['daytype'][:nb_days])"
   ]
  },
  {
   "cell_type": "code",
   "execution_count": 20,
   "metadata": {},
   "outputs": [
    {
     "data": {
      "text/plain": [
       "[0.1129031529568417,\n",
       " 0.05344803982865821,\n",
       " 0.09173007150355728,\n",
       " 0.01233676171968247,\n",
       " 0.025330898161188043,\n",
       " 0.29715592398865215,\n",
       " 0.07608723983649404,\n",
       " 0.18879344171012014,\n",
       " 0.1422144702948058]"
      ]
     },
     "execution_count": 20,
     "metadata": {},
     "output_type": "execute_result"
    }
   ],
   "source": [
    "#kappa daytype\n",
    "N_daytype=9\n",
    "k_day=npr.dirichlet(np.ones(N_daytype),1)\n",
    "kappa = k_day[0].tolist()\n",
    "kappa"
   ]
  },
  {
   "cell_type": "code",
   "execution_count": 21,
   "metadata": {},
   "outputs": [
    {
     "data": {
      "text/plain": [
       "7.7149398627504921e+141"
      ]
     },
     "execution_count": 21,
     "metadata": {},
     "output_type": "execute_result"
    }
   ],
   "source": [
    "#sigma 2\n",
    "sigma2=invgamma.rvs(a=10**(-2), scale=10**(2), size = 1)[0]\n",
    "sigma2"
   ]
  },
  {
   "cell_type": "code",
   "execution_count": 22,
   "metadata": {},
   "outputs": [
    {
     "data": {
      "text/plain": [
       "13.671220870543294"
      ]
     },
     "execution_count": 22,
     "metadata": {},
     "output_type": "execute_result"
    }
   ],
   "source": [
    "#u_heat\n",
    "u_h=npr.normal(14,1)  #fixed parameter, invariant to time\n",
    "u_h"
   ]
  },
  {
   "cell_type": "code",
   "execution_count": 23,
   "metadata": {
    "scrolled": true
   },
   "outputs": [
    {
     "name": "stdout",
     "output_type": "stream",
     "text": [
      "Particle 10000/100000\n",
      "Particle 20000/100000\n",
      "Particle 30000/100000\n",
      "Particle 40000/100000\n",
      "Particle 50000/100000\n",
      "Particle 60000/100000\n",
      "Particle 70000/100000\n",
      "Particle 80000/100000\n",
      "Particle 90000/100000\n",
      "--- 443.4609091281891 seconds ---\n"
     ]
    }
   ],
   "source": [
    "#Execute Gibbs sampling\n",
    "start_time = time.time()\n",
    "s_init, g_heat_init, sigma_s_init, sigma_g_init, x_init, s_evol, g_heat_evol, sigma_s_star_2_evol, sigma_g_star_2_evol = pf_init_gibbs(temperature_ts, daytype_ts, consumption, nb_days, nb_particles, sigma2, kappa, u_h, False)\n",
    "print(\"--- %s seconds ---\" % (time.time() - start_time))"
   ]
  },
  {
   "cell_type": "code",
   "execution_count": 24,
   "metadata": {},
   "outputs": [
    {
     "data": {
      "text/plain": [
       "array([  1.16093549e+11,   6.10701946e+10,   5.74572969e+09,\n",
       "         4.75739198e+09,   4.11648732e+09,   3.72364616e+09,\n",
       "         3.47391174e+09,   3.30766255e+09,   3.19165005e+09,\n",
       "         3.10675781e+09,   3.04159846e+09,   2.98916605e+09,\n",
       "         2.94503083e+09,   2.90633069e+09,   2.87118720e+09,\n",
       "         2.83835551e+09,   2.80700763e+09,   2.77659420e+09,\n",
       "         2.74675410e+09,   2.71725420e+09])"
      ]
     },
     "execution_count": 24,
     "metadata": {},
     "output_type": "execute_result"
    }
   ],
   "source": [
    "x_init[:20]"
   ]
  },
  {
   "cell_type": "code",
   "execution_count": 30,
   "metadata": {},
   "outputs": [
    {
     "data": {
      "text/plain": [
       "array([ 1.,  1.,  1.,  1.,  1.,  1.,  1.,  1.,  1.,  1.])"
      ]
     },
     "execution_count": 30,
     "metadata": {},
     "output_type": "execute_result"
    }
   ],
   "source": [
    "#Compute w_init\n",
    "w_init = np.exp(-(np.square(consumption[nb_days-1]-x_init))/(2*sigma2))\n",
    "w_init[:10]"
   ]
  },
  {
   "cell_type": "code",
   "execution_count": 31,
   "metadata": {},
   "outputs": [],
   "source": [
    "#Write initial parameters from Gibbs sampling in a file\n",
    "output_file ='data/parameters_init.pkl'\n",
    "parameters = {\n",
    "    's_init':s_init,\n",
    "    'g_heat_init':g_heat_init,\n",
    "    'sigma_s_init':sigma_s_init,\n",
    "    'sigma_g_init':sigma_g_init,\n",
    "    'x_init':x_init,\n",
    "    'w_init':w_init,\n",
    "    's_evol':s_evol,\n",
    "    'g_heat_evol':g_heat_evol,\n",
    "    'sigma_s_star_2_evol':sigma_s_star_2_evol,\n",
    "    'sigma_g_star_2_evol':sigma_g_star_2_evol,\n",
    "    'sigma2': sigma2,\n",
    "    'u_h':u_h,\n",
    "    'kappa': kappa\n",
    "}\n",
    "output = open(output_file, 'wb')\n",
    "pickle.dump(parameters, output)\n",
    "output.close()"
   ]
  },
  {
   "cell_type": "code",
   "execution_count": 32,
   "metadata": {},
   "outputs": [
    {
     "data": {
      "text/plain": [
       "{'g_heat_evol': array([[ -1.23046128e+04,  -1.33567791e+03,  -5.65927717e+09, ...,\n",
       "          -2.16993786e+00,  -2.05457068e+00,  -2.43550419e+00],\n",
       "        [ -7.81634030e+08,  -5.65927717e+09,  -1.08156836e+10, ...,\n",
       "          -1.93927265e+00,  -2.22336706e+00,  -2.18744745e+00],\n",
       "        [ -1.02590443e+10,  -1.59720900e+10,  -1.53330258e+10, ...,\n",
       "          -1.87326499e+00,  -2.07957566e+00,  -1.92247607e+00],\n",
       "        ..., \n",
       "        [ -4.24261743e+09,  -1.20360693e+10,  -4.85398311e+09, ...,\n",
       "          -1.66758199e+00,  -1.14780235e+00,  -9.06093549e-01],\n",
       "        [ -1.63132145e+10,  -1.68450867e+09,  -2.42699156e+09, ...,\n",
       "          -1.05285449e+00,  -3.99279081e-01,  -5.35378384e-01],\n",
       "        [ -2.45189115e+10,  -1.28980009e+10,  -1.21349578e+09, ...,\n",
       "          -7.74378128e-01,  -7.01308254e-02,  -8.55318383e-02]]),\n",
       " 'g_heat_init': array([ -2.45189115e+10,  -1.28980009e+10,  -1.21349578e+09, ...,\n",
       "         -7.74378128e-01,  -7.01308254e-02,  -8.55318383e-02]),\n",
       " 'kappa': [0.1129031529568417,\n",
       "  0.05344803982865821,\n",
       "  0.09173007150355728,\n",
       "  0.01233676171968247,\n",
       "  0.025330898161188043,\n",
       "  0.29715592398865215,\n",
       "  0.07608723983649404,\n",
       "  0.18879344171012014,\n",
       "  0.1422144702948058],\n",
       " 's_evol': array([[  2.50666113e+03,   8.40569306e+03,   1.36450032e+00, ...,\n",
       "           2.57833642e-01,   3.57588461e-01,   3.76460242e-02],\n",
       "        [  1.05844683e+03,   1.36450404e+04,   1.31535537e+04, ...,\n",
       "           9.28475861e-01,   7.58291099e-01,   5.83686758e-01],\n",
       "        [  1.49066271e+04,   2.63057429e+04,   2.59203815e+04, ...,\n",
       "           7.24687322e-01,   3.26417430e-01,   1.97124348e-01],\n",
       "        ..., \n",
       "        [  2.92401012e+04,   1.83747011e+04,   1.84909629e+04, ...,\n",
       "           4.10204388e-01,   2.99448272e-01,   4.01048179e-01],\n",
       "        [  1.99912874e+04,   1.29384430e+04,   9.24548146e+03, ...,\n",
       "           5.32032226e-01,   3.87615915e-01,   3.35762344e-02],\n",
       "        [  3.70868018e+04,   1.63949726e+04,   4.62274073e+03, ...,\n",
       "           4.04526851e-01,   3.21096052e-01,   4.48211475e-02]]),\n",
       " 's_init': array([  3.70868018e+04,   1.63949726e+04,   4.62274073e+03, ...,\n",
       "          4.04526851e-01,   3.21096052e-01,   4.48211475e-02]),\n",
       " 'sigma2': 7.7149398627504921e+141,\n",
       " 'sigma_g_init': 0.26224128645420103,\n",
       " 'sigma_g_star_2_evol': array([[  7.51076866e+19,   2.12015194e-22,   2.02659788e-21, ...,\n",
       "           7.45433431e-02,   6.90685093e-02,   6.87704923e-02]]),\n",
       " 'sigma_s_init': 0.31964506369585038,\n",
       " 'sigma_s_star_2_evol': array([[  1.03201370e+08,   1.19925740e-10,   3.49783862e-10, ...,\n",
       "           9.27926813e-02,   2.85264229e-01,   1.02172967e-01]]),\n",
       " 'u_h': 13.671220870543294,\n",
       " 'w_init': array([ 1.,  1.,  1., ...,  1.,  1.,  1.]),\n",
       " 'x_init': array([  1.16093549e+11,   6.10701946e+10,   5.74572969e+09, ...,\n",
       "          3.70367716e+00,   3.61513610e-01,   4.09092490e-01])}"
      ]
     },
     "execution_count": 32,
     "metadata": {},
     "output_type": "execute_result"
    }
   ],
   "source": [
    "#Steps to Load pickle file\n",
    "input_file ='data/parameters_init.pkl'\n",
    "pkl_file = open(input_file, 'rb')\n",
    "parameters_init = pickle.load(pkl_file)\n",
    "parameters_init"
   ]
  },
  {
   "cell_type": "markdown",
   "metadata": {},
   "source": [
    "### Part 2: regularize weights and x if necessary"
   ]
  }
 ],
 "metadata": {
  "kernelspec": {
   "display_name": "Python 3",
   "language": "python",
   "name": "python3"
  },
  "language_info": {
   "codemirror_mode": {
    "name": "ipython",
    "version": 3
   },
   "file_extension": ".py",
   "mimetype": "text/x-python",
   "name": "python",
   "nbconvert_exporter": "python",
   "pygments_lexer": "ipython3",
   "version": "3.6.3"
  }
 },
 "nbformat": 4,
 "nbformat_minor": 2
}
